{
 "cells": [
  {
   "cell_type": "markdown",
   "metadata": {},
   "source": [
    "# Programming For Data Science - Final Project"
   ]
  },
  {
   "attachments": {},
   "cell_type": "markdown",
   "metadata": {},
   "source": [
    "## 1. Introduction"
   ]
  },
  {
   "attachments": {},
   "cell_type": "markdown",
   "metadata": {},
   "source": [
    "(Hà ghi introduction)"
   ]
  },
  {
   "attachments": {},
   "cell_type": "markdown",
   "metadata": {},
   "source": [
    "### _1.0. Group members_"
   ]
  },
  {
   "cell_type": "markdown",
   "metadata": {},
   "source": [
    "| Name              | ID       |\n",
    "|-------------------|----------|\n",
    "| Pham Dang Son Ha |21127206|\n",
    "| Nguyen Cao Khoi   | 21127632 |"
   ]
  },
  {
   "attachments": {},
   "cell_type": "markdown",
   "metadata": {},
   "source": [
    "### _1.1. Table of Contents_"
   ]
  },
  {
   "attachments": {},
   "cell_type": "markdown",
   "metadata": {},
   "source": [
    "1. [Introduction](#1.-Introduction)\n",
    "\n",
    "2. [Collecting Data](#2.-Collecting-Data)\n",
    "\n",
    "3. [Exploring And Preprocessing Data](#3.-Exploring-And-Preprocessing-Data)\n",
    "\n",
    "4. [Asking Meaningful Questions And Analyzing](#4.-Asking-Meaningful-Questions-And-Analyzing)\n",
    "\n",
    "5. [Reflection](#5.-Reflection)\n",
    "\n",
    "6. [References](#6.-References)"
   ]
  },
  {
   "attachments": {},
   "cell_type": "markdown",
   "metadata": {},
   "source": [
    "## 2. Collecting Data"
   ]
  },
  {
   "attachments": {},
   "cell_type": "markdown",
   "metadata": {},
   "source": [
    "### _2.1. Subject And Source_"
   ]
  },
  {
   "cell_type": "markdown",
   "metadata": {},
   "source": [
    "-  Subject: The [Online Retails Sale Dataset](https://www.kaggle.com/datasets/rohitmahulkar/online-retails-sale-dataset/data?fbclid=IwAR073q0CYe_aoD5bjPNrycjMGsDoXCxytfm8p7WpWJTBH9XkqrOCrbV_LRU) contains transactions from 12/01/2010 to 12/09/2011 of an online retail company based in the UK. It includes 10 attributes, and the number of rows in the dataset is 541,909 rows.\n",
    "\n",
    "- Source: The author got this data from [Tata Data Visualisation: Empowering Business with Effective Insights](https://www.theforage.com/simulations/tata/data-visualisation-p5xo), which is a virtual internship program offered by Tata Insights and Quants (Tata iQ) on the Forage platform."
   ]
  },
  {
   "attachments": {},
   "cell_type": "markdown",
   "metadata": {},
   "source": [
    "### _2.2. Authors And Copyright_"
   ]
  },
  {
   "cell_type": "markdown",
   "metadata": {},
   "source": [
    "- Author: [Rohit Mahulkar](https://www.kaggle.com/rohitmahulkar) (Owner)\n",
    "\n",
    "- Copyright: [CC0: Public Domain](https://creativecommons.org/publicdomain/zero/1.0/) - This means others can freely use, modify, and build upon these works for any purpose without any restrictions."
   ]
  },
  {
   "attachments": {},
   "cell_type": "markdown",
   "metadata": {},
   "source": [
    "### _2.3. The way authors collect data_"
   ]
  },
  {
   "cell_type": "markdown",
   "metadata": {},
   "source": [
    "- The author did not directly collect the data but was provided during his or her virtual internship program. In the program, participants are given a dataset and are tasked with cleaning, transforming, and analyzing the data to provide valuable insights\n",
    "\n",
    "- The data collection methodology is not explicitly mentioned in the program. However, given that the dataset is about an online retail company, it’s likely that the data was collected from the company’s transaction records or customer database."
   ]
  },
  {
   "attachments": {},
   "cell_type": "markdown",
   "metadata": {},
   "source": [
    "## 3. Exploring And Preprocessing Data"
   ]
  },
  {
   "attachments": {},
   "cell_type": "markdown",
   "metadata": {},
   "source": [
    "### _3.1. Import libraries_"
   ]
  },
  {
   "cell_type": "code",
   "execution_count": 1,
   "metadata": {},
   "outputs": [
    {
     "name": "stdout",
     "output_type": "stream",
     "text": [
      "Requirement already satisfied: numpy in c:\\users\\nc\\appdata\\local\\programs\\python\\python311\\lib\\site-packages (1.26.0)\n"
     ]
    },
    {
     "name": "stderr",
     "output_type": "stream",
     "text": [
      "\n",
      "[notice] A new release of pip is available: 23.3.1 -> 23.3.2\n",
      "[notice] To update, run: python.exe -m pip install --upgrade pip\n"
     ]
    },
    {
     "name": "stdout",
     "output_type": "stream",
     "text": [
      "Requirement already satisfied: matplotlib in c:\\users\\nc\\appdata\\local\\programs\\python\\python311\\lib\\site-packages (3.8.0)\n",
      "Requirement already satisfied: contourpy>=1.0.1 in c:\\users\\nc\\appdata\\local\\programs\\python\\python311\\lib\\site-packages (from matplotlib) (1.1.0)\n",
      "Requirement already satisfied: cycler>=0.10 in c:\\users\\nc\\appdata\\local\\programs\\python\\python311\\lib\\site-packages (from matplotlib) (0.11.0)\n",
      "Requirement already satisfied: fonttools>=4.22.0 in c:\\users\\nc\\appdata\\local\\programs\\python\\python311\\lib\\site-packages (from matplotlib) (4.40.0)\n",
      "Requirement already satisfied: kiwisolver>=1.0.1 in c:\\users\\nc\\appdata\\local\\programs\\python\\python311\\lib\\site-packages (from matplotlib) (1.4.4)\n",
      "Requirement already satisfied: numpy<2,>=1.21 in c:\\users\\nc\\appdata\\local\\programs\\python\\python311\\lib\\site-packages (from matplotlib) (1.26.0)\n",
      "Requirement already satisfied: packaging>=20.0 in c:\\users\\nc\\appdata\\local\\programs\\python\\python311\\lib\\site-packages (from matplotlib) (23.1)\n",
      "Requirement already satisfied: pillow>=6.2.0 in c:\\users\\nc\\appdata\\local\\programs\\python\\python311\\lib\\site-packages (from matplotlib) (10.0.0)\n",
      "Requirement already satisfied: pyparsing>=2.3.1 in c:\\users\\nc\\appdata\\local\\programs\\python\\python311\\lib\\site-packages (from matplotlib) (3.1.0)\n",
      "Requirement already satisfied: python-dateutil>=2.7 in c:\\users\\nc\\appdata\\local\\programs\\python\\python311\\lib\\site-packages (from matplotlib) (2.8.2)\n",
      "Requirement already satisfied: six>=1.5 in c:\\users\\nc\\appdata\\local\\programs\\python\\python311\\lib\\site-packages (from python-dateutil>=2.7->matplotlib) (1.16.0)\n"
     ]
    },
    {
     "name": "stderr",
     "output_type": "stream",
     "text": [
      "\n",
      "[notice] A new release of pip is available: 23.3.1 -> 23.3.2\n",
      "[notice] To update, run: python.exe -m pip install --upgrade pip\n"
     ]
    },
    {
     "name": "stdout",
     "output_type": "stream",
     "text": [
      "Requirement already satisfied: seaborn in c:\\users\\nc\\appdata\\local\\programs\\python\\python311\\lib\\site-packages (0.12.2)"
     ]
    },
    {
     "name": "stderr",
     "output_type": "stream",
     "text": [
      "\n",
      "[notice] A new release of pip is available: 23.3.1 -> 23.3.2\n",
      "[notice] To update, run: python.exe -m pip install --upgrade pip\n"
     ]
    },
    {
     "name": "stdout",
     "output_type": "stream",
     "text": [
      "\n",
      "Requirement already satisfied: numpy!=1.24.0,>=1.17 in c:\\users\\nc\\appdata\\local\\programs\\python\\python311\\lib\\site-packages (from seaborn) (1.26.0)\n",
      "Requirement already satisfied: pandas>=0.25 in c:\\users\\nc\\appdata\\local\\programs\\python\\python311\\lib\\site-packages (from seaborn) (2.1.1)\n",
      "Requirement already satisfied: matplotlib!=3.6.1,>=3.1 in c:\\users\\nc\\appdata\\local\\programs\\python\\python311\\lib\\site-packages (from seaborn) (3.8.0)\n",
      "Requirement already satisfied: contourpy>=1.0.1 in c:\\users\\nc\\appdata\\local\\programs\\python\\python311\\lib\\site-packages (from matplotlib!=3.6.1,>=3.1->seaborn) (1.1.0)\n",
      "Requirement already satisfied: cycler>=0.10 in c:\\users\\nc\\appdata\\local\\programs\\python\\python311\\lib\\site-packages (from matplotlib!=3.6.1,>=3.1->seaborn) (0.11.0)\n",
      "Requirement already satisfied: fonttools>=4.22.0 in c:\\users\\nc\\appdata\\local\\programs\\python\\python311\\lib\\site-packages (from matplotlib!=3.6.1,>=3.1->seaborn) (4.40.0)\n",
      "Requirement already satisfied: kiwisolver>=1.0.1 in c:\\users\\nc\\appdata\\local\\programs\\python\\python311\\lib\\site-packages (from matplotlib!=3.6.1,>=3.1->seaborn) (1.4.4)\n",
      "Requirement already satisfied: packaging>=20.0 in c:\\users\\nc\\appdata\\local\\programs\\python\\python311\\lib\\site-packages (from matplotlib!=3.6.1,>=3.1->seaborn) (23.1)\n",
      "Requirement already satisfied: pillow>=6.2.0 in c:\\users\\nc\\appdata\\local\\programs\\python\\python311\\lib\\site-packages (from matplotlib!=3.6.1,>=3.1->seaborn) (10.0.0)\n",
      "Requirement already satisfied: pyparsing>=2.3.1 in c:\\users\\nc\\appdata\\local\\programs\\python\\python311\\lib\\site-packages (from matplotlib!=3.6.1,>=3.1->seaborn) (3.1.0)\n",
      "Requirement already satisfied: python-dateutil>=2.7 in c:\\users\\nc\\appdata\\local\\programs\\python\\python311\\lib\\site-packages (from matplotlib!=3.6.1,>=3.1->seaborn) (2.8.2)\n",
      "Requirement already satisfied: pytz>=2020.1 in c:\\users\\nc\\appdata\\local\\programs\\python\\python311\\lib\\site-packages (from pandas>=0.25->seaborn) (2023.3)\n",
      "Requirement already satisfied: tzdata>=2022.1 in c:\\users\\nc\\appdata\\local\\programs\\python\\python311\\lib\\site-packages (from pandas>=0.25->seaborn) (2023.3)\n",
      "Requirement already satisfied: six>=1.5 in c:\\users\\nc\\appdata\\local\\programs\\python\\python311\\lib\\site-packages (from python-dateutil>=2.7->matplotlib!=3.6.1,>=3.1->seaborn) (1.16.0)\n",
      "Requirement already satisfied: datetime in c:\\users\\nc\\appdata\\local\\programs\\python\\python311\\lib\\site-packages (5.4)\n",
      "Requirement already satisfied: zope.interface in c:\\users\\nc\\appdata\\local\\programs\\python\\python311\\lib\\site-packages (from datetime) (6.1)\n",
      "Requirement already satisfied: pytz in c:\\users\\nc\\appdata\\local\\programs\\python\\python311\\lib\\site-packages (from datetime) (2023.3)\n",
      "Requirement already satisfied: setuptools in c:\\users\\nc\\appdata\\local\\programs\\python\\python311\\lib\\site-packages (from zope.interface->datetime) (65.5.0)\n"
     ]
    },
    {
     "name": "stderr",
     "output_type": "stream",
     "text": [
      "\n",
      "[notice] A new release of pip is available: 23.3.1 -> 23.3.2\n",
      "[notice] To update, run: python.exe -m pip install --upgrade pip\n"
     ]
    },
    {
     "name": "stdout",
     "output_type": "stream",
     "text": [
      "Requirement already satisfied: nltk in c:\\users\\nc\\appdata\\local\\programs\\python\\python311\\lib\\site-packages (3.8.1)\n",
      "Requirement already satisfied: click in c:\\users\\nc\\appdata\\local\\programs\\python\\python311\\lib\\site-packages (from nltk) (8.1.7)\n",
      "Requirement already satisfied: joblib in c:\\users\\nc\\appdata\\local\\programs\\python\\python311\\lib\\site-packages (from nltk) (1.3.1)\n",
      "Requirement already satisfied: regex>=2021.8.3 in c:\\users\\nc\\appdata\\local\\programs\\python\\python311\\lib\\site-packages (from nltk) (2023.10.3)\n",
      "Requirement already satisfied: tqdm in c:\\users\\nc\\appdata\\local\\programs\\python\\python311\\lib\\site-packages (from nltk) (4.66.1)\n",
      "Requirement already satisfied: colorama in c:\\users\\nc\\appdata\\roaming\\python\\python311\\site-packages (from click->nltk) (0.4.6)\n"
     ]
    },
    {
     "name": "stderr",
     "output_type": "stream",
     "text": [
      "\n",
      "[notice] A new release of pip is available: 23.3.1 -> 23.3.2\n",
      "[notice] To update, run: python.exe -m pip install --upgrade pip\n",
      "\n",
      "[notice] A new release of pip is available: 23.3.1 -> 23.3.2\n",
      "[notice] To update, run: python.exe -m pip install --upgrade pip\n"
     ]
    },
    {
     "name": "stdout",
     "output_type": "stream",
     "text": [
      "Requirement already satisfied: mlxtend in c:\\users\\nc\\appdata\\local\\programs\\python\\python311\\lib\\site-packages (0.22.0)\n",
      "Requirement already satisfied: scipy>=1.2.1 in c:\\users\\nc\\appdata\\local\\programs\\python\\python311\\lib\\site-packages (from mlxtend) (1.11.1)\n",
      "Requirement already satisfied: numpy>=1.16.2 in c:\\users\\nc\\appdata\\local\\programs\\python\\python311\\lib\\site-packages (from mlxtend) (1.26.0)\n",
      "Requirement already satisfied: pandas>=0.24.2 in c:\\users\\nc\\appdata\\local\\programs\\python\\python311\\lib\\site-packages (from mlxtend) (2.1.1)\n",
      "Requirement already satisfied: scikit-learn>=1.0.2 in c:\\users\\nc\\appdata\\local\\programs\\python\\python311\\lib\\site-packages (from mlxtend) (1.3.1)\n",
      "Requirement already satisfied: matplotlib>=3.0.0 in c:\\users\\nc\\appdata\\local\\programs\\python\\python311\\lib\\site-packages (from mlxtend) (3.8.0)\n",
      "Requirement already satisfied: joblib>=0.13.2 in c:\\users\\nc\\appdata\\local\\programs\\python\\python311\\lib\\site-packages (from mlxtend) (1.3.1)\n",
      "Requirement already satisfied: setuptools in c:\\users\\nc\\appdata\\local\\programs\\python\\python311\\lib\\site-packages (from mlxtend) (65.5.0)\n",
      "Requirement already satisfied: contourpy>=1.0.1 in c:\\users\\nc\\appdata\\local\\programs\\python\\python311\\lib\\site-packages (from matplotlib>=3.0.0->mlxtend) (1.1.0)\n",
      "Requirement already satisfied: cycler>=0.10 in c:\\users\\nc\\appdata\\local\\programs\\python\\python311\\lib\\site-packages (from matplotlib>=3.0.0->mlxtend) (0.11.0)\n",
      "Requirement already satisfied: fonttools>=4.22.0 in c:\\users\\nc\\appdata\\local\\programs\\python\\python311\\lib\\site-packages (from matplotlib>=3.0.0->mlxtend) (4.40.0)\n",
      "Requirement already satisfied: kiwisolver>=1.0.1 in c:\\users\\nc\\appdata\\local\\programs\\python\\python311\\lib\\site-packages (from matplotlib>=3.0.0->mlxtend) (1.4.4)\n",
      "Requirement already satisfied: packaging>=20.0 in c:\\users\\nc\\appdata\\local\\programs\\python\\python311\\lib\\site-packages (from matplotlib>=3.0.0->mlxtend) (23.1)\n",
      "Requirement already satisfied: pillow>=6.2.0 in c:\\users\\nc\\appdata\\local\\programs\\python\\python311\\lib\\site-packages (from matplotlib>=3.0.0->mlxtend) (10.0.0)\n",
      "Requirement already satisfied: pyparsing>=2.3.1 in c:\\users\\nc\\appdata\\local\\programs\\python\\python311\\lib\\site-packages (from matplotlib>=3.0.0->mlxtend) (3.1.0)\n",
      "Requirement already satisfied: python-dateutil>=2.7 in c:\\users\\nc\\appdata\\local\\programs\\python\\python311\\lib\\site-packages (from matplotlib>=3.0.0->mlxtend) (2.8.2)\n",
      "Requirement already satisfied: pytz>=2020.1 in c:\\users\\nc\\appdata\\local\\programs\\python\\python311\\lib\\site-packages (from pandas>=0.24.2->mlxtend) (2023.3)\n",
      "Requirement already satisfied: tzdata>=2022.1 in c:\\users\\nc\\appdata\\local\\programs\\python\\python311\\lib\\site-packages (from pandas>=0.24.2->mlxtend) (2023.3)\n",
      "Requirement already satisfied: threadpoolctl>=2.0.0 in c:\\users\\nc\\appdata\\local\\programs\\python\\python311\\lib\\site-packages (from scikit-learn>=1.0.2->mlxtend) (3.2.0)\n",
      "Requirement already satisfied: six>=1.5 in c:\\users\\nc\\appdata\\local\\programs\\python\\python311\\lib\\site-packages (from python-dateutil>=2.7->matplotlib>=3.0.0->mlxtend) (1.16.0)\n"
     ]
    }
   ],
   "source": [
    "# Import Required Libraries\n",
    "!pip install numpy\n",
    "!pip install matplotlib\n",
    "!pip install seaborn\n",
    "!pip install datetime\n",
    "!pip install nltk\n",
    "!pip install mlxtend\n",
    "\n",
    "import numpy as np\n",
    "import pandas as pd\n",
    "import matplotlib.pyplot as plt\n",
    "import seaborn as sns\n",
    "import datetime as dt\n",
    "import nltk\n",
    "from mlxtend.frequent_patterns import apriori, association_rules\n",
    "from mlxtend.preprocessing import TransactionEncoder"
   ]
  },
  {
   "attachments": {},
   "cell_type": "markdown",
   "metadata": {},
   "source": [
    "### _3.2. Loading the data_"
   ]
  },
  {
   "cell_type": "code",
   "execution_count": 2,
   "metadata": {},
   "outputs": [
    {
     "data": {
      "text/html": [
       "<div>\n",
       "<style scoped>\n",
       "    .dataframe tbody tr th:only-of-type {\n",
       "        vertical-align: middle;\n",
       "    }\n",
       "\n",
       "    .dataframe tbody tr th {\n",
       "        vertical-align: top;\n",
       "    }\n",
       "\n",
       "    .dataframe thead th {\n",
       "        text-align: right;\n",
       "    }\n",
       "</style>\n",
       "<table border=\"1\" class=\"dataframe\">\n",
       "  <thead>\n",
       "    <tr style=\"text-align: right;\">\n",
       "      <th></th>\n",
       "      <th>InvoiceNo</th>\n",
       "      <th>InvoiceDate</th>\n",
       "      <th>InvoiceTime</th>\n",
       "      <th>StockCode</th>\n",
       "      <th>Description</th>\n",
       "      <th>Quantity</th>\n",
       "      <th>UnitPrice</th>\n",
       "      <th>Totalsale</th>\n",
       "      <th>CustomerID</th>\n",
       "      <th>Country</th>\n",
       "    </tr>\n",
       "  </thead>\n",
       "  <tbody>\n",
       "    <tr>\n",
       "      <th>0</th>\n",
       "      <td>536365</td>\n",
       "      <td>01-12-2010</td>\n",
       "      <td>08:26:00 AM</td>\n",
       "      <td>85123A</td>\n",
       "      <td>WHITE HANGING HEART T-LIGHT HOLDER</td>\n",
       "      <td>6</td>\n",
       "      <td>2.55</td>\n",
       "      <td>15.30</td>\n",
       "      <td>17850.0</td>\n",
       "      <td>United Kingdom</td>\n",
       "    </tr>\n",
       "    <tr>\n",
       "      <th>1</th>\n",
       "      <td>536365</td>\n",
       "      <td>01-12-2010</td>\n",
       "      <td>08:26:00 AM</td>\n",
       "      <td>71053</td>\n",
       "      <td>WHITE METAL LANTERN</td>\n",
       "      <td>6</td>\n",
       "      <td>3.39</td>\n",
       "      <td>20.34</td>\n",
       "      <td>17850.0</td>\n",
       "      <td>United Kingdom</td>\n",
       "    </tr>\n",
       "    <tr>\n",
       "      <th>2</th>\n",
       "      <td>536365</td>\n",
       "      <td>01-12-2010</td>\n",
       "      <td>08:26:00 AM</td>\n",
       "      <td>84406B</td>\n",
       "      <td>CREAM CUPID HEARTS COAT HANGER</td>\n",
       "      <td>8</td>\n",
       "      <td>2.75</td>\n",
       "      <td>22.00</td>\n",
       "      <td>17850.0</td>\n",
       "      <td>United Kingdom</td>\n",
       "    </tr>\n",
       "    <tr>\n",
       "      <th>3</th>\n",
       "      <td>536365</td>\n",
       "      <td>01-12-2010</td>\n",
       "      <td>08:26:00 AM</td>\n",
       "      <td>84029G</td>\n",
       "      <td>KNITTED UNION FLAG HOT WATER BOTTLE</td>\n",
       "      <td>6</td>\n",
       "      <td>3.39</td>\n",
       "      <td>20.34</td>\n",
       "      <td>17850.0</td>\n",
       "      <td>United Kingdom</td>\n",
       "    </tr>\n",
       "    <tr>\n",
       "      <th>4</th>\n",
       "      <td>536365</td>\n",
       "      <td>01-12-2010</td>\n",
       "      <td>08:26:00 AM</td>\n",
       "      <td>84029E</td>\n",
       "      <td>RED WOOLLY HOTTIE WHITE HEART.</td>\n",
       "      <td>6</td>\n",
       "      <td>3.39</td>\n",
       "      <td>20.34</td>\n",
       "      <td>17850.0</td>\n",
       "      <td>United Kingdom</td>\n",
       "    </tr>\n",
       "  </tbody>\n",
       "</table>\n",
       "</div>"
      ],
      "text/plain": [
       "  InvoiceNo InvoiceDate  InvoiceTime StockCode  \\\n",
       "0    536365  01-12-2010  08:26:00 AM    85123A   \n",
       "1    536365  01-12-2010  08:26:00 AM     71053   \n",
       "2    536365  01-12-2010  08:26:00 AM    84406B   \n",
       "3    536365  01-12-2010  08:26:00 AM    84029G   \n",
       "4    536365  01-12-2010  08:26:00 AM    84029E   \n",
       "\n",
       "                           Description  Quantity  UnitPrice  Totalsale  \\\n",
       "0   WHITE HANGING HEART T-LIGHT HOLDER         6       2.55      15.30   \n",
       "1                  WHITE METAL LANTERN         6       3.39      20.34   \n",
       "2       CREAM CUPID HEARTS COAT HANGER         8       2.75      22.00   \n",
       "3  KNITTED UNION FLAG HOT WATER BOTTLE         6       3.39      20.34   \n",
       "4       RED WOOLLY HOTTIE WHITE HEART.         6       3.39      20.34   \n",
       "\n",
       "   CustomerID         Country  \n",
       "0     17850.0  United Kingdom  \n",
       "1     17850.0  United Kingdom  \n",
       "2     17850.0  United Kingdom  \n",
       "3     17850.0  United Kingdom  \n",
       "4     17850.0  United Kingdom  "
      ]
     },
     "execution_count": 2,
     "metadata": {},
     "output_type": "execute_result"
    }
   ],
   "source": [
    "data_df = pd.read_csv('Online Retail.csv')\n",
    "data_df.head()"
   ]
  },
  {
   "attachments": {},
   "cell_type": "markdown",
   "metadata": {},
   "source": [
    "### _3.3. How many rows and columns ?_"
   ]
  },
  {
   "attachments": {},
   "cell_type": "markdown",
   "metadata": {},
   "source": [
    "- There are 541909 rows and 10 columns"
   ]
  },
  {
   "cell_type": "code",
   "execution_count": 3,
   "metadata": {},
   "outputs": [
    {
     "data": {
      "text/plain": [
       "(541909, 10)"
      ]
     },
     "execution_count": 3,
     "metadata": {},
     "output_type": "execute_result"
    }
   ],
   "source": [
    "data_df.shape"
   ]
  },
  {
   "attachments": {},
   "cell_type": "markdown",
   "metadata": {},
   "source": [
    "### _3.4. What is the meaning of each row ?_"
   ]
  },
  {
   "attachments": {},
   "cell_type": "markdown",
   "metadata": {},
   "source": [
    "- The meaning of each row: a transactions of an online retail company based in the UK. "
   ]
  },
  {
   "cell_type": "code",
   "execution_count": 4,
   "metadata": {},
   "outputs": [
    {
     "data": {
      "text/html": [
       "<div>\n",
       "<style scoped>\n",
       "    .dataframe tbody tr th:only-of-type {\n",
       "        vertical-align: middle;\n",
       "    }\n",
       "\n",
       "    .dataframe tbody tr th {\n",
       "        vertical-align: top;\n",
       "    }\n",
       "\n",
       "    .dataframe thead th {\n",
       "        text-align: right;\n",
       "    }\n",
       "</style>\n",
       "<table border=\"1\" class=\"dataframe\">\n",
       "  <thead>\n",
       "    <tr style=\"text-align: right;\">\n",
       "      <th></th>\n",
       "      <th>InvoiceNo</th>\n",
       "      <th>InvoiceDate</th>\n",
       "      <th>InvoiceTime</th>\n",
       "      <th>StockCode</th>\n",
       "      <th>Description</th>\n",
       "      <th>Quantity</th>\n",
       "      <th>UnitPrice</th>\n",
       "      <th>Totalsale</th>\n",
       "      <th>CustomerID</th>\n",
       "      <th>Country</th>\n",
       "    </tr>\n",
       "  </thead>\n",
       "  <tbody>\n",
       "    <tr>\n",
       "      <th>210714</th>\n",
       "      <td>555320</td>\n",
       "      <td>02-06-2011</td>\n",
       "      <td>11:00:00 AM</td>\n",
       "      <td>22501</td>\n",
       "      <td>PICNIC BASKET WICKER LARGE</td>\n",
       "      <td>1</td>\n",
       "      <td>20.79</td>\n",
       "      <td>20.79</td>\n",
       "      <td>NaN</td>\n",
       "      <td>United Kingdom</td>\n",
       "    </tr>\n",
       "  </tbody>\n",
       "</table>\n",
       "</div>"
      ],
      "text/plain": [
       "       InvoiceNo InvoiceDate  InvoiceTime StockCode  \\\n",
       "210714    555320  02-06-2011  11:00:00 AM     22501   \n",
       "\n",
       "                       Description  Quantity  UnitPrice  Totalsale  \\\n",
       "210714  PICNIC BASKET WICKER LARGE         1      20.79      20.79   \n",
       "\n",
       "        CustomerID         Country  \n",
       "210714         NaN  United Kingdom  "
      ]
     },
     "execution_count": 4,
     "metadata": {},
     "output_type": "execute_result"
    }
   ],
   "source": [
    "data_df.sample(1)"
   ]
  },
  {
   "attachments": {},
   "cell_type": "markdown",
   "metadata": {},
   "source": [
    "### _3.5. Are there duplicated rows?_"
   ]
  },
  {
   "attachments": {},
   "cell_type": "markdown",
   "metadata": {},
   "source": [
    "- There are 5268 duplicated rows"
   ]
  },
  {
   "cell_type": "code",
   "execution_count": 5,
   "metadata": {},
   "outputs": [
    {
     "data": {
      "text/plain": [
       "5268"
      ]
     },
     "execution_count": 5,
     "metadata": {},
     "output_type": "execute_result"
    }
   ],
   "source": [
    "data_df.duplicated().sum()"
   ]
  },
  {
   "cell_type": "markdown",
   "metadata": {},
   "source": [
    "- We will remove duplicated rows and keep only the first occurence"
   ]
  },
  {
   "cell_type": "code",
   "execution_count": 6,
   "metadata": {},
   "outputs": [
    {
     "data": {
      "text/plain": [
       "(536641, 10)"
      ]
     },
     "execution_count": 6,
     "metadata": {},
     "output_type": "execute_result"
    }
   ],
   "source": [
    "data_df.drop_duplicates(inplace=True)\n",
    "\n",
    "data_df.shape"
   ]
  },
  {
   "attachments": {},
   "cell_type": "markdown",
   "metadata": {},
   "source": [
    "### _3.6. What is the meaning of each column?_"
   ]
  },
  {
   "attachments": {},
   "cell_type": "markdown",
   "metadata": {},
   "source": [
    "- The meaning of each column: \n",
    "    + `InvoiceNo`: Transactions ID for successfull orders\n",
    "    + `InvoiceDate`: Date in which the orders place\n",
    "    + `InvoiceTime`: Time stamp in which the orders place relevant to geoghraphical location\n",
    "    + `StockCode`: Products ID\n",
    "    + `Description`: Name of product (contain some missing names of products which are return, damaged, lost etc...)\n",
    "    + `Quantity`: The quantity of products sold (contain negative number of quantity which are return,damageded, lost etc...)\n",
    "    + `UnitPrice`: Selling price of a single unit of product\n",
    "    + `Totalsale`: Total of selling price. (`Totalsale` = `UnitPrice` * `Quantity`)\n",
    "    + `CustomerID`: Customer Id\n",
    "    + `Country`: Country Name"
   ]
  },
  {
   "attachments": {},
   "cell_type": "markdown",
   "metadata": {},
   "source": [
    "### _3.7. What is the current data type of each column?_"
   ]
  },
  {
   "cell_type": "code",
   "execution_count": 7,
   "metadata": {},
   "outputs": [
    {
     "data": {
      "text/plain": [
       "InvoiceNo       object\n",
       "InvoiceDate     object\n",
       "InvoiceTime     object\n",
       "StockCode       object\n",
       "Description     object\n",
       "Quantity         int64\n",
       "UnitPrice      float64\n",
       "Totalsale      float64\n",
       "CustomerID     float64\n",
       "Country         object\n",
       "dtype: object"
      ]
     },
     "execution_count": 7,
     "metadata": {},
     "output_type": "execute_result"
    }
   ],
   "source": [
    "data_df.dtypes"
   ]
  },
  {
   "attachments": {},
   "cell_type": "markdown",
   "metadata": {},
   "source": [
    "### _3.8. Are there columns having inappropriate data types?_"
   ]
  },
  {
   "attachments": {},
   "cell_type": "markdown",
   "metadata": {},
   "source": [
    "- There are 2 columns that have inapproriate data types: \n",
    "    - `InvoiceDate`: should be DataTime instead of `object`.\n",
    "    - `InvoiceTime`: should be DataTime instead of `object`.\n",
    "- We want to convert the all the columns that have `object` data type to `str` for accuracy.\n",
    "- The CustomerID should be `str` intead of `float64`"
   ]
  },
  {
   "cell_type": "code",
   "execution_count": 8,
   "metadata": {},
   "outputs": [],
   "source": [
    "data_df['InvoiceDate'] = pd.to_datetime(data_df['InvoiceDate'],format= '%d-%m-%Y')\n",
    "data_df['InvoiceTime'] = pd.to_datetime(data_df['InvoiceTime'],format= '%I:%M:%S %p')\n",
    "\n",
    "data_df['StockCode'] = data_df['StockCode'].astype(str)\n",
    "data_df['InvoiceNo'] = data_df['InvoiceNo'].astype(str)\n",
    "data_df['Description'] = data_df['Description'].astype(str)\n",
    "data_df['Country'] = data_df['Country'].astype(str)\n",
    "data_df['CustomerID'] = data_df['CustomerID'].astype(str)"
   ]
  },
  {
   "cell_type": "code",
   "execution_count": 9,
   "metadata": {},
   "outputs": [
    {
     "data": {
      "text/plain": [
       "InvoiceNo              object\n",
       "InvoiceDate    datetime64[ns]\n",
       "InvoiceTime    datetime64[ns]\n",
       "StockCode              object\n",
       "Description            object\n",
       "Quantity                int64\n",
       "UnitPrice             float64\n",
       "Totalsale             float64\n",
       "CustomerID             object\n",
       "Country                object\n",
       "dtype: object"
      ]
     },
     "execution_count": 9,
     "metadata": {},
     "output_type": "execute_result"
    }
   ],
   "source": [
    "data_df.dtypes"
   ]
  },
  {
   "attachments": {},
   "cell_type": "markdown",
   "metadata": {},
   "source": [
    "### _3.9. With each numerical column, how are values distributed?_"
   ]
  },
  {
   "attachments": {},
   "cell_type": "markdown",
   "metadata": {},
   "source": [
    "- All numberic columns:\n",
    "    - `Quantity`\n",
    "    - `UnitPrice`\n",
    "    - `Totalsale`"
   ]
  },
  {
   "cell_type": "code",
   "execution_count": 10,
   "metadata": {},
   "outputs": [
    {
     "data": {
      "text/plain": [
       "Index(['Quantity', 'UnitPrice', 'Totalsale'], dtype='object')"
      ]
     },
     "execution_count": 10,
     "metadata": {},
     "output_type": "execute_result"
    }
   ],
   "source": [
    "numeric_cols = data_df.columns[(data_df.dtypes != 'object') & (data_df.dtypes != 'datetime64[ns]')]  \n",
    "numeric_cols"
   ]
  },
  {
   "cell_type": "markdown",
   "metadata": {},
   "source": [
    "- The distribution of numerical attributes"
   ]
  },
  {
   "cell_type": "code",
   "execution_count": 11,
   "metadata": {},
   "outputs": [
    {
     "data": {
      "image/png": "[encoded data removed]",
      "text/plain": [
       "<Figure size 1200x1000 with 4 Axes>"
      ]
     },
     "metadata": {},
     "output_type": "display_data"
    }
   ],
   "source": [
    "bin_size = 30\n",
    "\n",
    "data_df[numeric_cols].hist(figsize=(12, 10), density= True, bins=bin_size)\n",
    "plt.tight_layout()\n",
    "plt.show()"
   ]
  },
  {
   "cell_type": "markdown",
   "metadata": {},
   "source": [
    "- Comments: We can not see clearly the distribution of the data because of outliers, after remove outliers we will display the distribution of the data again"
   ]
  },
  {
   "attachments": {},
   "cell_type": "markdown",
   "metadata": {},
   "source": [
    "#### _3.9.1 What is the percentage of missing values?_"
   ]
  },
  {
   "attachments": {},
   "cell_type": "markdown",
   "metadata": {},
   "source": [
    "- The percentage of missing values for each columns"
   ]
  },
  {
   "cell_type": "code",
   "execution_count": 12,
   "metadata": {},
   "outputs": [
    {
     "data": {
      "text/html": [
       "<div>\n",
       "<style scoped>\n",
       "    .dataframe tbody tr th:only-of-type {\n",
       "        vertical-align: middle;\n",
       "    }\n",
       "\n",
       "    .dataframe tbody tr th {\n",
       "        vertical-align: top;\n",
       "    }\n",
       "\n",
       "    .dataframe thead th {\n",
       "        text-align: right;\n",
       "    }\n",
       "</style>\n",
       "<table border=\"1\" class=\"dataframe\">\n",
       "  <thead>\n",
       "    <tr style=\"text-align: right;\">\n",
       "      <th></th>\n",
       "      <th>col_name</th>\n",
       "      <th>percent_missing</th>\n",
       "    </tr>\n",
       "  </thead>\n",
       "  <tbody>\n",
       "    <tr>\n",
       "      <th>0</th>\n",
       "      <td>Quantity</td>\n",
       "      <td>0.0</td>\n",
       "    </tr>\n",
       "    <tr>\n",
       "      <th>1</th>\n",
       "      <td>UnitPrice</td>\n",
       "      <td>0.0</td>\n",
       "    </tr>\n",
       "    <tr>\n",
       "      <th>2</th>\n",
       "      <td>Totalsale</td>\n",
       "      <td>0.0</td>\n",
       "    </tr>\n",
       "  </tbody>\n",
       "</table>\n",
       "</div>"
      ],
      "text/plain": [
       "    col_name  percent_missing\n",
       "0   Quantity              0.0\n",
       "1  UnitPrice              0.0\n",
       "2  Totalsale              0.0"
      ]
     },
     "execution_count": 12,
     "metadata": {},
     "output_type": "execute_result"
    }
   ],
   "source": [
    "numeric_missing_percent = pd.DataFrame({\n",
    "    'col_name': numeric_cols,\n",
    "    'percent_missing': data_df[numeric_cols].isnull().sum() * 100 / len(data_df[numeric_cols]),\n",
    "})\n",
    "numeric_missing_percent.index = np.arange(0, len(numeric_cols))\n",
    "numeric_missing_percent"
   ]
  },
  {
   "attachments": {},
   "cell_type": "markdown",
   "metadata": {},
   "source": [
    "#### _3.9.2 Min? max? Are they abnormal?_"
   ]
  },
  {
   "attachments": {},
   "cell_type": "markdown",
   "metadata": {},
   "source": [
    "- The min value of each numberic column"
   ]
  },
  {
   "cell_type": "code",
   "execution_count": 13,
   "metadata": {},
   "outputs": [
    {
     "data": {
      "text/plain": [
       "Quantity     -80995.00\n",
       "UnitPrice    -11062.06\n",
       "Totalsale   -168469.60\n",
       "dtype: float64"
      ]
     },
     "execution_count": 13,
     "metadata": {},
     "output_type": "execute_result"
    }
   ],
   "source": [
    "data_df[numeric_cols].min()"
   ]
  },
  {
   "attachments": {},
   "cell_type": "markdown",
   "metadata": {},
   "source": [
    "- The max value of each numberic column"
   ]
  },
  {
   "cell_type": "code",
   "execution_count": 14,
   "metadata": {},
   "outputs": [
    {
     "data": {
      "text/plain": [
       "Quantity      80995.0\n",
       "UnitPrice     38970.0\n",
       "Totalsale    168469.6\n",
       "dtype: float64"
      ]
     },
     "execution_count": 14,
     "metadata": {},
     "output_type": "execute_result"
    }
   ],
   "source": [
    "data_df[numeric_cols].max()"
   ]
  },
  {
   "attachments": {},
   "cell_type": "markdown",
   "metadata": {},
   "source": [
    "### _3.10. With each categorical column, how are values distributed?_"
   ]
  },
  {
   "cell_type": "code",
   "execution_count": 15,
   "metadata": {},
   "outputs": [
    {
     "data": {
      "text/plain": [
       "Index(['InvoiceNo', 'InvoiceDate', 'InvoiceTime', 'StockCode', 'Description',\n",
       "       'CustomerID', 'Country'],\n",
       "      dtype='object')"
      ]
     },
     "execution_count": 15,
     "metadata": {},
     "output_type": "execute_result"
    }
   ],
   "source": [
    "categorical_cols = data_df.columns[(data_df.dtypes == 'object') | (data_df.dtypes == 'datetime64[ns]')]\n",
    "categorical_cols"
   ]
  },
  {
   "attachments": {},
   "cell_type": "markdown",
   "metadata": {},
   "source": [
    "- The distribution of the `InvoiceTime`, `InvoiceNo`, `StockCode`, `Description`, `InvoiceDate`, `Country`, `CustomerID` column"
   ]
  },
  {
   "cell_type": "code",
   "execution_count": 16,
   "metadata": {},
   "outputs": [
    {
     "data": {
      "text/plain": [
       "InvoiceTime\n",
       "1900-01-01 15:56:00    2623\n",
       "1900-01-01 14:41:00    2536\n",
       "1900-01-01 15:17:00    2374\n",
       "1900-01-01 16:14:00    2355\n",
       "1900-01-01 14:09:00    2147\n",
       "Name: count, dtype: int64"
      ]
     },
     "execution_count": 16,
     "metadata": {},
     "output_type": "execute_result"
    }
   ],
   "source": [
    "data_df['InvoiceTime'].value_counts().head()"
   ]
  },
  {
   "cell_type": "code",
   "execution_count": 17,
   "metadata": {},
   "outputs": [
    {
     "data": {
      "text/plain": [
       "InvoiceNo\n",
       "573585    1114\n",
       "581219     749\n",
       "581492     731\n",
       "580729     721\n",
       "558475     705\n",
       "Name: count, dtype: int64"
      ]
     },
     "execution_count": 17,
     "metadata": {},
     "output_type": "execute_result"
    }
   ],
   "source": [
    "data_df['InvoiceNo'].value_counts().head()"
   ]
  },
  {
   "cell_type": "code",
   "execution_count": 18,
   "metadata": {},
   "outputs": [
    {
     "data": {
      "text/plain": [
       "StockCode\n",
       "85123A    2301\n",
       "22423     2192\n",
       "85099B    2156\n",
       "47566     1720\n",
       "20725     1626\n",
       "Name: count, dtype: int64"
      ]
     },
     "execution_count": 18,
     "metadata": {},
     "output_type": "execute_result"
    }
   ],
   "source": [
    "data_df['StockCode'].value_counts().head()"
   ]
  },
  {
   "cell_type": "code",
   "execution_count": 19,
   "metadata": {},
   "outputs": [
    {
     "data": {
      "text/plain": [
       "Description\n",
       "WHITE HANGING HEART T-LIGHT HOLDER    2357\n",
       "REGENCY CAKESTAND 3 TIER              2189\n",
       "JUMBO BAG RED RETROSPOT               2156\n",
       "PARTY BUNTING                         1720\n",
       "LUNCH BAG RED RETROSPOT               1625\n",
       "Name: count, dtype: int64"
      ]
     },
     "execution_count": 19,
     "metadata": {},
     "output_type": "execute_result"
    }
   ],
   "source": [
    "data_df['Description'].value_counts().head()"
   ]
  },
  {
   "attachments": {},
   "cell_type": "markdown",
   "metadata": {},
   "source": [
    "- The distribution of the `InvoiceDate` column"
   ]
  },
  {
   "cell_type": "code",
   "execution_count": 20,
   "metadata": {},
   "outputs": [
    {
     "data": {
      "image/png": "[encoded data removed]",
      "text/plain": [
       "<Figure size 1200x1000 with 1 Axes>"
      ]
     },
     "metadata": {},
     "output_type": "display_data"
    }
   ],
   "source": [
    "data_df['InvoiceDate'].hist(figsize=(12, 10), density= True, bins=30)\n",
    "plt.tight_layout()\n",
    "plt.show()"
   ]
  },
  {
   "attachments": {},
   "cell_type": "markdown",
   "metadata": {},
   "source": [
    "- The distribution of the `Country` column"
   ]
  },
  {
   "cell_type": "code",
   "execution_count": 21,
   "metadata": {},
   "outputs": [
    {
     "data": {
      "text/plain": [
       "<BarContainer object of 38 artists>"
      ]
     },
     "execution_count": 21,
     "metadata": {},
     "output_type": "execute_result"
    },
    {
     "data": {
      "image/png": "[encoded data removed]",
      "text/plain": [
       "<Figure size 800x800 with 1 Axes>"
      ]
     },
     "metadata": {},
     "output_type": "display_data"
    }
   ],
   "source": [
    "fig = plt.figure(figsize=(8, 8))\n",
    "plt.barh(data_df['Country'].value_counts().index, data_df['Country'].value_counts().values)"
   ]
  },
  {
   "cell_type": "markdown",
   "metadata": {},
   "source": [
    "We notice that the United Kingdom makes up a large proportion of the orders (> 90% of the total countries). This helps us to strategize that we will label the ‘country’ attribute into two categories: United Kingdom and other countries. This will help for solving the Clustering problem."
   ]
  },
  {
   "attachments": {},
   "cell_type": "markdown",
   "metadata": {},
   "source": [
    "#### _3.10.1. What is the percentage of missing values?_"
   ]
  },
  {
   "cell_type": "code",
   "execution_count": 22,
   "metadata": {},
   "outputs": [
    {
     "data": {
      "text/html": [
       "<div>\n",
       "<style scoped>\n",
       "    .dataframe tbody tr th:only-of-type {\n",
       "        vertical-align: middle;\n",
       "    }\n",
       "\n",
       "    .dataframe tbody tr th {\n",
       "        vertical-align: top;\n",
       "    }\n",
       "\n",
       "    .dataframe thead th {\n",
       "        text-align: right;\n",
       "    }\n",
       "</style>\n",
       "<table border=\"1\" class=\"dataframe\">\n",
       "  <thead>\n",
       "    <tr style=\"text-align: right;\">\n",
       "      <th></th>\n",
       "      <th>col_name</th>\n",
       "      <th>percent_missing</th>\n",
       "    </tr>\n",
       "  </thead>\n",
       "  <tbody>\n",
       "    <tr>\n",
       "      <th>0</th>\n",
       "      <td>InvoiceNo</td>\n",
       "      <td>0.000000</td>\n",
       "    </tr>\n",
       "    <tr>\n",
       "      <th>1</th>\n",
       "      <td>InvoiceDate</td>\n",
       "      <td>0.000000</td>\n",
       "    </tr>\n",
       "    <tr>\n",
       "      <th>2</th>\n",
       "      <td>InvoiceTime</td>\n",
       "      <td>0.000000</td>\n",
       "    </tr>\n",
       "    <tr>\n",
       "      <th>3</th>\n",
       "      <td>StockCode</td>\n",
       "      <td>0.000000</td>\n",
       "    </tr>\n",
       "    <tr>\n",
       "      <th>4</th>\n",
       "      <td>Description</td>\n",
       "      <td>0.270945</td>\n",
       "    </tr>\n",
       "    <tr>\n",
       "      <th>5</th>\n",
       "      <td>CustomerID</td>\n",
       "      <td>25.163377</td>\n",
       "    </tr>\n",
       "    <tr>\n",
       "      <th>6</th>\n",
       "      <td>Country</td>\n",
       "      <td>0.000000</td>\n",
       "    </tr>\n",
       "  </tbody>\n",
       "</table>\n",
       "</div>"
      ],
      "text/plain": [
       "      col_name  percent_missing\n",
       "0    InvoiceNo         0.000000\n",
       "1  InvoiceDate         0.000000\n",
       "2  InvoiceTime         0.000000\n",
       "3    StockCode         0.000000\n",
       "4  Description         0.270945\n",
       "5   CustomerID        25.163377\n",
       "6      Country         0.000000"
      ]
     },
     "execution_count": 22,
     "metadata": {},
     "output_type": "execute_result"
    }
   ],
   "source": [
    "categorical_missing_percent = pd.DataFrame({\n",
    "    'col_name': categorical_cols,\n",
    "    'percent_missing': data_df[categorical_cols].apply(lambda x: x.isnull() | x.eq('nan')).mean() * 100\n",
    "})\n",
    "categorical_missing_percent.index = np.arange(0, len(categorical_cols))\n",
    "categorical_missing_percent"
   ]
  },
  {
   "cell_type": "markdown",
   "metadata": {},
   "source": [
    "- We can see that there are only 2 columns with the data is missed. Especially the `CustumerID` columns contain the percent of missing data almost 25% of the data"
   ]
  },
  {
   "attachments": {},
   "cell_type": "markdown",
   "metadata": {},
   "source": [
    "#### _3.10.2. How many different values? Show a few_"
   ]
  },
  {
   "cell_type": "code",
   "execution_count": 23,
   "metadata": {},
   "outputs": [
    {
     "data": {
      "text/html": [
       "<div>\n",
       "<style scoped>\n",
       "    .dataframe tbody tr th:only-of-type {\n",
       "        vertical-align: middle;\n",
       "    }\n",
       "\n",
       "    .dataframe tbody tr th {\n",
       "        vertical-align: top;\n",
       "    }\n",
       "\n",
       "    .dataframe thead th {\n",
       "        text-align: right;\n",
       "    }\n",
       "</style>\n",
       "<table border=\"1\" class=\"dataframe\">\n",
       "  <thead>\n",
       "    <tr style=\"text-align: right;\">\n",
       "      <th></th>\n",
       "      <th>col_name</th>\n",
       "      <th>number_unique</th>\n",
       "    </tr>\n",
       "  </thead>\n",
       "  <tbody>\n",
       "    <tr>\n",
       "      <th>0</th>\n",
       "      <td>InvoiceNo</td>\n",
       "      <td>25900</td>\n",
       "    </tr>\n",
       "    <tr>\n",
       "      <th>1</th>\n",
       "      <td>InvoiceDate</td>\n",
       "      <td>305</td>\n",
       "    </tr>\n",
       "    <tr>\n",
       "      <th>2</th>\n",
       "      <td>InvoiceTime</td>\n",
       "      <td>774</td>\n",
       "    </tr>\n",
       "    <tr>\n",
       "      <th>3</th>\n",
       "      <td>StockCode</td>\n",
       "      <td>4070</td>\n",
       "    </tr>\n",
       "    <tr>\n",
       "      <th>4</th>\n",
       "      <td>Description</td>\n",
       "      <td>4224</td>\n",
       "    </tr>\n",
       "    <tr>\n",
       "      <th>5</th>\n",
       "      <td>CustomerID</td>\n",
       "      <td>4373</td>\n",
       "    </tr>\n",
       "    <tr>\n",
       "      <th>6</th>\n",
       "      <td>Country</td>\n",
       "      <td>38</td>\n",
       "    </tr>\n",
       "  </tbody>\n",
       "</table>\n",
       "</div>"
      ],
      "text/plain": [
       "      col_name  number_unique\n",
       "0    InvoiceNo          25900\n",
       "1  InvoiceDate            305\n",
       "2  InvoiceTime            774\n",
       "3    StockCode           4070\n",
       "4  Description           4224\n",
       "5   CustomerID           4373\n",
       "6      Country             38"
      ]
     },
     "execution_count": 23,
     "metadata": {},
     "output_type": "execute_result"
    }
   ],
   "source": [
    "unique_value = pd.DataFrame({\n",
    "    'col_name': categorical_cols,\n",
    "    'number_unique': data_df[categorical_cols].nunique(),\n",
    "})\n",
    "unique_value.index = np.arange(0, len(categorical_cols))\n",
    "unique_value"
   ]
  },
  {
   "cell_type": "code",
   "execution_count": 24,
   "metadata": {},
   "outputs": [
    {
     "data": {
      "text/plain": [
       "array(['United Kingdom', 'France', 'Australia', 'Netherlands', 'Germany',\n",
       "       'Norway', 'EIRE', 'Switzerland', 'Spain', 'Poland', 'Portugal',\n",
       "       'Italy', 'Belgium', 'Lithuania', 'Japan', 'Iceland',\n",
       "       'Channel Islands', 'Denmark', 'Cyprus', 'Sweden', 'Austria',\n",
       "       'Israel', 'Finland', 'Bahrain', 'Greece', 'Hong Kong', 'Singapore',\n",
       "       'Lebanon', 'United Arab Emirates', 'Saudi Arabia',\n",
       "       'Czech Republic', 'Canada', 'Unspecified', 'Brazil', 'USA',\n",
       "       'European Community', 'Malta', 'RSA'], dtype=object)"
      ]
     },
     "execution_count": 24,
     "metadata": {},
     "output_type": "execute_result"
    }
   ],
   "source": [
    "data_df['Country'].unique()"
   ]
  },
  {
   "cell_type": "code",
   "execution_count": 25,
   "metadata": {},
   "outputs": [
    {
     "data": {
      "text/plain": [
       "array(['WHITE HANGING HEART T-LIGHT HOLDER', 'WHITE METAL LANTERN',\n",
       "       'CREAM CUPID HEARTS COAT HANGER', ..., 'lost',\n",
       "       'CREAM HANGING HEART T-LIGHT HOLDER',\n",
       "       'PAPER CRAFT , LITTLE BIRDIE'], dtype=object)"
      ]
     },
     "execution_count": 25,
     "metadata": {},
     "output_type": "execute_result"
    }
   ],
   "source": [
    "data_df['Description'].unique()"
   ]
  },
  {
   "attachments": {},
   "cell_type": "markdown",
   "metadata": {},
   "source": [
    "#### _3.10.3. Are they abnormal?_"
   ]
  },
  {
   "attachments": {},
   "cell_type": "markdown",
   "metadata": {},
   "source": [
    "- We can say that the data is not abnormal because the histogram is symmetric with roughly equal peaks on both sides of the center."
   ]
  },
  {
   "attachments": {},
   "cell_type": "markdown",
   "metadata": {},
   "source": [
    "### _3.11. Are there any outliers in the data?_"
   ]
  },
  {
   "cell_type": "code",
   "execution_count": 26,
   "metadata": {},
   "outputs": [
    {
     "data": {
      "text/plain": [
       "(426704, 10)"
      ]
     },
     "execution_count": 26,
     "metadata": {},
     "output_type": "execute_result"
    }
   ],
   "source": [
    "for cols in numeric_cols:\n",
    "    Q1 = data_df[cols].quantile(0.25)\n",
    "    Q3 = data_df[cols].quantile(0.75)\n",
    "    IQR = Q3 - Q1\n",
    "    \n",
    "    # Filtering Values between Q1-1.5IQR and Q3+1.5IQR\n",
    "    data_df = data_df.query('(@Q1 - 1.5 * @IQR) <= {} <= (@Q3 + 1.5 * @IQR)'.format(cols))\n",
    "\n",
    "data_df.shape"
   ]
  },
  {
   "cell_type": "code",
   "execution_count": 27,
   "metadata": {},
   "outputs": [
    {
     "data": {
      "text/plain": [
       "Quantity    -12.0\n",
       "UnitPrice     0.0\n",
       "Totalsale   -14.8\n",
       "dtype: float64"
      ]
     },
     "execution_count": 27,
     "metadata": {},
     "output_type": "execute_result"
    }
   ],
   "source": [
    "data_df[numeric_cols].min()"
   ]
  },
  {
   "cell_type": "code",
   "execution_count": 28,
   "metadata": {},
   "outputs": [
    {
     "data": {
      "text/plain": [
       "Quantity     23.00\n",
       "UnitPrice     8.62\n",
       "Totalsale    33.30\n",
       "dtype: float64"
      ]
     },
     "execution_count": 28,
     "metadata": {},
     "output_type": "execute_result"
    }
   ],
   "source": [
    "data_df[numeric_cols].max()"
   ]
  },
  {
   "cell_type": "markdown",
   "metadata": {},
   "source": [
    "- The distribution of numeric columns after removing outliers:"
   ]
  },
  {
   "cell_type": "code",
   "execution_count": 29,
   "metadata": {},
   "outputs": [
    {
     "data": {
      "image/png": "[encoded data removed]",
      "text/plain": [
       "<Figure size 1200x1000 with 4 Axes>"
      ]
     },
     "metadata": {},
     "output_type": "display_data"
    }
   ],
   "source": [
    "bin_size = 30\n",
    "\n",
    "data_df[numeric_cols].hist(figsize=(12, 10), density= True, bins=bin_size)\n",
    "plt.tight_layout()\n",
    "plt.show()"
   ]
  },
  {
   "cell_type": "markdown",
   "metadata": {},
   "source": [
    "- The `Quantity` and `Totalsale` attribute is good because the histograms have the bell shape. The `UnitPrice` attribute is a little bit right skewed."
   ]
  },
  {
   "attachments": {},
   "cell_type": "markdown",
   "metadata": {},
   "source": [
    "### _3.12. Can we reduce the dimensionality of the data ?_"
   ]
  },
  {
   "cell_type": "markdown",
   "metadata": {},
   "source": [
    "- We can see that the `InvoiceDate` and `InvoiceTime` columns can be merge in to one column, we will name the merged as `InvoiceDateTime`"
   ]
  },
  {
   "cell_type": "code",
   "execution_count": 30,
   "metadata": {},
   "outputs": [
    {
     "data": {
      "text/html": [
       "<div>\n",
       "<style scoped>\n",
       "    .dataframe tbody tr th:only-of-type {\n",
       "        vertical-align: middle;\n",
       "    }\n",
       "\n",
       "    .dataframe tbody tr th {\n",
       "        vertical-align: top;\n",
       "    }\n",
       "\n",
       "    .dataframe thead th {\n",
       "        text-align: right;\n",
       "    }\n",
       "</style>\n",
       "<table border=\"1\" class=\"dataframe\">\n",
       "  <thead>\n",
       "    <tr style=\"text-align: right;\">\n",
       "      <th></th>\n",
       "      <th>InvoiceNo</th>\n",
       "      <th>StockCode</th>\n",
       "      <th>Description</th>\n",
       "      <th>Quantity</th>\n",
       "      <th>UnitPrice</th>\n",
       "      <th>Totalsale</th>\n",
       "      <th>CustomerID</th>\n",
       "      <th>Country</th>\n",
       "      <th>InvoiceDateTime</th>\n",
       "    </tr>\n",
       "  </thead>\n",
       "  <tbody>\n",
       "    <tr>\n",
       "      <th>499851</th>\n",
       "      <td>578698</td>\n",
       "      <td>23660</td>\n",
       "      <td>HENRIETTA HEN MUG</td>\n",
       "      <td>12</td>\n",
       "      <td>1.65</td>\n",
       "      <td>19.80</td>\n",
       "      <td>12620.0</td>\n",
       "      <td>France</td>\n",
       "      <td>2011-11-25 10:20:00</td>\n",
       "    </tr>\n",
       "    <tr>\n",
       "      <th>3130</th>\n",
       "      <td>536601</td>\n",
       "      <td>22632</td>\n",
       "      <td>HAND WARMER RED POLKA DOT</td>\n",
       "      <td>6</td>\n",
       "      <td>1.85</td>\n",
       "      <td>11.10</td>\n",
       "      <td>17850.0</td>\n",
       "      <td>United Kingdom</td>\n",
       "      <td>2010-12-02 08:33:00</td>\n",
       "    </tr>\n",
       "    <tr>\n",
       "      <th>361466</th>\n",
       "      <td>568346</td>\n",
       "      <td>22813</td>\n",
       "      <td>PACK 3 BOXES BIRD PANNETONE</td>\n",
       "      <td>1</td>\n",
       "      <td>4.13</td>\n",
       "      <td>4.13</td>\n",
       "      <td>14096.0</td>\n",
       "      <td>United Kingdom</td>\n",
       "      <td>2011-09-26 15:28:00</td>\n",
       "    </tr>\n",
       "    <tr>\n",
       "      <th>14502</th>\n",
       "      <td>537598</td>\n",
       "      <td>22730</td>\n",
       "      <td>ALARM CLOCK BAKELIKE IVORY</td>\n",
       "      <td>4</td>\n",
       "      <td>3.75</td>\n",
       "      <td>15.00</td>\n",
       "      <td>14135.0</td>\n",
       "      <td>United Kingdom</td>\n",
       "      <td>2010-12-07 12:37:00</td>\n",
       "    </tr>\n",
       "    <tr>\n",
       "      <th>28252</th>\n",
       "      <td>538633</td>\n",
       "      <td>22900</td>\n",
       "      <td>SET 2 TEA TOWELS I LOVE LONDON</td>\n",
       "      <td>8</td>\n",
       "      <td>2.95</td>\n",
       "      <td>23.60</td>\n",
       "      <td>16726.0</td>\n",
       "      <td>United Kingdom</td>\n",
       "      <td>2010-12-13 13:28:00</td>\n",
       "    </tr>\n",
       "  </tbody>\n",
       "</table>\n",
       "</div>"
      ],
      "text/plain": [
       "       InvoiceNo StockCode                       Description  Quantity  \\\n",
       "499851    578698     23660                HENRIETTA HEN MUG         12   \n",
       "3130      536601     22632         HAND WARMER RED POLKA DOT         6   \n",
       "361466    568346     22813      PACK 3 BOXES BIRD PANNETONE          1   \n",
       "14502     537598     22730        ALARM CLOCK BAKELIKE IVORY         4   \n",
       "28252     538633     22900   SET 2 TEA TOWELS I LOVE LONDON          8   \n",
       "\n",
       "        UnitPrice  Totalsale CustomerID         Country     InvoiceDateTime  \n",
       "499851       1.65      19.80    12620.0          France 2011-11-25 10:20:00  \n",
       "3130         1.85      11.10    17850.0  United Kingdom 2010-12-02 08:33:00  \n",
       "361466       4.13       4.13    14096.0  United Kingdom 2011-09-26 15:28:00  \n",
       "14502        3.75      15.00    14135.0  United Kingdom 2010-12-07 12:37:00  \n",
       "28252        2.95      23.60    16726.0  United Kingdom 2010-12-13 13:28:00  "
      ]
     },
     "execution_count": 30,
     "metadata": {},
     "output_type": "execute_result"
    }
   ],
   "source": [
    "data_df['InvoiceDateTime'] = data_df['InvoiceDate'] + pd.to_timedelta(data_df['InvoiceTime'].dt.strftime('%H:%M:%S'))\n",
    "\n",
    "data_df = data_df.drop(['InvoiceDate', 'InvoiceTime'], axis=1)\n",
    "\n",
    "data_df.sample(5)"
   ]
  },
  {
   "cell_type": "markdown",
   "metadata": {},
   "source": [
    "- We should also remove the rows with negative value in `UnitPrice`"
   ]
  },
  {
   "cell_type": "code",
   "execution_count": 31,
   "metadata": {},
   "outputs": [],
   "source": [
    "data_df = data_df[data_df['UnitPrice'] >= 0]"
   ]
  },
  {
   "cell_type": "markdown",
   "metadata": {},
   "source": [
    "- The shape of df after removing"
   ]
  },
  {
   "cell_type": "code",
   "execution_count": 32,
   "metadata": {},
   "outputs": [
    {
     "data": {
      "text/plain": [
       "(426704, 9)"
      ]
     },
     "execution_count": 32,
     "metadata": {},
     "output_type": "execute_result"
    }
   ],
   "source": [
    "data_df.shape"
   ]
  },
  {
   "attachments": {},
   "cell_type": "markdown",
   "metadata": {},
   "source": [
    "## 4. Asking Meaningful Questions And Analyzing"
   ]
  },
  {
   "attachments": {},
   "cell_type": "markdown",
   "metadata": {},
   "source": [
    "### _4.1. Which `Description` has the highest `Totalsale` value in a year?_"
   ]
  },
  {
   "attachments": {},
   "cell_type": "markdown",
   "metadata": {},
   "source": [
    "#### _4.1.1. What is the benefit of finding the answer to this question ?_"
   ]
  },
  {
   "attachments": {},
   "cell_type": "markdown",
   "metadata": {},
   "source": [
    "- By answering this question, the seller can know in which products will have large amount of buying or low amount of buying in the last year. \n",
    "- The seller then can have a more stradegy plan to sell their products as well as plan to import products in the next year ."
   ]
  },
  {
   "attachments": {},
   "cell_type": "markdown",
   "metadata": {},
   "source": [
    "#### _4.1.2. Data Preparation_"
   ]
  },
  {
   "cell_type": "markdown",
   "metadata": {},
   "source": [
    "- Let's get the columns list: `Description`, `Totalsale`, `InvoiceDate`."
   ]
  },
  {
   "cell_type": "code",
   "execution_count": 33,
   "metadata": {},
   "outputs": [
    {
     "data": {
      "text/html": [
       "<div>\n",
       "<style scoped>\n",
       "    .dataframe tbody tr th:only-of-type {\n",
       "        vertical-align: middle;\n",
       "    }\n",
       "\n",
       "    .dataframe tbody tr th {\n",
       "        vertical-align: top;\n",
       "    }\n",
       "\n",
       "    .dataframe thead th {\n",
       "        text-align: right;\n",
       "    }\n",
       "</style>\n",
       "<table border=\"1\" class=\"dataframe\">\n",
       "  <thead>\n",
       "    <tr style=\"text-align: right;\">\n",
       "      <th></th>\n",
       "      <th>Description</th>\n",
       "      <th>Totalsale</th>\n",
       "      <th>InvoiceDateTime</th>\n",
       "    </tr>\n",
       "  </thead>\n",
       "  <tbody>\n",
       "    <tr>\n",
       "      <th>0</th>\n",
       "      <td>WHITE HANGING HEART T-LIGHT HOLDER</td>\n",
       "      <td>15.30</td>\n",
       "      <td>2010-12-01 08:26:00</td>\n",
       "    </tr>\n",
       "    <tr>\n",
       "      <th>1</th>\n",
       "      <td>WHITE METAL LANTERN</td>\n",
       "      <td>20.34</td>\n",
       "      <td>2010-12-01 08:26:00</td>\n",
       "    </tr>\n",
       "    <tr>\n",
       "      <th>2</th>\n",
       "      <td>CREAM CUPID HEARTS COAT HANGER</td>\n",
       "      <td>22.00</td>\n",
       "      <td>2010-12-01 08:26:00</td>\n",
       "    </tr>\n",
       "    <tr>\n",
       "      <th>3</th>\n",
       "      <td>KNITTED UNION FLAG HOT WATER BOTTLE</td>\n",
       "      <td>20.34</td>\n",
       "      <td>2010-12-01 08:26:00</td>\n",
       "    </tr>\n",
       "    <tr>\n",
       "      <th>4</th>\n",
       "      <td>RED WOOLLY HOTTIE WHITE HEART.</td>\n",
       "      <td>20.34</td>\n",
       "      <td>2010-12-01 08:26:00</td>\n",
       "    </tr>\n",
       "    <tr>\n",
       "      <th>...</th>\n",
       "      <td>...</td>\n",
       "      <td>...</td>\n",
       "      <td>...</td>\n",
       "    </tr>\n",
       "    <tr>\n",
       "      <th>541904</th>\n",
       "      <td>PACK OF 20 SPACEBOY NAPKINS</td>\n",
       "      <td>10.20</td>\n",
       "      <td>2011-12-09 12:50:00</td>\n",
       "    </tr>\n",
       "    <tr>\n",
       "      <th>541905</th>\n",
       "      <td>CHILDREN'S APRON DOLLY GIRL</td>\n",
       "      <td>12.60</td>\n",
       "      <td>2011-12-09 12:50:00</td>\n",
       "    </tr>\n",
       "    <tr>\n",
       "      <th>541906</th>\n",
       "      <td>CHILDRENS CUTLERY DOLLY GIRL</td>\n",
       "      <td>16.60</td>\n",
       "      <td>2011-12-09 12:50:00</td>\n",
       "    </tr>\n",
       "    <tr>\n",
       "      <th>541907</th>\n",
       "      <td>CHILDRENS CUTLERY CIRCUS PARADE</td>\n",
       "      <td>16.60</td>\n",
       "      <td>2011-12-09 12:50:00</td>\n",
       "    </tr>\n",
       "    <tr>\n",
       "      <th>541908</th>\n",
       "      <td>BAKING SET 9 PIECE RETROSPOT</td>\n",
       "      <td>14.85</td>\n",
       "      <td>2011-12-09 12:50:00</td>\n",
       "    </tr>\n",
       "  </tbody>\n",
       "</table>\n",
       "<p>426704 rows × 3 columns</p>\n",
       "</div>"
      ],
      "text/plain": [
       "                                Description  Totalsale     InvoiceDateTime\n",
       "0        WHITE HANGING HEART T-LIGHT HOLDER      15.30 2010-12-01 08:26:00\n",
       "1                       WHITE METAL LANTERN      20.34 2010-12-01 08:26:00\n",
       "2            CREAM CUPID HEARTS COAT HANGER      22.00 2010-12-01 08:26:00\n",
       "3       KNITTED UNION FLAG HOT WATER BOTTLE      20.34 2010-12-01 08:26:00\n",
       "4            RED WOOLLY HOTTIE WHITE HEART.      20.34 2010-12-01 08:26:00\n",
       "...                                     ...        ...                 ...\n",
       "541904          PACK OF 20 SPACEBOY NAPKINS      10.20 2011-12-09 12:50:00\n",
       "541905         CHILDREN'S APRON DOLLY GIRL       12.60 2011-12-09 12:50:00\n",
       "541906        CHILDRENS CUTLERY DOLLY GIRL       16.60 2011-12-09 12:50:00\n",
       "541907      CHILDRENS CUTLERY CIRCUS PARADE      16.60 2011-12-09 12:50:00\n",
       "541908        BAKING SET 9 PIECE RETROSPOT       14.85 2011-12-09 12:50:00\n",
       "\n",
       "[426704 rows x 3 columns]"
      ]
     },
     "execution_count": 33,
     "metadata": {},
     "output_type": "execute_result"
    }
   ],
   "source": [
    "df = data_df[['Description', 'Totalsale', 'InvoiceDateTime']]\n",
    "df"
   ]
  },
  {
   "attachments": {},
   "cell_type": "markdown",
   "metadata": {},
   "source": [
    "- Split the data in `InvoiceDate` columns to `Year`, `Month`. `Day` columns and change the data type from `datetime` to `Int64`."
   ]
  },
  {
   "cell_type": "code",
   "execution_count": 34,
   "metadata": {},
   "outputs": [
    {
     "data": {
      "text/html": [
       "<div>\n",
       "<style scoped>\n",
       "    .dataframe tbody tr th:only-of-type {\n",
       "        vertical-align: middle;\n",
       "    }\n",
       "\n",
       "    .dataframe tbody tr th {\n",
       "        vertical-align: top;\n",
       "    }\n",
       "\n",
       "    .dataframe thead th {\n",
       "        text-align: right;\n",
       "    }\n",
       "</style>\n",
       "<table border=\"1\" class=\"dataframe\">\n",
       "  <thead>\n",
       "    <tr style=\"text-align: right;\">\n",
       "      <th></th>\n",
       "      <th>Description</th>\n",
       "      <th>Totalsale</th>\n",
       "      <th>InvoiceDateTime</th>\n",
       "      <th>Day</th>\n",
       "      <th>Month</th>\n",
       "      <th>Year</th>\n",
       "    </tr>\n",
       "  </thead>\n",
       "  <tbody>\n",
       "    <tr>\n",
       "      <th>0</th>\n",
       "      <td>WHITE HANGING HEART T-LIGHT HOLDER</td>\n",
       "      <td>15.30</td>\n",
       "      <td>2010-12-01 08:26:00</td>\n",
       "      <td>1</td>\n",
       "      <td>12</td>\n",
       "      <td>2010</td>\n",
       "    </tr>\n",
       "    <tr>\n",
       "      <th>1</th>\n",
       "      <td>WHITE METAL LANTERN</td>\n",
       "      <td>20.34</td>\n",
       "      <td>2010-12-01 08:26:00</td>\n",
       "      <td>1</td>\n",
       "      <td>12</td>\n",
       "      <td>2010</td>\n",
       "    </tr>\n",
       "    <tr>\n",
       "      <th>2</th>\n",
       "      <td>CREAM CUPID HEARTS COAT HANGER</td>\n",
       "      <td>22.00</td>\n",
       "      <td>2010-12-01 08:26:00</td>\n",
       "      <td>1</td>\n",
       "      <td>12</td>\n",
       "      <td>2010</td>\n",
       "    </tr>\n",
       "    <tr>\n",
       "      <th>3</th>\n",
       "      <td>KNITTED UNION FLAG HOT WATER BOTTLE</td>\n",
       "      <td>20.34</td>\n",
       "      <td>2010-12-01 08:26:00</td>\n",
       "      <td>1</td>\n",
       "      <td>12</td>\n",
       "      <td>2010</td>\n",
       "    </tr>\n",
       "    <tr>\n",
       "      <th>4</th>\n",
       "      <td>RED WOOLLY HOTTIE WHITE HEART.</td>\n",
       "      <td>20.34</td>\n",
       "      <td>2010-12-01 08:26:00</td>\n",
       "      <td>1</td>\n",
       "      <td>12</td>\n",
       "      <td>2010</td>\n",
       "    </tr>\n",
       "    <tr>\n",
       "      <th>...</th>\n",
       "      <td>...</td>\n",
       "      <td>...</td>\n",
       "      <td>...</td>\n",
       "      <td>...</td>\n",
       "      <td>...</td>\n",
       "      <td>...</td>\n",
       "    </tr>\n",
       "    <tr>\n",
       "      <th>541904</th>\n",
       "      <td>PACK OF 20 SPACEBOY NAPKINS</td>\n",
       "      <td>10.20</td>\n",
       "      <td>2011-12-09 12:50:00</td>\n",
       "      <td>9</td>\n",
       "      <td>12</td>\n",
       "      <td>2011</td>\n",
       "    </tr>\n",
       "    <tr>\n",
       "      <th>541905</th>\n",
       "      <td>CHILDREN'S APRON DOLLY GIRL</td>\n",
       "      <td>12.60</td>\n",
       "      <td>2011-12-09 12:50:00</td>\n",
       "      <td>9</td>\n",
       "      <td>12</td>\n",
       "      <td>2011</td>\n",
       "    </tr>\n",
       "    <tr>\n",
       "      <th>541906</th>\n",
       "      <td>CHILDRENS CUTLERY DOLLY GIRL</td>\n",
       "      <td>16.60</td>\n",
       "      <td>2011-12-09 12:50:00</td>\n",
       "      <td>9</td>\n",
       "      <td>12</td>\n",
       "      <td>2011</td>\n",
       "    </tr>\n",
       "    <tr>\n",
       "      <th>541907</th>\n",
       "      <td>CHILDRENS CUTLERY CIRCUS PARADE</td>\n",
       "      <td>16.60</td>\n",
       "      <td>2011-12-09 12:50:00</td>\n",
       "      <td>9</td>\n",
       "      <td>12</td>\n",
       "      <td>2011</td>\n",
       "    </tr>\n",
       "    <tr>\n",
       "      <th>541908</th>\n",
       "      <td>BAKING SET 9 PIECE RETROSPOT</td>\n",
       "      <td>14.85</td>\n",
       "      <td>2011-12-09 12:50:00</td>\n",
       "      <td>9</td>\n",
       "      <td>12</td>\n",
       "      <td>2011</td>\n",
       "    </tr>\n",
       "  </tbody>\n",
       "</table>\n",
       "<p>426704 rows × 6 columns</p>\n",
       "</div>"
      ],
      "text/plain": [
       "                                Description  Totalsale     InvoiceDateTime  \\\n",
       "0        WHITE HANGING HEART T-LIGHT HOLDER      15.30 2010-12-01 08:26:00   \n",
       "1                       WHITE METAL LANTERN      20.34 2010-12-01 08:26:00   \n",
       "2            CREAM CUPID HEARTS COAT HANGER      22.00 2010-12-01 08:26:00   \n",
       "3       KNITTED UNION FLAG HOT WATER BOTTLE      20.34 2010-12-01 08:26:00   \n",
       "4            RED WOOLLY HOTTIE WHITE HEART.      20.34 2010-12-01 08:26:00   \n",
       "...                                     ...        ...                 ...   \n",
       "541904          PACK OF 20 SPACEBOY NAPKINS      10.20 2011-12-09 12:50:00   \n",
       "541905         CHILDREN'S APRON DOLLY GIRL       12.60 2011-12-09 12:50:00   \n",
       "541906        CHILDRENS CUTLERY DOLLY GIRL       16.60 2011-12-09 12:50:00   \n",
       "541907      CHILDRENS CUTLERY CIRCUS PARADE      16.60 2011-12-09 12:50:00   \n",
       "541908        BAKING SET 9 PIECE RETROSPOT       14.85 2011-12-09 12:50:00   \n",
       "\n",
       "        Day  Month  Year  \n",
       "0         1     12  2010  \n",
       "1         1     12  2010  \n",
       "2         1     12  2010  \n",
       "3         1     12  2010  \n",
       "4         1     12  2010  \n",
       "...     ...    ...   ...  \n",
       "541904    9     12  2011  \n",
       "541905    9     12  2011  \n",
       "541906    9     12  2011  \n",
       "541907    9     12  2011  \n",
       "541908    9     12  2011  \n",
       "\n",
       "[426704 rows x 6 columns]"
      ]
     },
     "execution_count": 34,
     "metadata": {},
     "output_type": "execute_result"
    }
   ],
   "source": [
    "df.insert(len(df.columns), 'Day', df['InvoiceDateTime'].dt.day)\n",
    "df.insert(len(df.columns), 'Month', df['InvoiceDateTime'].dt.month)\n",
    "df.insert(len(df.columns), 'Year', df['InvoiceDateTime'].dt.year)\n",
    "df"
   ]
  },
  {
   "attachments": {},
   "cell_type": "markdown",
   "metadata": {},
   "source": [
    "- Convert the `Day`, `Month`, `Year` value to integer."
   ]
  },
  {
   "cell_type": "code",
   "execution_count": 35,
   "metadata": {},
   "outputs": [
    {
     "data": {
      "text/plain": [
       "Description                object\n",
       "Totalsale                 float64\n",
       "InvoiceDateTime    datetime64[ns]\n",
       "Day                         int32\n",
       "Month                       int32\n",
       "Year                        int32\n",
       "dtype: object"
      ]
     },
     "execution_count": 35,
     "metadata": {},
     "output_type": "execute_result"
    }
   ],
   "source": [
    "df[['Day', 'Month', 'Year']].astype(int)\n",
    "df.dtypes"
   ]
  },
  {
   "attachments": {},
   "cell_type": "markdown",
   "metadata": {},
   "source": [
    "#### _4.1.3. Problem Analyzing_"
   ]
  },
  {
   "cell_type": "markdown",
   "metadata": {},
   "source": [
    "##### a) Visualize the `sum` of value `Totalsale` of each year."
   ]
  },
  {
   "cell_type": "code",
   "execution_count": 36,
   "metadata": {},
   "outputs": [
    {
     "data": {
      "text/plain": [
       "([<matplotlib.axis.XTick at 0x1e658171fd0>,\n",
       "  <matplotlib.axis.XTick at 0x1e658172850>],\n",
       " [Text(2010, 0, '2010'), Text(2011, 0, '2011')])"
      ]
     },
     "execution_count": 36,
     "metadata": {},
     "output_type": "execute_result"
    },
    {
     "data": {
      "image/png": "[encoded data removed]",
      "text/plain": [
       "<Figure size 640x480 with 1 Axes>"
      ]
     },
     "metadata": {},
     "output_type": "display_data"
    }
   ],
   "source": [
    "totalSale_df = df[['Totalsale', 'Year']].groupby('Year').sum().reset_index()\n",
    "plt.bar(totalSale_df['Year'], totalSale_df['Totalsale'])\n",
    "plt.xticks(totalSale_df['Year'])"
   ]
  },
  {
   "cell_type": "markdown",
   "metadata": {},
   "source": [
    "> We can see the difference between year 2010 and year 2011 is extremely high. That's why we will find the answer to the question above by using the data in year 2011."
   ]
  },
  {
   "cell_type": "markdown",
   "metadata": {},
   "source": [
    "- Get the data in year 2011."
   ]
  },
  {
   "cell_type": "code",
   "execution_count": 37,
   "metadata": {},
   "outputs": [
    {
     "data": {
      "text/html": [
       "<div>\n",
       "<style scoped>\n",
       "    .dataframe tbody tr th:only-of-type {\n",
       "        vertical-align: middle;\n",
       "    }\n",
       "\n",
       "    .dataframe tbody tr th {\n",
       "        vertical-align: top;\n",
       "    }\n",
       "\n",
       "    .dataframe thead th {\n",
       "        text-align: right;\n",
       "    }\n",
       "</style>\n",
       "<table border=\"1\" class=\"dataframe\">\n",
       "  <thead>\n",
       "    <tr style=\"text-align: right;\">\n",
       "      <th></th>\n",
       "      <th>Description</th>\n",
       "      <th>Totalsale</th>\n",
       "      <th>InvoiceDateTime</th>\n",
       "      <th>Day</th>\n",
       "      <th>Month</th>\n",
       "      <th>Year</th>\n",
       "    </tr>\n",
       "  </thead>\n",
       "  <tbody>\n",
       "    <tr>\n",
       "      <th>42481</th>\n",
       "      <td>JUMBO BAG PINK POLKADOT</td>\n",
       "      <td>19.50</td>\n",
       "      <td>2011-01-04 10:00:00</td>\n",
       "      <td>4</td>\n",
       "      <td>1</td>\n",
       "      <td>2011</td>\n",
       "    </tr>\n",
       "    <tr>\n",
       "      <th>42484</th>\n",
       "      <td>RECYCLING BAG RETROSPOT</td>\n",
       "      <td>10.50</td>\n",
       "      <td>2011-01-04 10:00:00</td>\n",
       "      <td>4</td>\n",
       "      <td>1</td>\n",
       "      <td>2011</td>\n",
       "    </tr>\n",
       "    <tr>\n",
       "      <th>42485</th>\n",
       "      <td>RED RETROSPOT SHOPPER BAG</td>\n",
       "      <td>12.50</td>\n",
       "      <td>2011-01-04 10:00:00</td>\n",
       "      <td>4</td>\n",
       "      <td>1</td>\n",
       "      <td>2011</td>\n",
       "    </tr>\n",
       "    <tr>\n",
       "      <th>42486</th>\n",
       "      <td>JUMBO BAG RED RETROSPOT</td>\n",
       "      <td>19.50</td>\n",
       "      <td>2011-01-04 10:00:00</td>\n",
       "      <td>4</td>\n",
       "      <td>1</td>\n",
       "      <td>2011</td>\n",
       "    </tr>\n",
       "    <tr>\n",
       "      <th>42487</th>\n",
       "      <td>RED RETROSPOT CHILDRENS UMBRELLA</td>\n",
       "      <td>19.50</td>\n",
       "      <td>2011-01-04 10:00:00</td>\n",
       "      <td>4</td>\n",
       "      <td>1</td>\n",
       "      <td>2011</td>\n",
       "    </tr>\n",
       "    <tr>\n",
       "      <th>...</th>\n",
       "      <td>...</td>\n",
       "      <td>...</td>\n",
       "      <td>...</td>\n",
       "      <td>...</td>\n",
       "      <td>...</td>\n",
       "      <td>...</td>\n",
       "    </tr>\n",
       "    <tr>\n",
       "      <th>541904</th>\n",
       "      <td>PACK OF 20 SPACEBOY NAPKINS</td>\n",
       "      <td>10.20</td>\n",
       "      <td>2011-12-09 12:50:00</td>\n",
       "      <td>9</td>\n",
       "      <td>12</td>\n",
       "      <td>2011</td>\n",
       "    </tr>\n",
       "    <tr>\n",
       "      <th>541905</th>\n",
       "      <td>CHILDREN'S APRON DOLLY GIRL</td>\n",
       "      <td>12.60</td>\n",
       "      <td>2011-12-09 12:50:00</td>\n",
       "      <td>9</td>\n",
       "      <td>12</td>\n",
       "      <td>2011</td>\n",
       "    </tr>\n",
       "    <tr>\n",
       "      <th>541906</th>\n",
       "      <td>CHILDRENS CUTLERY DOLLY GIRL</td>\n",
       "      <td>16.60</td>\n",
       "      <td>2011-12-09 12:50:00</td>\n",
       "      <td>9</td>\n",
       "      <td>12</td>\n",
       "      <td>2011</td>\n",
       "    </tr>\n",
       "    <tr>\n",
       "      <th>541907</th>\n",
       "      <td>CHILDRENS CUTLERY CIRCUS PARADE</td>\n",
       "      <td>16.60</td>\n",
       "      <td>2011-12-09 12:50:00</td>\n",
       "      <td>9</td>\n",
       "      <td>12</td>\n",
       "      <td>2011</td>\n",
       "    </tr>\n",
       "    <tr>\n",
       "      <th>541908</th>\n",
       "      <td>BAKING SET 9 PIECE RETROSPOT</td>\n",
       "      <td>14.85</td>\n",
       "      <td>2011-12-09 12:50:00</td>\n",
       "      <td>9</td>\n",
       "      <td>12</td>\n",
       "      <td>2011</td>\n",
       "    </tr>\n",
       "  </tbody>\n",
       "</table>\n",
       "<p>393416 rows × 6 columns</p>\n",
       "</div>"
      ],
      "text/plain": [
       "                             Description  Totalsale     InvoiceDateTime  Day  \\\n",
       "42481            JUMBO BAG PINK POLKADOT      19.50 2011-01-04 10:00:00    4   \n",
       "42484           RECYCLING BAG RETROSPOT       10.50 2011-01-04 10:00:00    4   \n",
       "42485          RED RETROSPOT SHOPPER BAG      12.50 2011-01-04 10:00:00    4   \n",
       "42486            JUMBO BAG RED RETROSPOT      19.50 2011-01-04 10:00:00    4   \n",
       "42487   RED RETROSPOT CHILDRENS UMBRELLA      19.50 2011-01-04 10:00:00    4   \n",
       "...                                  ...        ...                 ...  ...   \n",
       "541904       PACK OF 20 SPACEBOY NAPKINS      10.20 2011-12-09 12:50:00    9   \n",
       "541905      CHILDREN'S APRON DOLLY GIRL       12.60 2011-12-09 12:50:00    9   \n",
       "541906     CHILDRENS CUTLERY DOLLY GIRL       16.60 2011-12-09 12:50:00    9   \n",
       "541907   CHILDRENS CUTLERY CIRCUS PARADE      16.60 2011-12-09 12:50:00    9   \n",
       "541908     BAKING SET 9 PIECE RETROSPOT       14.85 2011-12-09 12:50:00    9   \n",
       "\n",
       "        Month  Year  \n",
       "42481       1  2011  \n",
       "42484       1  2011  \n",
       "42485       1  2011  \n",
       "42486       1  2011  \n",
       "42487       1  2011  \n",
       "...       ...   ...  \n",
       "541904     12  2011  \n",
       "541905     12  2011  \n",
       "541906     12  2011  \n",
       "541907     12  2011  \n",
       "541908     12  2011  \n",
       "\n",
       "[393416 rows x 6 columns]"
      ]
     },
     "execution_count": 37,
     "metadata": {},
     "output_type": "execute_result"
    }
   ],
   "source": [
    "df = df[df['Year'] == 2011]\n",
    "df"
   ]
  },
  {
   "cell_type": "markdown",
   "metadata": {},
   "source": [
    "##### b) Visualize the `sum` of value `Totalsale` in each month in 2011."
   ]
  },
  {
   "cell_type": "code",
   "execution_count": 38,
   "metadata": {},
   "outputs": [
    {
     "data": {
      "text/html": [
       "<div>\n",
       "<style scoped>\n",
       "    .dataframe tbody tr th:only-of-type {\n",
       "        vertical-align: middle;\n",
       "    }\n",
       "\n",
       "    .dataframe tbody tr th {\n",
       "        vertical-align: top;\n",
       "    }\n",
       "\n",
       "    .dataframe thead th {\n",
       "        text-align: right;\n",
       "    }\n",
       "</style>\n",
       "<table border=\"1\" class=\"dataframe\">\n",
       "  <thead>\n",
       "    <tr style=\"text-align: right;\">\n",
       "      <th></th>\n",
       "      <th>Month</th>\n",
       "      <th>Totalsale</th>\n",
       "    </tr>\n",
       "  </thead>\n",
       "  <tbody>\n",
       "    <tr>\n",
       "      <th>0</th>\n",
       "      <td>1</td>\n",
       "      <td>238650.68</td>\n",
       "    </tr>\n",
       "    <tr>\n",
       "      <th>1</th>\n",
       "      <td>2</td>\n",
       "      <td>205154.02</td>\n",
       "    </tr>\n",
       "    <tr>\n",
       "      <th>2</th>\n",
       "      <td>3</td>\n",
       "      <td>264436.64</td>\n",
       "    </tr>\n",
       "    <tr>\n",
       "      <th>3</th>\n",
       "      <td>4</td>\n",
       "      <td>216617.03</td>\n",
       "    </tr>\n",
       "    <tr>\n",
       "      <th>4</th>\n",
       "      <td>5</td>\n",
       "      <td>290697.19</td>\n",
       "    </tr>\n",
       "    <tr>\n",
       "      <th>5</th>\n",
       "      <td>6</td>\n",
       "      <td>266343.54</td>\n",
       "    </tr>\n",
       "    <tr>\n",
       "      <th>6</th>\n",
       "      <td>7</td>\n",
       "      <td>269704.00</td>\n",
       "    </tr>\n",
       "    <tr>\n",
       "      <th>7</th>\n",
       "      <td>8</td>\n",
       "      <td>269144.66</td>\n",
       "    </tr>\n",
       "    <tr>\n",
       "      <th>8</th>\n",
       "      <td>9</td>\n",
       "      <td>389738.94</td>\n",
       "    </tr>\n",
       "    <tr>\n",
       "      <th>9</th>\n",
       "      <td>10</td>\n",
       "      <td>447976.05</td>\n",
       "    </tr>\n",
       "    <tr>\n",
       "      <th>10</th>\n",
       "      <td>11</td>\n",
       "      <td>573375.13</td>\n",
       "    </tr>\n",
       "    <tr>\n",
       "      <th>11</th>\n",
       "      <td>12</td>\n",
       "      <td>170601.57</td>\n",
       "    </tr>\n",
       "  </tbody>\n",
       "</table>\n",
       "</div>"
      ],
      "text/plain": [
       "    Month  Totalsale\n",
       "0       1  238650.68\n",
       "1       2  205154.02\n",
       "2       3  264436.64\n",
       "3       4  216617.03\n",
       "4       5  290697.19\n",
       "5       6  266343.54\n",
       "6       7  269704.00\n",
       "7       8  269144.66\n",
       "8       9  389738.94\n",
       "9      10  447976.05\n",
       "10     11  573375.13\n",
       "11     12  170601.57"
      ]
     },
     "execution_count": 38,
     "metadata": {},
     "output_type": "execute_result"
    }
   ],
   "source": [
    "# Get the sum of Totalsale of each month\n",
    "month_df = df[['Totalsale', 'Month']].groupby('Month').sum().reset_index()\n",
    "month_df"
   ]
  },
  {
   "attachments": {},
   "cell_type": "markdown",
   "metadata": {},
   "source": [
    "- Let's visualize the result"
   ]
  },
  {
   "cell_type": "code",
   "execution_count": 39,
   "metadata": {},
   "outputs": [
    {
     "data": {
      "text/plain": [
       "([<matplotlib.axis.XTick at 0x1e651604090>,\n",
       "  <matplotlib.axis.XTick at 0x1e6581b4bd0>,\n",
       "  <matplotlib.axis.XTick at 0x1e65815f990>,\n",
       "  <matplotlib.axis.XTick at 0x1e64fcbc6d0>,\n",
       "  <matplotlib.axis.XTick at 0x1e64fcc0450>,\n",
       "  <matplotlib.axis.XTick at 0x1e64fcc45d0>,\n",
       "  <matplotlib.axis.XTick at 0x1e6516d1250>,\n",
       "  <matplotlib.axis.XTick at 0x1e652a3b950>,\n",
       "  <matplotlib.axis.XTick at 0x1e652a46390>,\n",
       "  <matplotlib.axis.XTick at 0x1e64fcbee50>,\n",
       "  <matplotlib.axis.XTick at 0x1e64fcd03d0>,\n",
       "  <matplotlib.axis.XTick at 0x1e64fcd7390>],\n",
       " [Text(1, 0, '1'),\n",
       "  Text(2, 0, '2'),\n",
       "  Text(3, 0, '3'),\n",
       "  Text(4, 0, '4'),\n",
       "  Text(5, 0, '5'),\n",
       "  Text(6, 0, '6'),\n",
       "  Text(7, 0, '7'),\n",
       "  Text(8, 0, '8'),\n",
       "  Text(9, 0, '9'),\n",
       "  Text(10, 0, '10'),\n",
       "  Text(11, 0, '11'),\n",
       "  Text(12, 0, '12')])"
      ]
     },
     "execution_count": 39,
     "metadata": {},
     "output_type": "execute_result"
    },
    {
     "data": {
      "image/png": "[encoded data removed]",
      "text/plain": [
       "<Figure size 640x480 with 1 Axes>"
      ]
     },
     "metadata": {},
     "output_type": "display_data"
    }
   ],
   "source": [
    "plt.bar(month_df['Month'], month_df['Totalsale'])\n",
    "plt.xticks(month_df['Month'])"
   ]
  },
  {
   "cell_type": "markdown",
   "metadata": {},
   "source": [
    "> - The value from January to August is very balance, about 200000 to 300000.\n",
    "> - From  September to November the values are higher than the last 8 months. Especially in November has the highest value.\n",
    "> - In the the the value in December has the lowest value of all."
   ]
  },
  {
   "attachments": {},
   "cell_type": "markdown",
   "metadata": {},
   "source": [
    "##### c) Get 5 `Description` that has the highest `Totalsale` in a whole year."
   ]
  },
  {
   "cell_type": "code",
   "execution_count": 40,
   "metadata": {},
   "outputs": [
    {
     "data": {
      "text/html": [
       "<div>\n",
       "<style scoped>\n",
       "    .dataframe tbody tr th:only-of-type {\n",
       "        vertical-align: middle;\n",
       "    }\n",
       "\n",
       "    .dataframe tbody tr th {\n",
       "        vertical-align: top;\n",
       "    }\n",
       "\n",
       "    .dataframe thead th {\n",
       "        text-align: right;\n",
       "    }\n",
       "</style>\n",
       "<table border=\"1\" class=\"dataframe\">\n",
       "  <thead>\n",
       "    <tr style=\"text-align: right;\">\n",
       "      <th></th>\n",
       "      <th>Description</th>\n",
       "      <th>Totalsale</th>\n",
       "    </tr>\n",
       "  </thead>\n",
       "  <tbody>\n",
       "    <tr>\n",
       "      <th>42481</th>\n",
       "      <td>JUMBO BAG PINK POLKADOT</td>\n",
       "      <td>19.50</td>\n",
       "    </tr>\n",
       "    <tr>\n",
       "      <th>42484</th>\n",
       "      <td>RECYCLING BAG RETROSPOT</td>\n",
       "      <td>10.50</td>\n",
       "    </tr>\n",
       "    <tr>\n",
       "      <th>42485</th>\n",
       "      <td>RED RETROSPOT SHOPPER BAG</td>\n",
       "      <td>12.50</td>\n",
       "    </tr>\n",
       "    <tr>\n",
       "      <th>42486</th>\n",
       "      <td>JUMBO BAG RED RETROSPOT</td>\n",
       "      <td>19.50</td>\n",
       "    </tr>\n",
       "    <tr>\n",
       "      <th>42487</th>\n",
       "      <td>RED RETROSPOT CHILDRENS UMBRELLA</td>\n",
       "      <td>19.50</td>\n",
       "    </tr>\n",
       "    <tr>\n",
       "      <th>...</th>\n",
       "      <td>...</td>\n",
       "      <td>...</td>\n",
       "    </tr>\n",
       "    <tr>\n",
       "      <th>541904</th>\n",
       "      <td>PACK OF 20 SPACEBOY NAPKINS</td>\n",
       "      <td>10.20</td>\n",
       "    </tr>\n",
       "    <tr>\n",
       "      <th>541905</th>\n",
       "      <td>CHILDREN'S APRON DOLLY GIRL</td>\n",
       "      <td>12.60</td>\n",
       "    </tr>\n",
       "    <tr>\n",
       "      <th>541906</th>\n",
       "      <td>CHILDRENS CUTLERY DOLLY GIRL</td>\n",
       "      <td>16.60</td>\n",
       "    </tr>\n",
       "    <tr>\n",
       "      <th>541907</th>\n",
       "      <td>CHILDRENS CUTLERY CIRCUS PARADE</td>\n",
       "      <td>16.60</td>\n",
       "    </tr>\n",
       "    <tr>\n",
       "      <th>541908</th>\n",
       "      <td>BAKING SET 9 PIECE RETROSPOT</td>\n",
       "      <td>14.85</td>\n",
       "    </tr>\n",
       "  </tbody>\n",
       "</table>\n",
       "<p>393416 rows × 2 columns</p>\n",
       "</div>"
      ],
      "text/plain": [
       "                             Description  Totalsale\n",
       "42481            JUMBO BAG PINK POLKADOT      19.50\n",
       "42484           RECYCLING BAG RETROSPOT       10.50\n",
       "42485          RED RETROSPOT SHOPPER BAG      12.50\n",
       "42486            JUMBO BAG RED RETROSPOT      19.50\n",
       "42487   RED RETROSPOT CHILDRENS UMBRELLA      19.50\n",
       "...                                  ...        ...\n",
       "541904       PACK OF 20 SPACEBOY NAPKINS      10.20\n",
       "541905      CHILDREN'S APRON DOLLY GIRL       12.60\n",
       "541906     CHILDRENS CUTLERY DOLLY GIRL       16.60\n",
       "541907   CHILDRENS CUTLERY CIRCUS PARADE      16.60\n",
       "541908     BAKING SET 9 PIECE RETROSPOT       14.85\n",
       "\n",
       "[393416 rows x 2 columns]"
      ]
     },
     "execution_count": 40,
     "metadata": {},
     "output_type": "execute_result"
    }
   ],
   "source": [
    "description_df = df[['Description', 'Totalsale']]\n",
    "description_df"
   ]
  },
  {
   "cell_type": "code",
   "execution_count": 41,
   "metadata": {},
   "outputs": [
    {
     "data": {
      "text/plain": [
       "Text(0.5, 1.0, '5 Descriptions that has the highest Totalsale')"
      ]
     },
     "execution_count": 41,
     "metadata": {},
     "output_type": "execute_result"
    },
    {
     "data": {
      "image/png": "[encoded data removed]",
      "text/plain": [
       "<Figure size 1800x500 with 1 Axes>"
      ]
     },
     "metadata": {},
     "output_type": "display_data"
    }
   ],
   "source": [
    "#Get the sum of `Totalsale` of each month then sort it decending.\n",
    "increase_descript = description_df.groupby('Description').sum().reset_index().sort_values(by= 'Totalsale',  ascending= False)\n",
    "\n",
    "fig= plt.figure(figsize=(18,5))\n",
    "plt.subplots_adjust(wspace=0.8)\n",
    "# Only print the top 5 highest.\n",
    "plt.barh(increase_descript.head(5)['Description'], increase_descript.head(5)['Totalsale'])\n",
    "plt.title(\"5 Descriptions that has the highest Totalsale\")"
   ]
  },
  {
   "attachments": {},
   "cell_type": "markdown",
   "metadata": {},
   "source": [
    "##### d) Get 5 `Description` that has the highest `Totalsale` of each month."
   ]
  },
  {
   "attachments": {},
   "cell_type": "markdown",
   "metadata": {},
   "source": [
    "- If we only show top 5 `Description` that have highest `Totalsale` in a year, we only have a general view of the data. That's why we will dig into each month, see which `Description` have the highest `Totalsale`."
   ]
  },
  {
   "cell_type": "markdown",
   "metadata": {},
   "source": [
    "- We will print 5 `Description` with highest `Totalsale` from January to December in 2011.\n",
    "- In each step of the `for` loop:\n",
    "    - First we will get the data of a month, group by the `Description` and get the `sum` of `Totalsale` (The reason why we use `sum` here is there are multiple duplicate `Description` in a month.).\n",
    "    - After that we will sort the data to get 5 `Description` that has the highest `Totalsale` value.\n",
    "    - We will us `dt.datetime.strptime` to convert the month value to month name(1 - January).\n",
    "    - Finally we will visualize the data by using `plt.barh`. We don't use `plt.bar` because the value of `Description` can be very long."
   ]
  },
  {
   "cell_type": "code",
   "execution_count": 42,
   "metadata": {},
   "outputs": [
    {
     "data": {
      "image/png": "[encoded data removed]",
      "text/plain": [
       "<Figure size 1500x2000 with 12 Axes>"
      ]
     },
     "metadata": {},
     "output_type": "display_data"
    }
   ],
   "source": [
    "fig= plt.figure(figsize=(15,20))\n",
    "plt.subplots_adjust(wspace=1, hspace=0.4)\n",
    "for i in range(12):\n",
    "    plt.subplot(6, 2, i + 1)\n",
    "    curMonth_df = df[df['Month'] == i + 1][['Description', 'Totalsale']]\n",
    "    sorted_df = curMonth_df.groupby('Description').sum().reset_index().sort_values(by=['Totalsale'], ascending= False)\n",
    "    visual_df = sorted_df.head(5)\n",
    "    plt.title(dt.datetime.strptime(str(i + 1), \"%m\").strftime(\"%B\"))\n",
    "    plt.barh(visual_df['Description'], visual_df['Totalsale'])"
   ]
  },
  {
   "attachments": {},
   "cell_type": "markdown",
   "metadata": {},
   "source": [
    "#### _4.1.4. Evaluation_"
   ]
  },
  {
   "attachments": {},
   "cell_type": "markdown",
   "metadata": {},
   "source": [
    "- The sellers can have a clearer plan for them when they import products. \n",
    "- For a whole year, we can see 'PARTY BUNTING', 'LUNCH BAG RED RETROSPOT', 'ASSORTED COLOUR BIRD ORNAMENT', 'WHITE HANGING HEART T-LIGHT HOLDER' and 'JUMBO BAG RED RETROSPOT' are the top 5 `Description` that have the highest `Totalsale` value. But this top 5 `Description` don't have highest `Totalsale` value in any month, only in top 5. \n",
    "> The seller can know that these are the produts can be sold easy so they can import them with medium or high amount.\n",
    "- In each month there are different product that the highest `Totalsale` value. Some can be higher then others.\n",
    "> The seller can know that in which month, which product they should import more then the other."
   ]
  },
  {
   "attachments": {},
   "cell_type": "markdown",
   "metadata": {},
   "source": [
    "### _4.2. Which `Customer` buy the most ?_"
   ]
  },
  {
   "attachments": {},
   "cell_type": "markdown",
   "metadata": {},
   "source": [
    "#### _4.2.1. What is the benefit of finding the answer to this question ?_"
   ]
  },
  {
   "attachments": {},
   "cell_type": "markdown",
   "metadata": {},
   "source": [
    "- By answering this question, the seller can know which customer love to buy their product most.\n",
    "- The seller can apply some special gift for customer that by the most. "
   ]
  },
  {
   "attachments": {},
   "cell_type": "markdown",
   "metadata": {},
   "source": [
    "#### _4.2.2. Data Preparation_"
   ]
  },
  {
   "attachments": {},
   "cell_type": "markdown",
   "metadata": {},
   "source": [
    "- Let's get the columns list: `CutomerID`, `Totalsale`."
   ]
  },
  {
   "cell_type": "code",
   "execution_count": 43,
   "metadata": {},
   "outputs": [
    {
     "data": {
      "text/html": [
       "<div>\n",
       "<style scoped>\n",
       "    .dataframe tbody tr th:only-of-type {\n",
       "        vertical-align: middle;\n",
       "    }\n",
       "\n",
       "    .dataframe tbody tr th {\n",
       "        vertical-align: top;\n",
       "    }\n",
       "\n",
       "    .dataframe thead th {\n",
       "        text-align: right;\n",
       "    }\n",
       "</style>\n",
       "<table border=\"1\" class=\"dataframe\">\n",
       "  <thead>\n",
       "    <tr style=\"text-align: right;\">\n",
       "      <th></th>\n",
       "      <th>CustomerID</th>\n",
       "      <th>Totalsale</th>\n",
       "    </tr>\n",
       "  </thead>\n",
       "  <tbody>\n",
       "    <tr>\n",
       "      <th>0</th>\n",
       "      <td>17850.0</td>\n",
       "      <td>15.30</td>\n",
       "    </tr>\n",
       "    <tr>\n",
       "      <th>1</th>\n",
       "      <td>17850.0</td>\n",
       "      <td>20.34</td>\n",
       "    </tr>\n",
       "    <tr>\n",
       "      <th>2</th>\n",
       "      <td>17850.0</td>\n",
       "      <td>22.00</td>\n",
       "    </tr>\n",
       "    <tr>\n",
       "      <th>3</th>\n",
       "      <td>17850.0</td>\n",
       "      <td>20.34</td>\n",
       "    </tr>\n",
       "    <tr>\n",
       "      <th>4</th>\n",
       "      <td>17850.0</td>\n",
       "      <td>20.34</td>\n",
       "    </tr>\n",
       "    <tr>\n",
       "      <th>...</th>\n",
       "      <td>...</td>\n",
       "      <td>...</td>\n",
       "    </tr>\n",
       "    <tr>\n",
       "      <th>541904</th>\n",
       "      <td>12680.0</td>\n",
       "      <td>10.20</td>\n",
       "    </tr>\n",
       "    <tr>\n",
       "      <th>541905</th>\n",
       "      <td>12680.0</td>\n",
       "      <td>12.60</td>\n",
       "    </tr>\n",
       "    <tr>\n",
       "      <th>541906</th>\n",
       "      <td>12680.0</td>\n",
       "      <td>16.60</td>\n",
       "    </tr>\n",
       "    <tr>\n",
       "      <th>541907</th>\n",
       "      <td>12680.0</td>\n",
       "      <td>16.60</td>\n",
       "    </tr>\n",
       "    <tr>\n",
       "      <th>541908</th>\n",
       "      <td>12680.0</td>\n",
       "      <td>14.85</td>\n",
       "    </tr>\n",
       "  </tbody>\n",
       "</table>\n",
       "<p>426704 rows × 2 columns</p>\n",
       "</div>"
      ],
      "text/plain": [
       "       CustomerID  Totalsale\n",
       "0         17850.0      15.30\n",
       "1         17850.0      20.34\n",
       "2         17850.0      22.00\n",
       "3         17850.0      20.34\n",
       "4         17850.0      20.34\n",
       "...           ...        ...\n",
       "541904    12680.0      10.20\n",
       "541905    12680.0      12.60\n",
       "541906    12680.0      16.60\n",
       "541907    12680.0      16.60\n",
       "541908    12680.0      14.85\n",
       "\n",
       "[426704 rows x 2 columns]"
      ]
     },
     "execution_count": 43,
     "metadata": {},
     "output_type": "execute_result"
    }
   ],
   "source": [
    "df = data_df[['CustomerID', 'Totalsale']]\n",
    "df"
   ]
  },
  {
   "attachments": {},
   "cell_type": "markdown",
   "metadata": {},
   "source": [
    "- For this `CustomerID` value, there are 25% of missing values. But we won't remove all the `nan` value because it can be guest account."
   ]
  },
  {
   "attachments": {},
   "cell_type": "markdown",
   "metadata": {},
   "source": [
    "#### _4.2.3. Problem Analyzing_"
   ]
  },
  {
   "attachments": {},
   "cell_type": "markdown",
   "metadata": {},
   "source": [
    "- First, we will get the sum of `Totalsale` of each `Customer`"
   ]
  },
  {
   "cell_type": "code",
   "execution_count": 44,
   "metadata": {},
   "outputs": [
    {
     "data": {
      "text/html": [
       "<div>\n",
       "<style scoped>\n",
       "    .dataframe tbody tr th:only-of-type {\n",
       "        vertical-align: middle;\n",
       "    }\n",
       "\n",
       "    .dataframe tbody tr th {\n",
       "        vertical-align: top;\n",
       "    }\n",
       "\n",
       "    .dataframe thead th {\n",
       "        text-align: right;\n",
       "    }\n",
       "</style>\n",
       "<table border=\"1\" class=\"dataframe\">\n",
       "  <thead>\n",
       "    <tr style=\"text-align: right;\">\n",
       "      <th></th>\n",
       "      <th>CustomerID</th>\n",
       "      <th>Totalsale</th>\n",
       "    </tr>\n",
       "  </thead>\n",
       "  <tbody>\n",
       "    <tr>\n",
       "      <th>0</th>\n",
       "      <td>12347.0</td>\n",
       "      <td>2116.97</td>\n",
       "    </tr>\n",
       "    <tr>\n",
       "      <th>1</th>\n",
       "      <td>12348.0</td>\n",
       "      <td>17.00</td>\n",
       "    </tr>\n",
       "    <tr>\n",
       "      <th>2</th>\n",
       "      <td>12349.0</td>\n",
       "      <td>997.35</td>\n",
       "    </tr>\n",
       "    <tr>\n",
       "      <th>3</th>\n",
       "      <td>12350.0</td>\n",
       "      <td>274.00</td>\n",
       "    </tr>\n",
       "    <tr>\n",
       "      <th>4</th>\n",
       "      <td>12352.0</td>\n",
       "      <td>1162.74</td>\n",
       "    </tr>\n",
       "    <tr>\n",
       "      <th>...</th>\n",
       "      <td>...</td>\n",
       "      <td>...</td>\n",
       "    </tr>\n",
       "    <tr>\n",
       "      <th>4152</th>\n",
       "      <td>18281.0</td>\n",
       "      <td>46.92</td>\n",
       "    </tr>\n",
       "    <tr>\n",
       "      <th>4153</th>\n",
       "      <td>18282.0</td>\n",
       "      <td>111.68</td>\n",
       "    </tr>\n",
       "    <tr>\n",
       "      <th>4154</th>\n",
       "      <td>18283.0</td>\n",
       "      <td>2019.63</td>\n",
       "    </tr>\n",
       "    <tr>\n",
       "      <th>4155</th>\n",
       "      <td>18287.0</td>\n",
       "      <td>518.38</td>\n",
       "    </tr>\n",
       "    <tr>\n",
       "      <th>4156</th>\n",
       "      <td>guest</td>\n",
       "      <td>692773.63</td>\n",
       "    </tr>\n",
       "  </tbody>\n",
       "</table>\n",
       "<p>4157 rows × 2 columns</p>\n",
       "</div>"
      ],
      "text/plain": [
       "     CustomerID  Totalsale\n",
       "0       12347.0    2116.97\n",
       "1       12348.0      17.00\n",
       "2       12349.0     997.35\n",
       "3       12350.0     274.00\n",
       "4       12352.0    1162.74\n",
       "...         ...        ...\n",
       "4152    18281.0      46.92\n",
       "4153    18282.0     111.68\n",
       "4154    18283.0    2019.63\n",
       "4155    18287.0     518.38\n",
       "4156      guest  692773.63\n",
       "\n",
       "[4157 rows x 2 columns]"
      ]
     },
     "execution_count": 44,
     "metadata": {},
     "output_type": "execute_result"
    }
   ],
   "source": [
    "# Get the sum of `Totalsale` of each customer.\n",
    "df = df.groupby('CustomerID').sum().reset_index()\n",
    "\n",
    "# As we have converted the CustomerID to string, we will use replace to change the 'nan' to 'guest'.\n",
    "df = df.replace('nan', 'guest')\n",
    "\n",
    "df"
   ]
  },
  {
   "attachments": {},
   "cell_type": "markdown",
   "metadata": {},
   "source": [
    "- Next we will sort the DataFrame df to get the top `Customer` that buy most."
   ]
  },
  {
   "cell_type": "code",
   "execution_count": 45,
   "metadata": {},
   "outputs": [],
   "source": [
    "sorted_df = df.sort_values(by= 'Totalsale',  ascending= False)"
   ]
  },
  {
   "attachments": {},
   "cell_type": "markdown",
   "metadata": {},
   "source": [
    "- Let's visualize the result."
   ]
  },
  {
   "cell_type": "code",
   "execution_count": 46,
   "metadata": {},
   "outputs": [
    {
     "data": {
      "text/plain": [
       "<BarContainer object of 10 artists>"
      ]
     },
     "execution_count": 46,
     "metadata": {},
     "output_type": "execute_result"
    },
    {
     "data": {
      "image/png": "[encoded data removed]",
      "text/plain": [
       "<Figure size 640x480 with 1 Axes>"
      ]
     },
     "metadata": {},
     "output_type": "display_data"
    }
   ],
   "source": [
    "plt.barh(sorted_df.head(10)['CustomerID'], sorted_df.head(10)['Totalsale'])"
   ]
  },
  {
   "attachments": {},
   "cell_type": "markdown",
   "metadata": {},
   "source": [
    "> We can see the customer with id 14911 has the highest `Totalsale`. Except from that, most of the buyer are guest accounts."
   ]
  },
  {
   "attachments": {},
   "cell_type": "markdown",
   "metadata": {},
   "source": [
    "- If the we remove all the guest accounts, the buyer can make a list of buyers that buy most to give them coupen of discount or some special gifts in the next year.\n",
    "- For this part we only need the data in a year. We will chose year 2011 as it's the newest year in our data."
   ]
  },
  {
   "cell_type": "code",
   "execution_count": 47,
   "metadata": {},
   "outputs": [
    {
     "data": {
      "text/html": [
       "<div>\n",
       "<style scoped>\n",
       "    .dataframe tbody tr th:only-of-type {\n",
       "        vertical-align: middle;\n",
       "    }\n",
       "\n",
       "    .dataframe tbody tr th {\n",
       "        vertical-align: top;\n",
       "    }\n",
       "\n",
       "    .dataframe thead th {\n",
       "        text-align: right;\n",
       "    }\n",
       "</style>\n",
       "<table border=\"1\" class=\"dataframe\">\n",
       "  <thead>\n",
       "    <tr style=\"text-align: right;\">\n",
       "      <th></th>\n",
       "      <th>CustomerID</th>\n",
       "      <th>Totalsale</th>\n",
       "    </tr>\n",
       "  </thead>\n",
       "  <tbody>\n",
       "    <tr>\n",
       "      <th>42481</th>\n",
       "      <td>13313.0</td>\n",
       "      <td>19.50</td>\n",
       "    </tr>\n",
       "    <tr>\n",
       "      <th>42484</th>\n",
       "      <td>13313.0</td>\n",
       "      <td>10.50</td>\n",
       "    </tr>\n",
       "    <tr>\n",
       "      <th>42485</th>\n",
       "      <td>13313.0</td>\n",
       "      <td>12.50</td>\n",
       "    </tr>\n",
       "    <tr>\n",
       "      <th>42486</th>\n",
       "      <td>13313.0</td>\n",
       "      <td>19.50</td>\n",
       "    </tr>\n",
       "    <tr>\n",
       "      <th>42487</th>\n",
       "      <td>13313.0</td>\n",
       "      <td>19.50</td>\n",
       "    </tr>\n",
       "    <tr>\n",
       "      <th>...</th>\n",
       "      <td>...</td>\n",
       "      <td>...</td>\n",
       "    </tr>\n",
       "    <tr>\n",
       "      <th>541904</th>\n",
       "      <td>12680.0</td>\n",
       "      <td>10.20</td>\n",
       "    </tr>\n",
       "    <tr>\n",
       "      <th>541905</th>\n",
       "      <td>12680.0</td>\n",
       "      <td>12.60</td>\n",
       "    </tr>\n",
       "    <tr>\n",
       "      <th>541906</th>\n",
       "      <td>12680.0</td>\n",
       "      <td>16.60</td>\n",
       "    </tr>\n",
       "    <tr>\n",
       "      <th>541907</th>\n",
       "      <td>12680.0</td>\n",
       "      <td>16.60</td>\n",
       "    </tr>\n",
       "    <tr>\n",
       "      <th>541908</th>\n",
       "      <td>12680.0</td>\n",
       "      <td>14.85</td>\n",
       "    </tr>\n",
       "  </tbody>\n",
       "</table>\n",
       "<p>393416 rows × 2 columns</p>\n",
       "</div>"
      ],
      "text/plain": [
       "       CustomerID  Totalsale\n",
       "42481     13313.0      19.50\n",
       "42484     13313.0      10.50\n",
       "42485     13313.0      12.50\n",
       "42486     13313.0      19.50\n",
       "42487     13313.0      19.50\n",
       "...           ...        ...\n",
       "541904    12680.0      10.20\n",
       "541905    12680.0      12.60\n",
       "541906    12680.0      16.60\n",
       "541907    12680.0      16.60\n",
       "541908    12680.0      14.85\n",
       "\n",
       "[393416 rows x 2 columns]"
      ]
     },
     "execution_count": 47,
     "metadata": {},
     "output_type": "execute_result"
    }
   ],
   "source": [
    "df = data_df[data_df['InvoiceDateTime'].dt.year == 2011][['CustomerID', 'Totalsale']]\n",
    "df"
   ]
  },
  {
   "attachments": {},
   "cell_type": "markdown",
   "metadata": {},
   "source": [
    "- We will process the data as we did before."
   ]
  },
  {
   "cell_type": "code",
   "execution_count": 48,
   "metadata": {},
   "outputs": [
    {
     "data": {
      "text/html": [
       "<div>\n",
       "<style scoped>\n",
       "    .dataframe tbody tr th:only-of-type {\n",
       "        vertical-align: middle;\n",
       "    }\n",
       "\n",
       "    .dataframe tbody tr th {\n",
       "        vertical-align: top;\n",
       "    }\n",
       "\n",
       "    .dataframe thead th {\n",
       "        text-align: right;\n",
       "    }\n",
       "</style>\n",
       "<table border=\"1\" class=\"dataframe\">\n",
       "  <thead>\n",
       "    <tr style=\"text-align: right;\">\n",
       "      <th></th>\n",
       "      <th>CustomerID</th>\n",
       "      <th>Totalsale</th>\n",
       "    </tr>\n",
       "  </thead>\n",
       "  <tbody>\n",
       "    <tr>\n",
       "      <th>1769</th>\n",
       "      <td>14911.0</td>\n",
       "      <td>59102.15</td>\n",
       "    </tr>\n",
       "    <tr>\n",
       "      <th>1211</th>\n",
       "      <td>14096.0</td>\n",
       "      <td>32250.09</td>\n",
       "    </tr>\n",
       "    <tr>\n",
       "      <th>3742</th>\n",
       "      <td>17841.0</td>\n",
       "      <td>28596.33</td>\n",
       "    </tr>\n",
       "    <tr>\n",
       "      <th>525</th>\n",
       "      <td>13089.0</td>\n",
       "      <td>17146.43</td>\n",
       "    </tr>\n",
       "    <tr>\n",
       "      <th>312</th>\n",
       "      <td>12748.0</td>\n",
       "      <td>15565.87</td>\n",
       "    </tr>\n",
       "    <tr>\n",
       "      <th>...</th>\n",
       "      <td>...</td>\n",
       "      <td>...</td>\n",
       "    </tr>\n",
       "    <tr>\n",
       "      <th>1571</th>\n",
       "      <td>14627.0</td>\n",
       "      <td>-21.85</td>\n",
       "    </tr>\n",
       "    <tr>\n",
       "      <th>2001</th>\n",
       "      <td>15251.0</td>\n",
       "      <td>-44.49</td>\n",
       "    </tr>\n",
       "    <tr>\n",
       "      <th>3747</th>\n",
       "      <td>17850.0</td>\n",
       "      <td>-57.13</td>\n",
       "    </tr>\n",
       "    <tr>\n",
       "      <th>316</th>\n",
       "      <td>12753.0</td>\n",
       "      <td>-69.05</td>\n",
       "    </tr>\n",
       "    <tr>\n",
       "      <th>1003</th>\n",
       "      <td>13798.0</td>\n",
       "      <td>-141.59</td>\n",
       "    </tr>\n",
       "  </tbody>\n",
       "</table>\n",
       "<p>4032 rows × 2 columns</p>\n",
       "</div>"
      ],
      "text/plain": [
       "     CustomerID  Totalsale\n",
       "1769    14911.0   59102.15\n",
       "1211    14096.0   32250.09\n",
       "3742    17841.0   28596.33\n",
       "525     13089.0   17146.43\n",
       "312     12748.0   15565.87\n",
       "...         ...        ...\n",
       "1571    14627.0     -21.85\n",
       "2001    15251.0     -44.49\n",
       "3747    17850.0     -57.13\n",
       "316     12753.0     -69.05\n",
       "1003    13798.0    -141.59\n",
       "\n",
       "[4032 rows x 2 columns]"
      ]
     },
     "execution_count": 48,
     "metadata": {},
     "output_type": "execute_result"
    }
   ],
   "source": [
    "df = df.groupby('CustomerID').sum().reset_index()\n",
    "df = df.replace('nan', 'guest')\n",
    "sorted_df = df.sort_values(by= 'Totalsale',  ascending= False)\n",
    "sorted_df = sorted_df.drop(sorted_df[sorted_df['CustomerID'] == 'guest'].index)\n",
    "sorted_df"
   ]
  },
  {
   "attachments": {},
   "cell_type": "markdown",
   "metadata": {},
   "source": [
    "- Let's visualize the result"
   ]
  },
  {
   "cell_type": "code",
   "execution_count": 49,
   "metadata": {},
   "outputs": [
    {
     "data": {
      "text/plain": [
       "<BarContainer object of 10 artists>"
      ]
     },
     "execution_count": 49,
     "metadata": {},
     "output_type": "execute_result"
    },
    {
     "data": {
      "image/png": "[encoded data removed]",
      "text/plain": [
       "<Figure size 640x480 with 1 Axes>"
      ]
     },
     "metadata": {},
     "output_type": "display_data"
    }
   ],
   "source": [
    "plt.barh(sorted_df.head(10)['CustomerID'], sorted_df.head(10)['Totalsale'])"
   ]
  },
  {
   "attachments": {},
   "cell_type": "markdown",
   "metadata": {},
   "source": [
    "> The buyers with IDs: 14911, 14096, 17841, 13089, 12748 are the buyers that has the highest `Totalsale` values. "
   ]
  },
  {
   "attachments": {},
   "cell_type": "markdown",
   "metadata": {},
   "source": [
    "### _4.3. How does the quantity of orders sold vary during certain times of the year?_"
   ]
  },
  {
   "cell_type": "markdown",
   "metadata": {},
   "source": [
    "- The benefits of answering this question:\n",
    "    \n",
    "    + `Optimizing Inventory Management`: Understanding the seasonal variation in order quantities allows businesses to optimize their inventory management. They can adjust stock levels based on expected demand during different times of the year, reducing the risk of overstocking or stockouts.\n",
    "\n",
    "    + `Forecasting and Planning`: By analyzing historical data on order quantities throughout the year, businesses can improve their forecasting accuracy. This, in turn, enables better planning for production, marketing, and staffing, aligning resources with anticipated demand.\n",
    "\n",
    "    + `Marketing and Promotions`: Recognizing patterns in order quantities during specific seasons allows businesses to tailor their marketing and promotional strategies. They can create targeted campaigns and special offers during peak seasons to capitalize on increased demand.\n",
    "\n",
    "    + `Resource Allocation`: Knowledge of seasonal variations helps in efficient resource allocation. Businesses can adjust staffing levels, production schedules, and distribution strategies based on anticipated fluctuations in order quantities, minimizing operational inefficiencies."
   ]
  },
  {
   "attachments": {},
   "cell_type": "markdown",
   "metadata": {},
   "source": [
    "#### _4.3.1. Preprocessing_"
   ]
  },
  {
   "cell_type": "markdown",
   "metadata": {},
   "source": [
    "- Creating 4 columns called `TimeOfDay`, `Month`, `Season`, `DayOfWeek` for analyzing later"
   ]
  },
  {
   "cell_type": "code",
   "execution_count": 50,
   "metadata": {},
   "outputs": [
    {
     "data": {
      "text/html": [
       "<div>\n",
       "<style scoped>\n",
       "    .dataframe tbody tr th:only-of-type {\n",
       "        vertical-align: middle;\n",
       "    }\n",
       "\n",
       "    .dataframe tbody tr th {\n",
       "        vertical-align: top;\n",
       "    }\n",
       "\n",
       "    .dataframe thead th {\n",
       "        text-align: right;\n",
       "    }\n",
       "</style>\n",
       "<table border=\"1\" class=\"dataframe\">\n",
       "  <thead>\n",
       "    <tr style=\"text-align: right;\">\n",
       "      <th></th>\n",
       "      <th>InvoiceNo</th>\n",
       "      <th>StockCode</th>\n",
       "      <th>Description</th>\n",
       "      <th>Quantity</th>\n",
       "      <th>UnitPrice</th>\n",
       "      <th>Totalsale</th>\n",
       "      <th>CustomerID</th>\n",
       "      <th>Country</th>\n",
       "      <th>InvoiceDateTime</th>\n",
       "      <th>TimeOfDay</th>\n",
       "      <th>Month</th>\n",
       "      <th>Season</th>\n",
       "      <th>DayOfWeek</th>\n",
       "    </tr>\n",
       "  </thead>\n",
       "  <tbody>\n",
       "    <tr>\n",
       "      <th>19650</th>\n",
       "      <td>537880</td>\n",
       "      <td>22569</td>\n",
       "      <td>FELTCRAFT CUSHION BUTTERFLY</td>\n",
       "      <td>8</td>\n",
       "      <td>3.75</td>\n",
       "      <td>30.00</td>\n",
       "      <td>12963.0</td>\n",
       "      <td>United Kingdom</td>\n",
       "      <td>2010-12-09 09:14:00</td>\n",
       "      <td>9-12</td>\n",
       "      <td>12</td>\n",
       "      <td>Winter</td>\n",
       "      <td>THU</td>\n",
       "    </tr>\n",
       "    <tr>\n",
       "      <th>242244</th>\n",
       "      <td>558321</td>\n",
       "      <td>84510a</td>\n",
       "      <td>SET OF 4 ENGLISH ROSE COASTERS</td>\n",
       "      <td>1</td>\n",
       "      <td>2.46</td>\n",
       "      <td>2.46</td>\n",
       "      <td>nan</td>\n",
       "      <td>United Kingdom</td>\n",
       "      <td>2011-06-28 11:53:00</td>\n",
       "      <td>9-12</td>\n",
       "      <td>6</td>\n",
       "      <td>Summer</td>\n",
       "      <td>TUE</td>\n",
       "    </tr>\n",
       "    <tr>\n",
       "      <th>369147</th>\n",
       "      <td>569016</td>\n",
       "      <td>23374</td>\n",
       "      <td>RED SPOT PAPER GIFT BAG</td>\n",
       "      <td>10</td>\n",
       "      <td>0.82</td>\n",
       "      <td>8.20</td>\n",
       "      <td>14916.0</td>\n",
       "      <td>United Kingdom</td>\n",
       "      <td>2011-09-30 09:20:00</td>\n",
       "      <td>9-12</td>\n",
       "      <td>9</td>\n",
       "      <td>Fall</td>\n",
       "      <td>FRI</td>\n",
       "    </tr>\n",
       "    <tr>\n",
       "      <th>10698</th>\n",
       "      <td>537237</td>\n",
       "      <td>72807A</td>\n",
       "      <td>SET/3 ROSE CANDLE IN JEWELLED BOX</td>\n",
       "      <td>1</td>\n",
       "      <td>8.47</td>\n",
       "      <td>8.47</td>\n",
       "      <td>nan</td>\n",
       "      <td>United Kingdom</td>\n",
       "      <td>2010-12-06 09:58:00</td>\n",
       "      <td>9-12</td>\n",
       "      <td>12</td>\n",
       "      <td>Winter</td>\n",
       "      <td>MON</td>\n",
       "    </tr>\n",
       "    <tr>\n",
       "      <th>409031</th>\n",
       "      <td>572037</td>\n",
       "      <td>22561</td>\n",
       "      <td>WOODEN SCHOOL COLOURING SET</td>\n",
       "      <td>3</td>\n",
       "      <td>1.65</td>\n",
       "      <td>4.95</td>\n",
       "      <td>17365.0</td>\n",
       "      <td>United Kingdom</td>\n",
       "      <td>2011-10-20 12:07:00</td>\n",
       "      <td>12-15</td>\n",
       "      <td>10</td>\n",
       "      <td>Winter</td>\n",
       "      <td>THU</td>\n",
       "    </tr>\n",
       "  </tbody>\n",
       "</table>\n",
       "</div>"
      ],
      "text/plain": [
       "       InvoiceNo StockCode                        Description  Quantity  \\\n",
       "19650     537880     22569        FELTCRAFT CUSHION BUTTERFLY         8   \n",
       "242244    558321    84510a     SET OF 4 ENGLISH ROSE COASTERS         1   \n",
       "369147    569016     23374            RED SPOT PAPER GIFT BAG        10   \n",
       "10698     537237    72807A  SET/3 ROSE CANDLE IN JEWELLED BOX         1   \n",
       "409031    572037     22561        WOODEN SCHOOL COLOURING SET         3   \n",
       "\n",
       "        UnitPrice  Totalsale CustomerID         Country     InvoiceDateTime  \\\n",
       "19650        3.75      30.00    12963.0  United Kingdom 2010-12-09 09:14:00   \n",
       "242244       2.46       2.46        nan  United Kingdom 2011-06-28 11:53:00   \n",
       "369147       0.82       8.20    14916.0  United Kingdom 2011-09-30 09:20:00   \n",
       "10698        8.47       8.47        nan  United Kingdom 2010-12-06 09:58:00   \n",
       "409031       1.65       4.95    17365.0  United Kingdom 2011-10-20 12:07:00   \n",
       "\n",
       "       TimeOfDay  Month  Season DayOfWeek  \n",
       "19650       9-12     12  Winter       THU  \n",
       "242244      9-12      6  Summer       TUE  \n",
       "369147      9-12      9    Fall       FRI  \n",
       "10698       9-12     12  Winter       MON  \n",
       "409031     12-15     10  Winter       THU  "
      ]
     },
     "execution_count": 50,
     "metadata": {},
     "output_type": "execute_result"
    }
   ],
   "source": [
    "df_q3 = data_df.copy()\n",
    "\n",
    "# Define a function to map months to seasons\n",
    "def map_month_to_season(month):\n",
    "    if 1 <= month <= 3:\n",
    "        return 'Spring'\n",
    "    elif 4 <= month <= 6:\n",
    "        return 'Summer'\n",
    "    elif 7 <= month <= 9:\n",
    "        return 'Fall'\n",
    "    else:\n",
    "        return 'Winter'\n",
    "\n",
    "bins = [0, 3, 6, 9, 12, 15, 18, 21, 24]\n",
    "labels = ['0-3', '3-6', '6-9', '9-12', '12-15', '15-18', '18-21', '21-24']\n",
    "df_q3['TimeOfDay'] = pd.cut(df_q3['InvoiceDateTime'].dt.hour, bins=bins, labels=labels, include_lowest=True, right=False)\n",
    "\n",
    "df_q3['Month'] = df_q3['InvoiceDateTime'].dt.month\n",
    "\n",
    "df_q3['Season'] = df_q3['Month'].apply(map_month_to_season)\n",
    "\n",
    "df_q3['DayOfWeek'] = df_q3['InvoiceDateTime'].dt.dayofweek\n",
    "\n",
    "day_names = ['MON', 'TUE', 'WED', 'THU', 'FRI', 'SAT', 'SUN']\n",
    "df_q3['DayOfWeek'] = df_q3['DayOfWeek'].map(lambda x: day_names[x])\n",
    "\n",
    "df_q3.sample(5)"
   ]
  },
  {
   "attachments": {},
   "cell_type": "markdown",
   "metadata": {},
   "source": [
    "#### _4.3.2. Analyzing Seasons_"
   ]
  },
  {
   "cell_type": "markdown",
   "metadata": {},
   "source": [
    "- We will plot a bar chart showing the Purchase Quantity in Each Season. The way we display the purchase quantity is to count the number of transactions in each season exclude the rows where `Quantity` is negative indicating that the transactions are failed."
   ]
  },
  {
   "cell_type": "code",
   "execution_count": 51,
   "metadata": {},
   "outputs": [
    {
     "data": {
      "image/png": "[encoded data removed]",
      "text/plain": [
       "<Figure size 1000x600 with 1 Axes>"
      ]
     },
     "metadata": {},
     "output_type": "display_data"
    }
   ],
   "source": [
    "# Define the order of seasons and soft colors\n",
    "season_order = ['Spring', 'Summer', 'Fall', 'Winter']\n",
    "season_colors = ['#9ACD32', '#FFD700', '#FFA07A', '#87CEEB']\n",
    "\n",
    "# Filter out rows with negative Quantity\n",
    "df_q3_positive = df_q3[df_q3['Quantity'] >= 0]\n",
    "\n",
    "# Group by season, count rounds, and reorder based on season_order\n",
    "season_counts = df_q3_positive.groupby('Season').size().reindex(season_order, fill_value=0)\n",
    "\n",
    "plt.figure(figsize=(10, 6))\n",
    "\n",
    "# Plotting the bar chart\n",
    "plt.bar(season_counts.index, season_counts.values, color=season_colors)\n",
    "plt.title('Purchase Quantity in Each Season')\n",
    "plt.xlabel('Season')\n",
    "plt.ylabel('Purchase Quantity')\n",
    "\n",
    "# Add percentages on top of each bar\n",
    "total_rounds = season_counts.sum()\n",
    "for i, count in enumerate(season_counts.values):\n",
    "    percentage = (count / total_rounds) * 100\n",
    "    plt.text(i, count + 0.1, f'{percentage:.1f}%', ha='center', va='bottom')\n",
    "\n",
    "plt.show()"
   ]
  },
  {
   "cell_type": "markdown",
   "metadata": {},
   "source": [
    "- Comments: \n",
    "    \n",
    "    + We can see that the Winter is the season when people purchase the highest number of products, almost double compared to the 3 other season. The reasons could be: \n",
    "    \n",
    "        + `Holiday Shopping`: The Winter season includes several holidays, such as Christmas and New Year's, which are associated with increased gift-giving and shopping. Consumers often engage in online retail purchases to buy gifts and take advantage of holiday promotions.\n",
    "\n",
    "        + `Seasonal Apparel and Accessories`: Most of the shops in this data are based in UK of which the wheather is characterized with cold weather, rain, sometimes snow and fog. As a result, winter typically sees a surge in the demand for cold-weather clothing, accessories, and related products. Customers may be purchasing items like winter coats, scarves, gloves, and boots.\n",
    "\n",
    "        + `Promotional Campaigns`: Many retailers run special promotions and discounts during the holiday season to attract customers. These promotions can stimulate online sales and encourage customers to make purchases.\n",
    "    \n",
    "    + In the Spring season saw a lowest percentage in purchase quantity, the reason could be:\n",
    "\n",
    "        + `Spring Cleaning and Saving`: In Spring, consumers might focus on spring cleaning and saving money after potentially higher spending during the holidays. This could result in a decrease in discretionary spending on retail purchases."
   ]
  },
  {
   "attachments": {},
   "cell_type": "markdown",
   "metadata": {},
   "source": [
    "#### _4.3.3. Analyzing Months_"
   ]
  },
  {
   "cell_type": "markdown",
   "metadata": {},
   "source": [
    "- We will plot a bar chart showing the Purchase Quantity in Each Month. The way we display the purchase quantity is to count the number of transactions in each month exclude the rows where `Quantity` is negative indicating that the transactions are failed."
   ]
  },
  {
   "cell_type": "code",
   "execution_count": 52,
   "metadata": {},
   "outputs": [
    {
     "data": {
      "image/png": "[encoded data removed]",
      "text/plain": [
       "<Figure size 1000x600 with 1 Axes>"
      ]
     },
     "metadata": {},
     "output_type": "display_data"
    }
   ],
   "source": [
    "# Filter out rows with negative Quantity\n",
    "df_q3_positive = df_q3[df_q3['Quantity'] >= 0]\n",
    "\n",
    "# Group by month, count rounds, and reorder based on month\n",
    "month_counts = df_q3_positive.groupby('Month').size()\n",
    "\n",
    "plt.figure(figsize=(10, 6))\n",
    "\n",
    "# Plotting the bar chart\n",
    "bars = plt.bar(month_counts.index, month_counts.values)\n",
    "plt.title('Purchase Quantity in Each Month')\n",
    "plt.xlabel('Month')\n",
    "plt.ylabel('Purchase Quantity')\n",
    "\n",
    "# Add percentages on top of each bar\n",
    "total_rounds = month_counts.sum()\n",
    "for bar in bars:\n",
    "    count = bar.get_height()\n",
    "    percentage = (count / total_rounds) * 100\n",
    "    plt.text(bar.get_x() + bar.get_width() / 2, count + 0.1, f'{percentage:.1f}%', ha='center', va='bottom')\n",
    "\n",
    "plt.xticks(range(1, 13))\n",
    "\n",
    "plt.show()"
   ]
  },
  {
   "cell_type": "markdown",
   "metadata": {},
   "source": [
    "- Comments: \n",
    "\n",
    "    + We can see that although Winter has the highest in purchase quantity, but the month that really stands out in the Winter is November, the reason could be `Black Friday and Cyber Monday Sales`. November is known for major shopping events such as Black Friday and Cyber Monday, where retailers offer significant discounts. Consumers may be more inclined to make purchases during this period, leading to a peak in purchase quantity.\n",
    "\n",
    "    + Because people have already spend money on November, December witness a decline in the purchase quantity of folks."
   ]
  },
  {
   "attachments": {},
   "cell_type": "markdown",
   "metadata": {},
   "source": [
    "#### _4.3.4. Analyzing TimeOfDay in DayOfWeek_"
   ]
  },
  {
   "cell_type": "markdown",
   "metadata": {},
   "source": [
    "- Discover the distribution of the `TimeOfDay` and `DayOfWeek` column so that we don't need to plot the Time when there is no transaction."
   ]
  },
  {
   "cell_type": "code",
   "execution_count": 53,
   "metadata": {},
   "outputs": [
    {
     "name": "stdout",
     "output_type": "stream",
     "text": [
      "TimeOfDay\n",
      "12-15    173761\n",
      "15-18    132075\n",
      "9-12     104374\n",
      "18-21     10377\n",
      "6-9        6117\n",
      "0-3           0\n",
      "3-6           0\n",
      "21-24         0\n",
      "Name: count, dtype: int64\n",
      "DayOfWeek\n",
      "THU    79891\n",
      "TUE    79693\n",
      "MON    75823\n",
      "WED    73222\n",
      "FRI    64087\n",
      "SUN    53988\n",
      "Name: count, dtype: int64\n"
     ]
    }
   ],
   "source": [
    "print(df_q3['TimeOfDay'].value_counts())\n",
    "\n",
    "print(df_q3['DayOfWeek'].value_counts())"
   ]
  },
  {
   "cell_type": "markdown",
   "metadata": {},
   "source": [
    "- We will plot a heatmap showing the Purchase Quantity at each period of time in each day"
   ]
  },
  {
   "cell_type": "code",
   "execution_count": 54,
   "metadata": {},
   "outputs": [
    {
     "data": {
      "image/png": "[encoded data removed]",
      "text/plain": [
       "<Figure size 1200x800 with 2 Axes>"
      ]
     },
     "metadata": {},
     "output_type": "display_data"
    }
   ],
   "source": [
    "pivot_table = pd.pivot_table(df_q3, values='InvoiceDateTime', index='DayOfWeek', columns='TimeOfDay', aggfunc='count', fill_value=0)\n",
    "\n",
    "pivot_table = pivot_table.loc[:, (pivot_table != 0).any(axis=0)]\n",
    "\n",
    "pivot_table = pivot_table.loc[pivot_table.sum(axis=1) > 0]\n",
    "\n",
    "plt.figure(figsize=(12, 8))\n",
    "sns.heatmap(pivot_table, annot=True, cmap='YlGnBu', fmt='g', cbar_kws={'label': 'Count'})\n",
    "plt.title('Heatmap of TimeOfDay vs DayOfWeek')\n",
    "plt.xlabel('Time of Day')\n",
    "plt.ylabel('Day of Week')\n",
    "plt.show()"
   ]
  },
  {
   "cell_type": "markdown",
   "metadata": {},
   "source": [
    "- Conclusion:\n",
    "\n",
    "    + We can see that the period when there are most transactions is `12-15`, the reason for this could be:\n",
    "\n",
    "        + `Lunchtime Shopping`: Many people take breaks during lunchtime and may use this time to do some online shopping.\n",
    "\n",
    "        + `Convenience`: Afternoon hours are often convenient for people to browse and make purchases. It's a time when people may be more relaxed and have some free time.\n",
    "        \n",
    "        + `Work Breaks`: People may take breaks from work during these hours, and online shopping could be one of their activities during breaks.\n",
    "\n",
    "    + The time where there are least transactions are `6-9` and `18-21`, the reason for this could be:\n",
    "\n",
    "        + `Morning Rush`: During 6-9 AM, people may be in a rush to get ready for work or commute, and they might not have much time for online shopping.\n",
    "\n",
    "        + `Evening Activities`: 6-9 PM is a time when people often have dinner, spend time with family, or engage in other evening activities. This could result in fewer online shopping activities during this period.\n",
    "\n",
    "    + Although the number of transactions in the time `18-21` is pretty low on almost everyday of the week, `THU` witness a standout amount of transactions.\n",
    "\n",
    "    + In the time period `15-18` there are a moderate number of transactions but in the first three days of the week, the number is high."
   ]
  },
  {
   "attachments": {},
   "cell_type": "markdown",
   "metadata": {},
   "source": [
    "### _4.4. Which items are frequently bought together?_"
   ]
  },
  {
   "cell_type": "markdown",
   "metadata": {},
   "source": [
    "- The benefits of answering this question:\n",
    "\n",
    "    + `Cross-Selling Opportunities`: Identifying items that are frequently bought together allows businesses to create targeted cross-selling strategies. For example, if customers often purchase cameras and memory cards together, a business can bundle these items or create special promotions to encourage customers to buy both.\n",
    "\n",
    "    + `Inventory Management`: Understanding item associations helps with inventory management. If certain items are frequently bought together, businesses can optimize their stock levels and ensure that these items are well-stocked to meet customer demand.\n",
    "\n",
    "    + `Improved Customer Experience`: By offering bundles or packages of frequently associated items, businesses enhance the overall customer experience. Customers may appreciate the convenience of finding related products together, leading to higher satisfaction and loyalty."
   ]
  },
  {
   "cell_type": "markdown",
   "metadata": {},
   "source": [
    "- Remove rows with missing values in the 'InvoiceNo', 'StockCode', and 'Description' columns from the original DataFrame\n",
    "- Filter the DataFrame to include only rows with a positive quantity, assuming negative quantities represent returns or other non-purchases."
   ]
  },
  {
   "cell_type": "code",
   "execution_count": 55,
   "metadata": {},
   "outputs": [],
   "source": [
    "df_q4 = data_df.dropna(subset=['InvoiceNo', 'StockCode', 'Description'])\n",
    "df_positive_quantity = df_q4[df_q4['Quantity'] > 0]"
   ]
  },
  {
   "cell_type": "markdown",
   "metadata": {},
   "source": [
    "- Group the preprocessed DataFrame by 'InvoiceNo' and create a list of 'Description' for each invoice."
   ]
  },
  {
   "cell_type": "code",
   "execution_count": 56,
   "metadata": {},
   "outputs": [
    {
     "name": "stdout",
     "output_type": "stream",
     "text": [
      "Transactions:\n"
     ]
    },
    {
     "data": {
      "text/html": [
       "<div>\n",
       "<style scoped>\n",
       "    .dataframe tbody tr th:only-of-type {\n",
       "        vertical-align: middle;\n",
       "    }\n",
       "\n",
       "    .dataframe tbody tr th {\n",
       "        vertical-align: top;\n",
       "    }\n",
       "\n",
       "    .dataframe thead th {\n",
       "        text-align: right;\n",
       "    }\n",
       "</style>\n",
       "<table border=\"1\" class=\"dataframe\">\n",
       "  <thead>\n",
       "    <tr style=\"text-align: right;\">\n",
       "      <th></th>\n",
       "      <th>0</th>\n",
       "      <th>1</th>\n",
       "      <th>2</th>\n",
       "      <th>3</th>\n",
       "      <th>4</th>\n",
       "      <th>5</th>\n",
       "      <th>6</th>\n",
       "      <th>7</th>\n",
       "      <th>8</th>\n",
       "      <th>9</th>\n",
       "      <th>...</th>\n",
       "      <th>916</th>\n",
       "      <th>917</th>\n",
       "      <th>918</th>\n",
       "      <th>919</th>\n",
       "      <th>920</th>\n",
       "      <th>921</th>\n",
       "      <th>922</th>\n",
       "      <th>923</th>\n",
       "      <th>924</th>\n",
       "      <th>925</th>\n",
       "    </tr>\n",
       "  </thead>\n",
       "  <tbody>\n",
       "    <tr>\n",
       "      <th>0</th>\n",
       "      <td>WHITE HANGING HEART T-LIGHT HOLDER</td>\n",
       "      <td>WHITE METAL LANTERN</td>\n",
       "      <td>CREAM CUPID HEARTS COAT HANGER</td>\n",
       "      <td>KNITTED UNION FLAG HOT WATER BOTTLE</td>\n",
       "      <td>RED WOOLLY HOTTIE WHITE HEART.</td>\n",
       "      <td>SET 7 BABUSHKA NESTING BOXES</td>\n",
       "      <td>GLASS STAR FROSTED T-LIGHT HOLDER</td>\n",
       "      <td>None</td>\n",
       "      <td>None</td>\n",
       "      <td>None</td>\n",
       "      <td>...</td>\n",
       "      <td>None</td>\n",
       "      <td>None</td>\n",
       "      <td>None</td>\n",
       "      <td>None</td>\n",
       "      <td>None</td>\n",
       "      <td>None</td>\n",
       "      <td>None</td>\n",
       "      <td>None</td>\n",
       "      <td>None</td>\n",
       "      <td>None</td>\n",
       "    </tr>\n",
       "    <tr>\n",
       "      <th>1</th>\n",
       "      <td>HAND WARMER UNION JACK</td>\n",
       "      <td>HAND WARMER RED POLKA DOT</td>\n",
       "      <td>None</td>\n",
       "      <td>None</td>\n",
       "      <td>None</td>\n",
       "      <td>None</td>\n",
       "      <td>None</td>\n",
       "      <td>None</td>\n",
       "      <td>None</td>\n",
       "      <td>None</td>\n",
       "      <td>...</td>\n",
       "      <td>None</td>\n",
       "      <td>None</td>\n",
       "      <td>None</td>\n",
       "      <td>None</td>\n",
       "      <td>None</td>\n",
       "      <td>None</td>\n",
       "      <td>None</td>\n",
       "      <td>None</td>\n",
       "      <td>None</td>\n",
       "      <td>None</td>\n",
       "    </tr>\n",
       "    <tr>\n",
       "      <th>2</th>\n",
       "      <td>POPPY'S PLAYHOUSE BEDROOM</td>\n",
       "      <td>POPPY'S PLAYHOUSE KITCHEN</td>\n",
       "      <td>FELTCRAFT PRINCESS CHARLOTTE DOLL</td>\n",
       "      <td>IVORY KNITTED MUG COSY</td>\n",
       "      <td>BOX OF 6 ASSORTED COLOUR TEASPOONS</td>\n",
       "      <td>BOX OF VINTAGE JIGSAW BLOCKS</td>\n",
       "      <td>HOME BUILDING BLOCK WORD</td>\n",
       "      <td>LOVE BUILDING BLOCK WORD</td>\n",
       "      <td>RECIPE BOX WITH METAL HEART</td>\n",
       "      <td>DOORMAT NEW ENGLAND</td>\n",
       "      <td>...</td>\n",
       "      <td>None</td>\n",
       "      <td>None</td>\n",
       "      <td>None</td>\n",
       "      <td>None</td>\n",
       "      <td>None</td>\n",
       "      <td>None</td>\n",
       "      <td>None</td>\n",
       "      <td>None</td>\n",
       "      <td>None</td>\n",
       "      <td>None</td>\n",
       "    </tr>\n",
       "    <tr>\n",
       "      <th>3</th>\n",
       "      <td>JAM MAKING SET WITH JARS</td>\n",
       "      <td>RED COAT RACK PARIS FASHION</td>\n",
       "      <td>YELLOW COAT RACK PARIS FASHION</td>\n",
       "      <td>BLUE COAT RACK PARIS FASHION</td>\n",
       "      <td>None</td>\n",
       "      <td>None</td>\n",
       "      <td>None</td>\n",
       "      <td>None</td>\n",
       "      <td>None</td>\n",
       "      <td>None</td>\n",
       "      <td>...</td>\n",
       "      <td>None</td>\n",
       "      <td>None</td>\n",
       "      <td>None</td>\n",
       "      <td>None</td>\n",
       "      <td>None</td>\n",
       "      <td>None</td>\n",
       "      <td>None</td>\n",
       "      <td>None</td>\n",
       "      <td>None</td>\n",
       "      <td>None</td>\n",
       "    </tr>\n",
       "    <tr>\n",
       "      <th>4</th>\n",
       "      <td>BATH BUILDING BLOCK WORD</td>\n",
       "      <td>None</td>\n",
       "      <td>None</td>\n",
       "      <td>None</td>\n",
       "      <td>None</td>\n",
       "      <td>None</td>\n",
       "      <td>None</td>\n",
       "      <td>None</td>\n",
       "      <td>None</td>\n",
       "      <td>None</td>\n",
       "      <td>...</td>\n",
       "      <td>None</td>\n",
       "      <td>None</td>\n",
       "      <td>None</td>\n",
       "      <td>None</td>\n",
       "      <td>None</td>\n",
       "      <td>None</td>\n",
       "      <td>None</td>\n",
       "      <td>None</td>\n",
       "      <td>None</td>\n",
       "      <td>None</td>\n",
       "    </tr>\n",
       "    <tr>\n",
       "      <th>...</th>\n",
       "      <td>...</td>\n",
       "      <td>...</td>\n",
       "      <td>...</td>\n",
       "      <td>...</td>\n",
       "      <td>...</td>\n",
       "      <td>...</td>\n",
       "      <td>...</td>\n",
       "      <td>...</td>\n",
       "      <td>...</td>\n",
       "      <td>...</td>\n",
       "      <td>...</td>\n",
       "      <td>...</td>\n",
       "      <td>...</td>\n",
       "      <td>...</td>\n",
       "      <td>...</td>\n",
       "      <td>...</td>\n",
       "      <td>...</td>\n",
       "      <td>...</td>\n",
       "      <td>...</td>\n",
       "      <td>...</td>\n",
       "      <td>...</td>\n",
       "    </tr>\n",
       "    <tr>\n",
       "      <th>17866</th>\n",
       "      <td>SET OF 6 RIBBONS PERFECTLY PRETTY</td>\n",
       "      <td>SET OF 6 RIBBONS PARTY</td>\n",
       "      <td>LUNCH BAG RED VINTAGE DOILY</td>\n",
       "      <td>None</td>\n",
       "      <td>None</td>\n",
       "      <td>None</td>\n",
       "      <td>None</td>\n",
       "      <td>None</td>\n",
       "      <td>None</td>\n",
       "      <td>None</td>\n",
       "      <td>...</td>\n",
       "      <td>None</td>\n",
       "      <td>None</td>\n",
       "      <td>None</td>\n",
       "      <td>None</td>\n",
       "      <td>None</td>\n",
       "      <td>None</td>\n",
       "      <td>None</td>\n",
       "      <td>None</td>\n",
       "      <td>None</td>\n",
       "      <td>None</td>\n",
       "    </tr>\n",
       "    <tr>\n",
       "      <th>17867</th>\n",
       "      <td>BICYCLE PUNCTURE REPAIR KIT</td>\n",
       "      <td>CLASSIC BICYCLE CLIPS</td>\n",
       "      <td>None</td>\n",
       "      <td>None</td>\n",
       "      <td>None</td>\n",
       "      <td>None</td>\n",
       "      <td>None</td>\n",
       "      <td>None</td>\n",
       "      <td>None</td>\n",
       "      <td>None</td>\n",
       "      <td>...</td>\n",
       "      <td>None</td>\n",
       "      <td>None</td>\n",
       "      <td>None</td>\n",
       "      <td>None</td>\n",
       "      <td>None</td>\n",
       "      <td>None</td>\n",
       "      <td>None</td>\n",
       "      <td>None</td>\n",
       "      <td>None</td>\n",
       "      <td>None</td>\n",
       "    </tr>\n",
       "    <tr>\n",
       "      <th>17868</th>\n",
       "      <td>BLACK TEA TOWEL CLASSIC DESIGN</td>\n",
       "      <td>VICTORIAN GLASS HANGING T-LIGHT</td>\n",
       "      <td>EMBOSSED GLASS TEALIGHT HOLDER</td>\n",
       "      <td>RABBIT NIGHT LIGHT</td>\n",
       "      <td>ASSORTED COLOUR BIRD ORNAMENT</td>\n",
       "      <td>GREY HEART HOT WATER BOTTLE</td>\n",
       "      <td>LOVE HOT WATER BOTTLE</td>\n",
       "      <td>ALARM CLOCK BAKELIKE GREEN</td>\n",
       "      <td>ALARM CLOCK BAKELIKE RED</td>\n",
       "      <td>LARGE CHINESE STYLE SCISSOR</td>\n",
       "      <td>...</td>\n",
       "      <td>None</td>\n",
       "      <td>None</td>\n",
       "      <td>None</td>\n",
       "      <td>None</td>\n",
       "      <td>None</td>\n",
       "      <td>None</td>\n",
       "      <td>None</td>\n",
       "      <td>None</td>\n",
       "      <td>None</td>\n",
       "      <td>None</td>\n",
       "    </tr>\n",
       "    <tr>\n",
       "      <th>17869</th>\n",
       "      <td>LARGE CAKE STAND  HANGING STRAWBERY</td>\n",
       "      <td>None</td>\n",
       "      <td>None</td>\n",
       "      <td>None</td>\n",
       "      <td>None</td>\n",
       "      <td>None</td>\n",
       "      <td>None</td>\n",
       "      <td>None</td>\n",
       "      <td>None</td>\n",
       "      <td>None</td>\n",
       "      <td>...</td>\n",
       "      <td>None</td>\n",
       "      <td>None</td>\n",
       "      <td>None</td>\n",
       "      <td>None</td>\n",
       "      <td>None</td>\n",
       "      <td>None</td>\n",
       "      <td>None</td>\n",
       "      <td>None</td>\n",
       "      <td>None</td>\n",
       "      <td>None</td>\n",
       "    </tr>\n",
       "    <tr>\n",
       "      <th>17870</th>\n",
       "      <td>CIRCUS PARADE LUNCH BOX</td>\n",
       "      <td>PLASTERS IN TIN CIRCUS PARADE</td>\n",
       "      <td>PLASTERS IN TIN STRONGMAN</td>\n",
       "      <td>ALARM CLOCK BAKELIKE PINK</td>\n",
       "      <td>ALARM CLOCK BAKELIKE RED</td>\n",
       "      <td>ALARM CLOCK BAKELIKE GREEN</td>\n",
       "      <td>ALARM CLOCK BAKELIKE IVORY</td>\n",
       "      <td>CHILDRENS APRON SPACEBOY DESIGN</td>\n",
       "      <td>SPACEBOY LUNCH BOX</td>\n",
       "      <td>CHILDRENS CUTLERY SPACEBOY</td>\n",
       "      <td>...</td>\n",
       "      <td>None</td>\n",
       "      <td>None</td>\n",
       "      <td>None</td>\n",
       "      <td>None</td>\n",
       "      <td>None</td>\n",
       "      <td>None</td>\n",
       "      <td>None</td>\n",
       "      <td>None</td>\n",
       "      <td>None</td>\n",
       "      <td>None</td>\n",
       "    </tr>\n",
       "  </tbody>\n",
       "</table>\n",
       "<p>17871 rows × 926 columns</p>\n",
       "</div>"
      ],
      "text/plain": [
       "                                       0                                1    \\\n",
       "0       WHITE HANGING HEART T-LIGHT HOLDER              WHITE METAL LANTERN   \n",
       "1                   HAND WARMER UNION JACK        HAND WARMER RED POLKA DOT   \n",
       "2               POPPY'S PLAYHOUSE BEDROOM         POPPY'S PLAYHOUSE KITCHEN   \n",
       "3                 JAM MAKING SET WITH JARS      RED COAT RACK PARIS FASHION   \n",
       "4                 BATH BUILDING BLOCK WORD                             None   \n",
       "...                                    ...                              ...   \n",
       "17866  SET OF 6 RIBBONS PERFECTLY PRETTY             SET OF 6 RIBBONS PARTY   \n",
       "17867         BICYCLE PUNCTURE REPAIR KIT            CLASSIC BICYCLE CLIPS    \n",
       "17868       BLACK TEA TOWEL CLASSIC DESIGN  VICTORIAN GLASS HANGING T-LIGHT   \n",
       "17869  LARGE CAKE STAND  HANGING STRAWBERY                             None   \n",
       "17870             CIRCUS PARADE LUNCH BOX    PLASTERS IN TIN CIRCUS PARADE    \n",
       "\n",
       "                                     2                                    3    \\\n",
       "0         CREAM CUPID HEARTS COAT HANGER  KNITTED UNION FLAG HOT WATER BOTTLE   \n",
       "1                                   None                                 None   \n",
       "2      FELTCRAFT PRINCESS CHARLOTTE DOLL              IVORY KNITTED MUG COSY    \n",
       "3         YELLOW COAT RACK PARIS FASHION         BLUE COAT RACK PARIS FASHION   \n",
       "4                                   None                                 None   \n",
       "...                                  ...                                  ...   \n",
       "17866        LUNCH BAG RED VINTAGE DOILY                                 None   \n",
       "17867                               None                                 None   \n",
       "17868     EMBOSSED GLASS TEALIGHT HOLDER                   RABBIT NIGHT LIGHT   \n",
       "17869                               None                                 None   \n",
       "17870          PLASTERS IN TIN STRONGMAN            ALARM CLOCK BAKELIKE PINK   \n",
       "\n",
       "                                      4                              5    \\\n",
       "0          RED WOOLLY HOTTIE WHITE HEART.   SET 7 BABUSHKA NESTING BOXES   \n",
       "1                                    None                           None   \n",
       "2      BOX OF 6 ASSORTED COLOUR TEASPOONS  BOX OF VINTAGE JIGSAW BLOCKS    \n",
       "3                                    None                           None   \n",
       "4                                    None                           None   \n",
       "...                                   ...                            ...   \n",
       "17866                                None                           None   \n",
       "17867                                None                           None   \n",
       "17868       ASSORTED COLOUR BIRD ORNAMENT    GREY HEART HOT WATER BOTTLE   \n",
       "17869                                None                           None   \n",
       "17870           ALARM CLOCK BAKELIKE RED      ALARM CLOCK BAKELIKE GREEN   \n",
       "\n",
       "                                     6                                7    \\\n",
       "0      GLASS STAR FROSTED T-LIGHT HOLDER                             None   \n",
       "1                                   None                             None   \n",
       "2               HOME BUILDING BLOCK WORD         LOVE BUILDING BLOCK WORD   \n",
       "3                                   None                             None   \n",
       "4                                   None                             None   \n",
       "...                                  ...                              ...   \n",
       "17866                               None                             None   \n",
       "17867                               None                             None   \n",
       "17868              LOVE HOT WATER BOTTLE       ALARM CLOCK BAKELIKE GREEN   \n",
       "17869                               None                             None   \n",
       "17870         ALARM CLOCK BAKELIKE IVORY  CHILDRENS APRON SPACEBOY DESIGN   \n",
       "\n",
       "                               8                            9    ...   916  \\\n",
       "0                             None                         None  ...  None   \n",
       "1                             None                         None  ...  None   \n",
       "2      RECIPE BOX WITH METAL HEART          DOORMAT NEW ENGLAND  ...  None   \n",
       "3                             None                         None  ...  None   \n",
       "4                             None                         None  ...  None   \n",
       "...                            ...                          ...  ...   ...   \n",
       "17866                         None                         None  ...  None   \n",
       "17867                         None                         None  ...  None   \n",
       "17868    ALARM CLOCK BAKELIKE RED   LARGE CHINESE STYLE SCISSOR  ...  None   \n",
       "17869                         None                         None  ...  None   \n",
       "17870          SPACEBOY LUNCH BOX   CHILDRENS CUTLERY SPACEBOY   ...  None   \n",
       "\n",
       "        917   918   919   920   921   922   923   924   925  \n",
       "0      None  None  None  None  None  None  None  None  None  \n",
       "1      None  None  None  None  None  None  None  None  None  \n",
       "2      None  None  None  None  None  None  None  None  None  \n",
       "3      None  None  None  None  None  None  None  None  None  \n",
       "4      None  None  None  None  None  None  None  None  None  \n",
       "...     ...   ...   ...   ...   ...   ...   ...   ...   ...  \n",
       "17866  None  None  None  None  None  None  None  None  None  \n",
       "17867  None  None  None  None  None  None  None  None  None  \n",
       "17868  None  None  None  None  None  None  None  None  None  \n",
       "17869  None  None  None  None  None  None  None  None  None  \n",
       "17870  None  None  None  None  None  None  None  None  None  \n",
       "\n",
       "[17871 rows x 926 columns]"
      ]
     },
     "execution_count": 56,
     "metadata": {},
     "output_type": "execute_result"
    }
   ],
   "source": [
    "transactions = df_positive_quantity.groupby('InvoiceNo')['Description'].apply(list).tolist()\n",
    "\n",
    "transaction_table = pd.DataFrame(transactions)\n",
    "print(\"Transactions:\")\n",
    "transaction_table"
   ]
  },
  {
   "cell_type": "markdown",
   "metadata": {},
   "source": [
    "- Use TransactionEncoder to perform one-hot encoding on the transactions, creating a binary matrix where each row corresponds to an invoice and each column corresponds to a unique product (Description)."
   ]
  },
  {
   "cell_type": "code",
   "execution_count": 57,
   "metadata": {},
   "outputs": [
    {
     "name": "stdout",
     "output_type": "stream",
     "text": [
      "\n",
      "One-Hot Encoded Matrix:\n"
     ]
    },
    {
     "data": {
      "text/html": [
       "<div>\n",
       "<style scoped>\n",
       "    .dataframe tbody tr th:only-of-type {\n",
       "        vertical-align: middle;\n",
       "    }\n",
       "\n",
       "    .dataframe tbody tr th {\n",
       "        vertical-align: top;\n",
       "    }\n",
       "\n",
       "    .dataframe thead th {\n",
       "        text-align: right;\n",
       "    }\n",
       "</style>\n",
       "<table border=\"1\" class=\"dataframe\">\n",
       "  <thead>\n",
       "    <tr style=\"text-align: right;\">\n",
       "      <th></th>\n",
       "      <th>4 PURPLE FLOCK DINNER CANDLES</th>\n",
       "      <th>50'S CHRISTMAS GIFT BAG LARGE</th>\n",
       "      <th>DOLLY GIRL BEAKER</th>\n",
       "      <th>I LOVE LONDON MINI BACKPACK</th>\n",
       "      <th>I LOVE LONDON MINI RUCKSACK</th>\n",
       "      <th>OVAL WALL MIRROR DIAMANTE</th>\n",
       "      <th>RED SPOT GIFT BAG LARGE</th>\n",
       "      <th>SET 2 TEA TOWELS I LOVE LONDON</th>\n",
       "      <th>TRELLIS COAT RACK</th>\n",
       "      <th>*USB Office Mirror Ball</th>\n",
       "      <th>...</th>\n",
       "      <th>dotcomstock</th>\n",
       "      <th>for online retail orders</th>\n",
       "      <th>found</th>\n",
       "      <th>had been put aside</th>\n",
       "      <th>michel oops</th>\n",
       "      <th>nan</th>\n",
       "      <th>returned</th>\n",
       "      <th>taig adjust</th>\n",
       "      <th>test</th>\n",
       "      <th>to push order througha s stock was</th>\n",
       "    </tr>\n",
       "  </thead>\n",
       "  <tbody>\n",
       "    <tr>\n",
       "      <th>0</th>\n",
       "      <td>False</td>\n",
       "      <td>False</td>\n",
       "      <td>False</td>\n",
       "      <td>False</td>\n",
       "      <td>False</td>\n",
       "      <td>False</td>\n",
       "      <td>False</td>\n",
       "      <td>False</td>\n",
       "      <td>False</td>\n",
       "      <td>False</td>\n",
       "      <td>...</td>\n",
       "      <td>False</td>\n",
       "      <td>False</td>\n",
       "      <td>False</td>\n",
       "      <td>False</td>\n",
       "      <td>False</td>\n",
       "      <td>False</td>\n",
       "      <td>False</td>\n",
       "      <td>False</td>\n",
       "      <td>False</td>\n",
       "      <td>False</td>\n",
       "    </tr>\n",
       "    <tr>\n",
       "      <th>1</th>\n",
       "      <td>False</td>\n",
       "      <td>False</td>\n",
       "      <td>False</td>\n",
       "      <td>False</td>\n",
       "      <td>False</td>\n",
       "      <td>False</td>\n",
       "      <td>False</td>\n",
       "      <td>False</td>\n",
       "      <td>False</td>\n",
       "      <td>False</td>\n",
       "      <td>...</td>\n",
       "      <td>False</td>\n",
       "      <td>False</td>\n",
       "      <td>False</td>\n",
       "      <td>False</td>\n",
       "      <td>False</td>\n",
       "      <td>False</td>\n",
       "      <td>False</td>\n",
       "      <td>False</td>\n",
       "      <td>False</td>\n",
       "      <td>False</td>\n",
       "    </tr>\n",
       "    <tr>\n",
       "      <th>2</th>\n",
       "      <td>False</td>\n",
       "      <td>False</td>\n",
       "      <td>False</td>\n",
       "      <td>False</td>\n",
       "      <td>False</td>\n",
       "      <td>False</td>\n",
       "      <td>False</td>\n",
       "      <td>False</td>\n",
       "      <td>False</td>\n",
       "      <td>False</td>\n",
       "      <td>...</td>\n",
       "      <td>False</td>\n",
       "      <td>False</td>\n",
       "      <td>False</td>\n",
       "      <td>False</td>\n",
       "      <td>False</td>\n",
       "      <td>False</td>\n",
       "      <td>False</td>\n",
       "      <td>False</td>\n",
       "      <td>False</td>\n",
       "      <td>False</td>\n",
       "    </tr>\n",
       "    <tr>\n",
       "      <th>3</th>\n",
       "      <td>False</td>\n",
       "      <td>False</td>\n",
       "      <td>False</td>\n",
       "      <td>False</td>\n",
       "      <td>False</td>\n",
       "      <td>False</td>\n",
       "      <td>False</td>\n",
       "      <td>False</td>\n",
       "      <td>False</td>\n",
       "      <td>False</td>\n",
       "      <td>...</td>\n",
       "      <td>False</td>\n",
       "      <td>False</td>\n",
       "      <td>False</td>\n",
       "      <td>False</td>\n",
       "      <td>False</td>\n",
       "      <td>False</td>\n",
       "      <td>False</td>\n",
       "      <td>False</td>\n",
       "      <td>False</td>\n",
       "      <td>False</td>\n",
       "    </tr>\n",
       "    <tr>\n",
       "      <th>4</th>\n",
       "      <td>False</td>\n",
       "      <td>False</td>\n",
       "      <td>False</td>\n",
       "      <td>False</td>\n",
       "      <td>False</td>\n",
       "      <td>False</td>\n",
       "      <td>False</td>\n",
       "      <td>False</td>\n",
       "      <td>False</td>\n",
       "      <td>False</td>\n",
       "      <td>...</td>\n",
       "      <td>False</td>\n",
       "      <td>False</td>\n",
       "      <td>False</td>\n",
       "      <td>False</td>\n",
       "      <td>False</td>\n",
       "      <td>False</td>\n",
       "      <td>False</td>\n",
       "      <td>False</td>\n",
       "      <td>False</td>\n",
       "      <td>False</td>\n",
       "    </tr>\n",
       "    <tr>\n",
       "      <th>...</th>\n",
       "      <td>...</td>\n",
       "      <td>...</td>\n",
       "      <td>...</td>\n",
       "      <td>...</td>\n",
       "      <td>...</td>\n",
       "      <td>...</td>\n",
       "      <td>...</td>\n",
       "      <td>...</td>\n",
       "      <td>...</td>\n",
       "      <td>...</td>\n",
       "      <td>...</td>\n",
       "      <td>...</td>\n",
       "      <td>...</td>\n",
       "      <td>...</td>\n",
       "      <td>...</td>\n",
       "      <td>...</td>\n",
       "      <td>...</td>\n",
       "      <td>...</td>\n",
       "      <td>...</td>\n",
       "      <td>...</td>\n",
       "      <td>...</td>\n",
       "    </tr>\n",
       "    <tr>\n",
       "      <th>17866</th>\n",
       "      <td>False</td>\n",
       "      <td>False</td>\n",
       "      <td>False</td>\n",
       "      <td>False</td>\n",
       "      <td>False</td>\n",
       "      <td>False</td>\n",
       "      <td>False</td>\n",
       "      <td>False</td>\n",
       "      <td>False</td>\n",
       "      <td>False</td>\n",
       "      <td>...</td>\n",
       "      <td>False</td>\n",
       "      <td>False</td>\n",
       "      <td>False</td>\n",
       "      <td>False</td>\n",
       "      <td>False</td>\n",
       "      <td>False</td>\n",
       "      <td>False</td>\n",
       "      <td>False</td>\n",
       "      <td>False</td>\n",
       "      <td>False</td>\n",
       "    </tr>\n",
       "    <tr>\n",
       "      <th>17867</th>\n",
       "      <td>False</td>\n",
       "      <td>False</td>\n",
       "      <td>False</td>\n",
       "      <td>False</td>\n",
       "      <td>False</td>\n",
       "      <td>False</td>\n",
       "      <td>False</td>\n",
       "      <td>False</td>\n",
       "      <td>False</td>\n",
       "      <td>False</td>\n",
       "      <td>...</td>\n",
       "      <td>False</td>\n",
       "      <td>False</td>\n",
       "      <td>False</td>\n",
       "      <td>False</td>\n",
       "      <td>False</td>\n",
       "      <td>False</td>\n",
       "      <td>False</td>\n",
       "      <td>False</td>\n",
       "      <td>False</td>\n",
       "      <td>False</td>\n",
       "    </tr>\n",
       "    <tr>\n",
       "      <th>17868</th>\n",
       "      <td>False</td>\n",
       "      <td>False</td>\n",
       "      <td>False</td>\n",
       "      <td>False</td>\n",
       "      <td>False</td>\n",
       "      <td>False</td>\n",
       "      <td>False</td>\n",
       "      <td>False</td>\n",
       "      <td>False</td>\n",
       "      <td>False</td>\n",
       "      <td>...</td>\n",
       "      <td>False</td>\n",
       "      <td>False</td>\n",
       "      <td>False</td>\n",
       "      <td>False</td>\n",
       "      <td>False</td>\n",
       "      <td>False</td>\n",
       "      <td>False</td>\n",
       "      <td>False</td>\n",
       "      <td>False</td>\n",
       "      <td>False</td>\n",
       "    </tr>\n",
       "    <tr>\n",
       "      <th>17869</th>\n",
       "      <td>False</td>\n",
       "      <td>False</td>\n",
       "      <td>False</td>\n",
       "      <td>False</td>\n",
       "      <td>False</td>\n",
       "      <td>False</td>\n",
       "      <td>False</td>\n",
       "      <td>False</td>\n",
       "      <td>False</td>\n",
       "      <td>False</td>\n",
       "      <td>...</td>\n",
       "      <td>False</td>\n",
       "      <td>False</td>\n",
       "      <td>False</td>\n",
       "      <td>False</td>\n",
       "      <td>False</td>\n",
       "      <td>False</td>\n",
       "      <td>False</td>\n",
       "      <td>False</td>\n",
       "      <td>False</td>\n",
       "      <td>False</td>\n",
       "    </tr>\n",
       "    <tr>\n",
       "      <th>17870</th>\n",
       "      <td>False</td>\n",
       "      <td>False</td>\n",
       "      <td>False</td>\n",
       "      <td>False</td>\n",
       "      <td>False</td>\n",
       "      <td>False</td>\n",
       "      <td>False</td>\n",
       "      <td>False</td>\n",
       "      <td>False</td>\n",
       "      <td>False</td>\n",
       "      <td>...</td>\n",
       "      <td>False</td>\n",
       "      <td>False</td>\n",
       "      <td>False</td>\n",
       "      <td>False</td>\n",
       "      <td>False</td>\n",
       "      <td>False</td>\n",
       "      <td>False</td>\n",
       "      <td>False</td>\n",
       "      <td>False</td>\n",
       "      <td>False</td>\n",
       "    </tr>\n",
       "  </tbody>\n",
       "</table>\n",
       "<p>17871 rows × 3780 columns</p>\n",
       "</div>"
      ],
      "text/plain": [
       "        4 PURPLE FLOCK DINNER CANDLES   50'S CHRISTMAS GIFT BAG LARGE  \\\n",
       "0                               False                           False   \n",
       "1                               False                           False   \n",
       "2                               False                           False   \n",
       "3                               False                           False   \n",
       "4                               False                           False   \n",
       "...                               ...                             ...   \n",
       "17866                           False                           False   \n",
       "17867                           False                           False   \n",
       "17868                           False                           False   \n",
       "17869                           False                           False   \n",
       "17870                           False                           False   \n",
       "\n",
       "        DOLLY GIRL BEAKER   I LOVE LONDON MINI BACKPACK  \\\n",
       "0                   False                         False   \n",
       "1                   False                         False   \n",
       "2                   False                         False   \n",
       "3                   False                         False   \n",
       "4                   False                         False   \n",
       "...                   ...                           ...   \n",
       "17866               False                         False   \n",
       "17867               False                         False   \n",
       "17868               False                         False   \n",
       "17869               False                         False   \n",
       "17870               False                         False   \n",
       "\n",
       "        I LOVE LONDON MINI RUCKSACK   OVAL WALL MIRROR DIAMANTE   \\\n",
       "0                             False                        False   \n",
       "1                             False                        False   \n",
       "2                             False                        False   \n",
       "3                             False                        False   \n",
       "4                             False                        False   \n",
       "...                             ...                          ...   \n",
       "17866                         False                        False   \n",
       "17867                         False                        False   \n",
       "17868                         False                        False   \n",
       "17869                         False                        False   \n",
       "17870                         False                        False   \n",
       "\n",
       "        RED SPOT GIFT BAG LARGE   SET 2 TEA TOWELS I LOVE LONDON   \\\n",
       "0                         False                             False   \n",
       "1                         False                             False   \n",
       "2                         False                             False   \n",
       "3                         False                             False   \n",
       "4                         False                             False   \n",
       "...                         ...                               ...   \n",
       "17866                     False                             False   \n",
       "17867                     False                             False   \n",
       "17868                     False                             False   \n",
       "17869                     False                             False   \n",
       "17870                     False                             False   \n",
       "\n",
       "        TRELLIS COAT RACK  *USB Office Mirror Ball  ...  dotcomstock  \\\n",
       "0                   False                    False  ...        False   \n",
       "1                   False                    False  ...        False   \n",
       "2                   False                    False  ...        False   \n",
       "3                   False                    False  ...        False   \n",
       "4                   False                    False  ...        False   \n",
       "...                   ...                      ...  ...          ...   \n",
       "17866               False                    False  ...        False   \n",
       "17867               False                    False  ...        False   \n",
       "17868               False                    False  ...        False   \n",
       "17869               False                    False  ...        False   \n",
       "17870               False                    False  ...        False   \n",
       "\n",
       "       for online retail orders  found  had been put aside  michel oops  \\\n",
       "0                         False  False               False        False   \n",
       "1                         False  False               False        False   \n",
       "2                         False  False               False        False   \n",
       "3                         False  False               False        False   \n",
       "4                         False  False               False        False   \n",
       "...                         ...    ...                 ...          ...   \n",
       "17866                     False  False               False        False   \n",
       "17867                     False  False               False        False   \n",
       "17868                     False  False               False        False   \n",
       "17869                     False  False               False        False   \n",
       "17870                     False  False               False        False   \n",
       "\n",
       "         nan  returned  taig adjust   test  \\\n",
       "0      False     False        False  False   \n",
       "1      False     False        False  False   \n",
       "2      False     False        False  False   \n",
       "3      False     False        False  False   \n",
       "4      False     False        False  False   \n",
       "...      ...       ...          ...    ...   \n",
       "17866  False     False        False  False   \n",
       "17867  False     False        False  False   \n",
       "17868  False     False        False  False   \n",
       "17869  False     False        False  False   \n",
       "17870  False     False        False  False   \n",
       "\n",
       "       to push order througha s stock was   \n",
       "0                                    False  \n",
       "1                                    False  \n",
       "2                                    False  \n",
       "3                                    False  \n",
       "4                                    False  \n",
       "...                                    ...  \n",
       "17866                                False  \n",
       "17867                                False  \n",
       "17868                                False  \n",
       "17869                                False  \n",
       "17870                                False  \n",
       "\n",
       "[17871 rows x 3780 columns]"
      ]
     },
     "execution_count": 57,
     "metadata": {},
     "output_type": "execute_result"
    }
   ],
   "source": [
    "# One-Hot Encoding\n",
    "te = TransactionEncoder()\n",
    "onehot = te.fit_transform(transactions)\n",
    "df_onehot = pd.DataFrame(onehot, columns=te.columns_)\n",
    "\n",
    "# Display the one-hot encoded matrix as a table\n",
    "print(\"\\nOne-Hot Encoded Matrix:\")\n",
    "df_onehot"
   ]
  },
  {
   "cell_type": "markdown",
   "metadata": {},
   "source": [
    "- Apply the Apriori algorithm to find frequent itemsets in the one-hot encoded matrix."
   ]
  },
  {
   "cell_type": "code",
   "execution_count": 58,
   "metadata": {},
   "outputs": [
    {
     "name": "stdout",
     "output_type": "stream",
     "text": [
      "\n",
      "Frequent Itemsets (min_support=0.02):\n"
     ]
    },
    {
     "data": {
      "text/html": [
       "<div>\n",
       "<style scoped>\n",
       "    .dataframe tbody tr th:only-of-type {\n",
       "        vertical-align: middle;\n",
       "    }\n",
       "\n",
       "    .dataframe tbody tr th {\n",
       "        vertical-align: top;\n",
       "    }\n",
       "\n",
       "    .dataframe thead th {\n",
       "        text-align: right;\n",
       "    }\n",
       "</style>\n",
       "<table border=\"1\" class=\"dataframe\">\n",
       "  <thead>\n",
       "    <tr style=\"text-align: right;\">\n",
       "      <th></th>\n",
       "      <th>support</th>\n",
       "      <th>itemsets</th>\n",
       "    </tr>\n",
       "  </thead>\n",
       "  <tbody>\n",
       "    <tr>\n",
       "      <th>94</th>\n",
       "      <td>0.087852</td>\n",
       "      <td>(JUMBO BAG RED RETROSPOT)</td>\n",
       "    </tr>\n",
       "    <tr>\n",
       "      <th>234</th>\n",
       "      <td>0.085949</td>\n",
       "      <td>(WHITE HANGING HEART T-LIGHT HOLDER)</td>\n",
       "    </tr>\n",
       "    <tr>\n",
       "      <th>117</th>\n",
       "      <td>0.078507</td>\n",
       "      <td>(LUNCH BAG RED RETROSPOT)</td>\n",
       "    </tr>\n",
       "    <tr>\n",
       "      <th>110</th>\n",
       "      <td>0.065693</td>\n",
       "      <td>(LUNCH BAG  BLACK SKULL.)</td>\n",
       "    </tr>\n",
       "    <tr>\n",
       "      <th>118</th>\n",
       "      <td>0.061944</td>\n",
       "      <td>(LUNCH BAG SPACEBOY DESIGN )</td>\n",
       "    </tr>\n",
       "    <tr>\n",
       "      <th>...</th>\n",
       "      <td>...</td>\n",
       "      <td>...</td>\n",
       "    </tr>\n",
       "    <tr>\n",
       "      <th>277</th>\n",
       "      <td>0.020200</td>\n",
       "      <td>(LUNCH BAG SPACEBOY DESIGN , LUNCH BAG APPLE D...</td>\n",
       "    </tr>\n",
       "    <tr>\n",
       "      <th>0</th>\n",
       "      <td>0.020200</td>\n",
       "      <td>(3 PIECE SPACEBOY COOKIE CUTTER SET)</td>\n",
       "    </tr>\n",
       "    <tr>\n",
       "      <th>236</th>\n",
       "      <td>0.020144</td>\n",
       "      <td>(WHITE SPOT RED CERAMIC DRAWER KNOB)</td>\n",
       "    </tr>\n",
       "    <tr>\n",
       "      <th>32</th>\n",
       "      <td>0.020144</td>\n",
       "      <td>(CHILDRENS CUTLERY POLKADOT PINK)</td>\n",
       "    </tr>\n",
       "    <tr>\n",
       "      <th>68</th>\n",
       "      <td>0.020032</td>\n",
       "      <td>(HAND WARMER RED LOVE HEART)</td>\n",
       "    </tr>\n",
       "  </tbody>\n",
       "</table>\n",
       "<p>298 rows × 2 columns</p>\n",
       "</div>"
      ],
      "text/plain": [
       "      support                                           itemsets\n",
       "94   0.087852                          (JUMBO BAG RED RETROSPOT)\n",
       "234  0.085949               (WHITE HANGING HEART T-LIGHT HOLDER)\n",
       "117  0.078507                          (LUNCH BAG RED RETROSPOT)\n",
       "110  0.065693                          (LUNCH BAG  BLACK SKULL.)\n",
       "118  0.061944                       (LUNCH BAG SPACEBOY DESIGN )\n",
       "..        ...                                                ...\n",
       "277  0.020200  (LUNCH BAG SPACEBOY DESIGN , LUNCH BAG APPLE D...\n",
       "0    0.020200               (3 PIECE SPACEBOY COOKIE CUTTER SET)\n",
       "236  0.020144               (WHITE SPOT RED CERAMIC DRAWER KNOB)\n",
       "32   0.020144                  (CHILDRENS CUTLERY POLKADOT PINK)\n",
       "68   0.020032                       (HAND WARMER RED LOVE HEART)\n",
       "\n",
       "[298 rows x 2 columns]"
      ]
     },
     "execution_count": 58,
     "metadata": {},
     "output_type": "execute_result"
    }
   ],
   "source": [
    "# Apriori Algorithm\n",
    "min_support = 0.02\n",
    "frequent_itemsets = apriori(df_onehot, min_support=min_support, use_colnames=True)\n",
    "\n",
    "# Display frequent itemsets as a table\n",
    "print(f\"\\nFrequent Itemsets (min_support={min_support}):\")\n",
    "frequent_itemsets.sort_values(by='support', ascending=False)"
   ]
  },
  {
   "cell_type": "markdown",
   "metadata": {},
   "source": [
    "- Generate association rules based on the frequent itemsets, using the lift metric (identify the rules)\n",
    "\n",
    "- Lift Metric:\n",
    "    1. Definition: Lift measures how much more likely two events (antecedent and consequent) are to occur together than if they were statistically independent.\n",
    "    2. Interpretation: \n",
    "        + A lift value greater than 1 indicates a positive association, suggesting that the occurrence of the antecedent makes the occurrence of the consequent more likely than if they were independent.\n",
    "        + A lift value equal to 1 indicates no association, meaning that the antecedent and consequent are independent events.\n",
    "        + A lift value less than 1 indicates a negative association, suggesting that the occurrence of the antecedent makes the occurrence of the consequent less likely than if they were independent."
   ]
  },
  {
   "cell_type": "code",
   "execution_count": 59,
   "metadata": {},
   "outputs": [
    {
     "name": "stdout",
     "output_type": "stream",
     "text": [
      "\n",
      "Association Rules (min_threshold=1):\n"
     ]
    },
    {
     "data": {
      "text/html": [
       "<div>\n",
       "<style scoped>\n",
       "    .dataframe tbody tr th:only-of-type {\n",
       "        vertical-align: middle;\n",
       "    }\n",
       "\n",
       "    .dataframe tbody tr th {\n",
       "        vertical-align: top;\n",
       "    }\n",
       "\n",
       "    .dataframe thead th {\n",
       "        text-align: right;\n",
       "    }\n",
       "</style>\n",
       "<table border=\"1\" class=\"dataframe\">\n",
       "  <thead>\n",
       "    <tr style=\"text-align: right;\">\n",
       "      <th></th>\n",
       "      <th>antecedents</th>\n",
       "      <th>consequents</th>\n",
       "      <th>antecedent support</th>\n",
       "      <th>consequent support</th>\n",
       "      <th>support</th>\n",
       "      <th>confidence</th>\n",
       "      <th>lift</th>\n",
       "      <th>leverage</th>\n",
       "      <th>conviction</th>\n",
       "      <th>zhangs_metric</th>\n",
       "    </tr>\n",
       "  </thead>\n",
       "  <tbody>\n",
       "    <tr>\n",
       "      <th>99</th>\n",
       "      <td>(PINK REGENCY TEACUP AND SAUCER)</td>\n",
       "      <td>(ROSES REGENCY TEACUP AND SAUCER , GREEN REGEN...</td>\n",
       "      <td>0.035421</td>\n",
       "      <td>0.032847</td>\n",
       "      <td>0.022830</td>\n",
       "      <td>0.644550</td>\n",
       "      <td>19.623081</td>\n",
       "      <td>0.021667</td>\n",
       "      <td>2.720925</td>\n",
       "      <td>0.983889</td>\n",
       "    </tr>\n",
       "    <tr>\n",
       "      <th>98</th>\n",
       "      <td>(ROSES REGENCY TEACUP AND SAUCER , GREEN REGEN...</td>\n",
       "      <td>(PINK REGENCY TEACUP AND SAUCER)</td>\n",
       "      <td>0.032847</td>\n",
       "      <td>0.035421</td>\n",
       "      <td>0.022830</td>\n",
       "      <td>0.695060</td>\n",
       "      <td>19.623081</td>\n",
       "      <td>0.021667</td>\n",
       "      <td>3.163174</td>\n",
       "      <td>0.981271</td>\n",
       "    </tr>\n",
       "    <tr>\n",
       "      <th>101</th>\n",
       "      <td>(GREEN REGENCY TEACUP AND SAUCER)</td>\n",
       "      <td>(PINK REGENCY TEACUP AND SAUCER, ROSES REGENCY...</td>\n",
       "      <td>0.046948</td>\n",
       "      <td>0.025852</td>\n",
       "      <td>0.022830</td>\n",
       "      <td>0.486293</td>\n",
       "      <td>18.810705</td>\n",
       "      <td>0.021617</td>\n",
       "      <td>1.896311</td>\n",
       "      <td>0.993480</td>\n",
       "    </tr>\n",
       "    <tr>\n",
       "      <th>96</th>\n",
       "      <td>(PINK REGENCY TEACUP AND SAUCER, ROSES REGENCY...</td>\n",
       "      <td>(GREEN REGENCY TEACUP AND SAUCER)</td>\n",
       "      <td>0.025852</td>\n",
       "      <td>0.046948</td>\n",
       "      <td>0.022830</td>\n",
       "      <td>0.883117</td>\n",
       "      <td>18.810705</td>\n",
       "      <td>0.021617</td>\n",
       "      <td>8.153893</td>\n",
       "      <td>0.971966</td>\n",
       "    </tr>\n",
       "    <tr>\n",
       "      <th>100</th>\n",
       "      <td>(ROSES REGENCY TEACUP AND SAUCER )</td>\n",
       "      <td>(PINK REGENCY TEACUP AND SAUCER, GREEN REGENCY...</td>\n",
       "      <td>0.047563</td>\n",
       "      <td>0.028202</td>\n",
       "      <td>0.022830</td>\n",
       "      <td>0.480000</td>\n",
       "      <td>17.020000</td>\n",
       "      <td>0.021489</td>\n",
       "      <td>1.868842</td>\n",
       "      <td>0.988250</td>\n",
       "    </tr>\n",
       "    <tr>\n",
       "      <th>...</th>\n",
       "      <td>...</td>\n",
       "      <td>...</td>\n",
       "      <td>...</td>\n",
       "      <td>...</td>\n",
       "      <td>...</td>\n",
       "      <td>...</td>\n",
       "      <td>...</td>\n",
       "      <td>...</td>\n",
       "      <td>...</td>\n",
       "      <td>...</td>\n",
       "    </tr>\n",
       "    <tr>\n",
       "      <th>54</th>\n",
       "      <td>(LUNCH BAG RED RETROSPOT)</td>\n",
       "      <td>(LUNCH BAG APPLE DESIGN)</td>\n",
       "      <td>0.078507</td>\n",
       "      <td>0.053439</td>\n",
       "      <td>0.023390</td>\n",
       "      <td>0.297933</td>\n",
       "      <td>5.575247</td>\n",
       "      <td>0.019195</td>\n",
       "      <td>1.348249</td>\n",
       "      <td>0.890550</td>\n",
       "    </tr>\n",
       "    <tr>\n",
       "      <th>20</th>\n",
       "      <td>(JUMBO BAG APPLES)</td>\n",
       "      <td>(JUMBO BAG RED RETROSPOT)</td>\n",
       "      <td>0.045549</td>\n",
       "      <td>0.087852</td>\n",
       "      <td>0.021543</td>\n",
       "      <td>0.472973</td>\n",
       "      <td>5.383758</td>\n",
       "      <td>0.017542</td>\n",
       "      <td>1.730743</td>\n",
       "      <td>0.853114</td>\n",
       "    </tr>\n",
       "    <tr>\n",
       "      <th>21</th>\n",
       "      <td>(JUMBO BAG RED RETROSPOT)</td>\n",
       "      <td>(JUMBO BAG APPLES)</td>\n",
       "      <td>0.087852</td>\n",
       "      <td>0.045549</td>\n",
       "      <td>0.021543</td>\n",
       "      <td>0.245223</td>\n",
       "      <td>5.383758</td>\n",
       "      <td>0.017542</td>\n",
       "      <td>1.264547</td>\n",
       "      <td>0.892680</td>\n",
       "    </tr>\n",
       "    <tr>\n",
       "      <th>36</th>\n",
       "      <td>(LUNCH BAG RED RETROSPOT)</td>\n",
       "      <td>(JUMBO BAG RED RETROSPOT)</td>\n",
       "      <td>0.078507</td>\n",
       "      <td>0.087852</td>\n",
       "      <td>0.025013</td>\n",
       "      <td>0.318603</td>\n",
       "      <td>3.626595</td>\n",
       "      <td>0.018116</td>\n",
       "      <td>1.338644</td>\n",
       "      <td>0.785963</td>\n",
       "    </tr>\n",
       "    <tr>\n",
       "      <th>37</th>\n",
       "      <td>(JUMBO BAG RED RETROSPOT)</td>\n",
       "      <td>(LUNCH BAG RED RETROSPOT)</td>\n",
       "      <td>0.087852</td>\n",
       "      <td>0.078507</td>\n",
       "      <td>0.025013</td>\n",
       "      <td>0.284713</td>\n",
       "      <td>3.626595</td>\n",
       "      <td>0.018116</td>\n",
       "      <td>1.288285</td>\n",
       "      <td>0.794015</td>\n",
       "    </tr>\n",
       "  </tbody>\n",
       "</table>\n",
       "<p>102 rows × 10 columns</p>\n",
       "</div>"
      ],
      "text/plain": [
       "                                           antecedents  \\\n",
       "99                    (PINK REGENCY TEACUP AND SAUCER)   \n",
       "98   (ROSES REGENCY TEACUP AND SAUCER , GREEN REGEN...   \n",
       "101                  (GREEN REGENCY TEACUP AND SAUCER)   \n",
       "96   (PINK REGENCY TEACUP AND SAUCER, ROSES REGENCY...   \n",
       "100                 (ROSES REGENCY TEACUP AND SAUCER )   \n",
       "..                                                 ...   \n",
       "54                           (LUNCH BAG RED RETROSPOT)   \n",
       "20                                  (JUMBO BAG APPLES)   \n",
       "21                           (JUMBO BAG RED RETROSPOT)   \n",
       "36                           (LUNCH BAG RED RETROSPOT)   \n",
       "37                           (JUMBO BAG RED RETROSPOT)   \n",
       "\n",
       "                                           consequents  antecedent support  \\\n",
       "99   (ROSES REGENCY TEACUP AND SAUCER , GREEN REGEN...            0.035421   \n",
       "98                    (PINK REGENCY TEACUP AND SAUCER)            0.032847   \n",
       "101  (PINK REGENCY TEACUP AND SAUCER, ROSES REGENCY...            0.046948   \n",
       "96                   (GREEN REGENCY TEACUP AND SAUCER)            0.025852   \n",
       "100  (PINK REGENCY TEACUP AND SAUCER, GREEN REGENCY...            0.047563   \n",
       "..                                                 ...                 ...   \n",
       "54                            (LUNCH BAG APPLE DESIGN)            0.078507   \n",
       "20                           (JUMBO BAG RED RETROSPOT)            0.045549   \n",
       "21                                  (JUMBO BAG APPLES)            0.087852   \n",
       "36                           (JUMBO BAG RED RETROSPOT)            0.078507   \n",
       "37                           (LUNCH BAG RED RETROSPOT)            0.087852   \n",
       "\n",
       "     consequent support   support  confidence       lift  leverage  \\\n",
       "99             0.032847  0.022830    0.644550  19.623081  0.021667   \n",
       "98             0.035421  0.022830    0.695060  19.623081  0.021667   \n",
       "101            0.025852  0.022830    0.486293  18.810705  0.021617   \n",
       "96             0.046948  0.022830    0.883117  18.810705  0.021617   \n",
       "100            0.028202  0.022830    0.480000  17.020000  0.021489   \n",
       "..                  ...       ...         ...        ...       ...   \n",
       "54             0.053439  0.023390    0.297933   5.575247  0.019195   \n",
       "20             0.087852  0.021543    0.472973   5.383758  0.017542   \n",
       "21             0.045549  0.021543    0.245223   5.383758  0.017542   \n",
       "36             0.087852  0.025013    0.318603   3.626595  0.018116   \n",
       "37             0.078507  0.025013    0.284713   3.626595  0.018116   \n",
       "\n",
       "     conviction  zhangs_metric  \n",
       "99     2.720925       0.983889  \n",
       "98     3.163174       0.981271  \n",
       "101    1.896311       0.993480  \n",
       "96     8.153893       0.971966  \n",
       "100    1.868842       0.988250  \n",
       "..          ...            ...  \n",
       "54     1.348249       0.890550  \n",
       "20     1.730743       0.853114  \n",
       "21     1.264547       0.892680  \n",
       "36     1.338644       0.785963  \n",
       "37     1.288285       0.794015  \n",
       "\n",
       "[102 rows x 10 columns]"
      ]
     },
     "execution_count": 59,
     "metadata": {},
     "output_type": "execute_result"
    }
   ],
   "source": [
    "# Association Rules\n",
    "min_threshold = 1\n",
    "rules = association_rules(frequent_itemsets, metric=\"lift\", min_threshold=min_threshold)\n",
    "\n",
    "# Display association rules as a table\n",
    "print(f\"\\nAssociation Rules (min_threshold={min_threshold}):\")\n",
    "rules.sort_values(by='lift', ascending=False)"
   ]
  },
  {
   "cell_type": "markdown",
   "metadata": {},
   "source": [
    "- Using confidence to filer the rule (how strength the rule is?)\n",
    "\n",
    "- Confidence Metric:\n",
    "    1. Definition: Confidence measures the conditional probability of the occurrence of the consequent given the occurrence of the antecedent.\n",
    "    2. Interpretation:\n",
    "        + Confidence is expressed as a percentage and indicates how often the rule has been found to be true.\n",
    "        + A confidence of 1 (or 100%) means that the consequent always occurs when the antecedent occurs."
   ]
  },
  {
   "cell_type": "code",
   "execution_count": 60,
   "metadata": {},
   "outputs": [
    {
     "name": "stdout",
     "output_type": "stream",
     "text": [
      "\n",
      "Filtered Rules (min_support=0.02, min_confidence=0.5):\n"
     ]
    },
    {
     "data": {
      "text/html": [
       "<div>\n",
       "<style scoped>\n",
       "    .dataframe tbody tr th:only-of-type {\n",
       "        vertical-align: middle;\n",
       "    }\n",
       "\n",
       "    .dataframe tbody tr th {\n",
       "        vertical-align: top;\n",
       "    }\n",
       "\n",
       "    .dataframe thead th {\n",
       "        text-align: right;\n",
       "    }\n",
       "</style>\n",
       "<table border=\"1\" class=\"dataframe\">\n",
       "  <thead>\n",
       "    <tr style=\"text-align: right;\">\n",
       "      <th></th>\n",
       "      <th>antecedents</th>\n",
       "      <th>consequents</th>\n",
       "      <th>antecedent support</th>\n",
       "      <th>consequent support</th>\n",
       "      <th>support</th>\n",
       "      <th>confidence</th>\n",
       "      <th>lift</th>\n",
       "      <th>leverage</th>\n",
       "      <th>conviction</th>\n",
       "      <th>zhangs_metric</th>\n",
       "    </tr>\n",
       "  </thead>\n",
       "  <tbody>\n",
       "    <tr>\n",
       "      <th>96</th>\n",
       "      <td>(PINK REGENCY TEACUP AND SAUCER, ROSES REGENCY...</td>\n",
       "      <td>(GREEN REGENCY TEACUP AND SAUCER)</td>\n",
       "      <td>0.025852</td>\n",
       "      <td>0.046948</td>\n",
       "      <td>0.022830</td>\n",
       "      <td>0.883117</td>\n",
       "      <td>18.810705</td>\n",
       "      <td>0.021617</td>\n",
       "      <td>8.153893</td>\n",
       "      <td>0.971966</td>\n",
       "    </tr>\n",
       "    <tr>\n",
       "      <th>97</th>\n",
       "      <td>(PINK REGENCY TEACUP AND SAUCER, GREEN REGENCY...</td>\n",
       "      <td>(ROSES REGENCY TEACUP AND SAUCER )</td>\n",
       "      <td>0.028202</td>\n",
       "      <td>0.047563</td>\n",
       "      <td>0.022830</td>\n",
       "      <td>0.809524</td>\n",
       "      <td>17.020000</td>\n",
       "      <td>0.021489</td>\n",
       "      <td>5.000294</td>\n",
       "      <td>0.968561</td>\n",
       "    </tr>\n",
       "    <tr>\n",
       "      <th>12</th>\n",
       "      <td>(PINK REGENCY TEACUP AND SAUCER)</td>\n",
       "      <td>(GREEN REGENCY TEACUP AND SAUCER)</td>\n",
       "      <td>0.035421</td>\n",
       "      <td>0.046948</td>\n",
       "      <td>0.028202</td>\n",
       "      <td>0.796209</td>\n",
       "      <td>16.959526</td>\n",
       "      <td>0.026539</td>\n",
       "      <td>4.676606</td>\n",
       "      <td>0.975592</td>\n",
       "    </tr>\n",
       "    <tr>\n",
       "      <th>88</th>\n",
       "      <td>(PINK REGENCY TEACUP AND SAUCER)</td>\n",
       "      <td>(ROSES REGENCY TEACUP AND SAUCER )</td>\n",
       "      <td>0.035421</td>\n",
       "      <td>0.047563</td>\n",
       "      <td>0.025852</td>\n",
       "      <td>0.729858</td>\n",
       "      <td>15.345046</td>\n",
       "      <td>0.024167</td>\n",
       "      <td>3.525688</td>\n",
       "      <td>0.969161</td>\n",
       "    </tr>\n",
       "    <tr>\n",
       "      <th>11</th>\n",
       "      <td>(GARDENERS KNEELING PAD CUP OF TEA )</td>\n",
       "      <td>(GARDENERS KNEELING PAD KEEP CALM )</td>\n",
       "      <td>0.039337</td>\n",
       "      <td>0.045940</td>\n",
       "      <td>0.027531</td>\n",
       "      <td>0.699858</td>\n",
       "      <td>15.234053</td>\n",
       "      <td>0.025723</td>\n",
       "      <td>3.178692</td>\n",
       "      <td>0.972618</td>\n",
       "    </tr>\n",
       "    <tr>\n",
       "      <th>15</th>\n",
       "      <td>(GREEN REGENCY TEACUP AND SAUCER)</td>\n",
       "      <td>(ROSES REGENCY TEACUP AND SAUCER )</td>\n",
       "      <td>0.046948</td>\n",
       "      <td>0.047563</td>\n",
       "      <td>0.032847</td>\n",
       "      <td>0.699642</td>\n",
       "      <td>14.709776</td>\n",
       "      <td>0.030614</td>\n",
       "      <td>3.171010</td>\n",
       "      <td>0.977929</td>\n",
       "    </tr>\n",
       "    <tr>\n",
       "      <th>98</th>\n",
       "      <td>(ROSES REGENCY TEACUP AND SAUCER , GREEN REGEN...</td>\n",
       "      <td>(PINK REGENCY TEACUP AND SAUCER)</td>\n",
       "      <td>0.032847</td>\n",
       "      <td>0.035421</td>\n",
       "      <td>0.022830</td>\n",
       "      <td>0.695060</td>\n",
       "      <td>19.623081</td>\n",
       "      <td>0.021667</td>\n",
       "      <td>3.163174</td>\n",
       "      <td>0.981271</td>\n",
       "    </tr>\n",
       "    <tr>\n",
       "      <th>14</th>\n",
       "      <td>(ROSES REGENCY TEACUP AND SAUCER )</td>\n",
       "      <td>(GREEN REGENCY TEACUP AND SAUCER)</td>\n",
       "      <td>0.047563</td>\n",
       "      <td>0.046948</td>\n",
       "      <td>0.032847</td>\n",
       "      <td>0.690588</td>\n",
       "      <td>14.709776</td>\n",
       "      <td>0.030614</td>\n",
       "      <td>3.080207</td>\n",
       "      <td>0.978561</td>\n",
       "    </tr>\n",
       "    <tr>\n",
       "      <th>99</th>\n",
       "      <td>(PINK REGENCY TEACUP AND SAUCER)</td>\n",
       "      <td>(ROSES REGENCY TEACUP AND SAUCER , GREEN REGEN...</td>\n",
       "      <td>0.035421</td>\n",
       "      <td>0.032847</td>\n",
       "      <td>0.022830</td>\n",
       "      <td>0.644550</td>\n",
       "      <td>19.623081</td>\n",
       "      <td>0.021667</td>\n",
       "      <td>2.720925</td>\n",
       "      <td>0.983889</td>\n",
       "    </tr>\n",
       "    <tr>\n",
       "      <th>5</th>\n",
       "      <td>(CHARLOTTE BAG PINK POLKADOT)</td>\n",
       "      <td>(RED RETROSPOT CHARLOTTE BAG)</td>\n",
       "      <td>0.035532</td>\n",
       "      <td>0.049186</td>\n",
       "      <td>0.022886</td>\n",
       "      <td>0.644094</td>\n",
       "      <td>13.095122</td>\n",
       "      <td>0.021139</td>\n",
       "      <td>2.671535</td>\n",
       "      <td>0.957664</td>\n",
       "    </tr>\n",
       "    <tr>\n",
       "      <th>90</th>\n",
       "      <td>(STRAWBERRY CHARLOTTE BAG)</td>\n",
       "      <td>(RED RETROSPOT CHARLOTTE BAG)</td>\n",
       "      <td>0.033574</td>\n",
       "      <td>0.049186</td>\n",
       "      <td>0.020704</td>\n",
       "      <td>0.616667</td>\n",
       "      <td>12.537486</td>\n",
       "      <td>0.019053</td>\n",
       "      <td>2.480385</td>\n",
       "      <td>0.952209</td>\n",
       "    </tr>\n",
       "    <tr>\n",
       "      <th>1</th>\n",
       "      <td>(ALARM CLOCK BAKELIKE GREEN)</td>\n",
       "      <td>(ALARM CLOCK BAKELIKE RED )</td>\n",
       "      <td>0.046164</td>\n",
       "      <td>0.050361</td>\n",
       "      <td>0.028034</td>\n",
       "      <td>0.607273</td>\n",
       "      <td>12.058412</td>\n",
       "      <td>0.025709</td>\n",
       "      <td>2.418062</td>\n",
       "      <td>0.961455</td>\n",
       "    </tr>\n",
       "    <tr>\n",
       "      <th>9</th>\n",
       "      <td>(DOLLY GIRL LUNCH BOX)</td>\n",
       "      <td>(SPACEBOY LUNCH BOX )</td>\n",
       "      <td>0.042751</td>\n",
       "      <td>0.043702</td>\n",
       "      <td>0.025908</td>\n",
       "      <td>0.606021</td>\n",
       "      <td>13.867094</td>\n",
       "      <td>0.024040</td>\n",
       "      <td>2.427281</td>\n",
       "      <td>0.969326</td>\n",
       "    </tr>\n",
       "    <tr>\n",
       "      <th>13</th>\n",
       "      <td>(GREEN REGENCY TEACUP AND SAUCER)</td>\n",
       "      <td>(PINK REGENCY TEACUP AND SAUCER)</td>\n",
       "      <td>0.046948</td>\n",
       "      <td>0.035421</td>\n",
       "      <td>0.028202</td>\n",
       "      <td>0.600715</td>\n",
       "      <td>16.959526</td>\n",
       "      <td>0.026539</td>\n",
       "      <td>2.415768</td>\n",
       "      <td>0.987392</td>\n",
       "    </tr>\n",
       "    <tr>\n",
       "      <th>22</th>\n",
       "      <td>(JUMBO BAG PINK POLKADOT)</td>\n",
       "      <td>(JUMBO BAG RED RETROSPOT)</td>\n",
       "      <td>0.056013</td>\n",
       "      <td>0.087852</td>\n",
       "      <td>0.033574</td>\n",
       "      <td>0.599401</td>\n",
       "      <td>6.822859</td>\n",
       "      <td>0.028653</td>\n",
       "      <td>2.276958</td>\n",
       "      <td>0.904073</td>\n",
       "    </tr>\n",
       "    <tr>\n",
       "      <th>10</th>\n",
       "      <td>(GARDENERS KNEELING PAD KEEP CALM )</td>\n",
       "      <td>(GARDENERS KNEELING PAD CUP OF TEA )</td>\n",
       "      <td>0.045940</td>\n",
       "      <td>0.039337</td>\n",
       "      <td>0.027531</td>\n",
       "      <td>0.599269</td>\n",
       "      <td>15.234053</td>\n",
       "      <td>0.025723</td>\n",
       "      <td>2.397276</td>\n",
       "      <td>0.979349</td>\n",
       "    </tr>\n",
       "    <tr>\n",
       "      <th>8</th>\n",
       "      <td>(SPACEBOY LUNCH BOX )</td>\n",
       "      <td>(DOLLY GIRL LUNCH BOX)</td>\n",
       "      <td>0.043702</td>\n",
       "      <td>0.042751</td>\n",
       "      <td>0.025908</td>\n",
       "      <td>0.592830</td>\n",
       "      <td>13.867094</td>\n",
       "      <td>0.024040</td>\n",
       "      <td>2.350980</td>\n",
       "      <td>0.970291</td>\n",
       "    </tr>\n",
       "    <tr>\n",
       "      <th>29</th>\n",
       "      <td>(JUMBO BAG STRAWBERRY)</td>\n",
       "      <td>(JUMBO BAG RED RETROSPOT)</td>\n",
       "      <td>0.037827</td>\n",
       "      <td>0.087852</td>\n",
       "      <td>0.021319</td>\n",
       "      <td>0.563609</td>\n",
       "      <td>6.415455</td>\n",
       "      <td>0.017996</td>\n",
       "      <td>2.090211</td>\n",
       "      <td>0.877312</td>\n",
       "    </tr>\n",
       "    <tr>\n",
       "      <th>3</th>\n",
       "      <td>(ALARM CLOCK BAKELIKE PINK)</td>\n",
       "      <td>(ALARM CLOCK BAKELIKE RED )</td>\n",
       "      <td>0.039505</td>\n",
       "      <td>0.050361</td>\n",
       "      <td>0.022215</td>\n",
       "      <td>0.562323</td>\n",
       "      <td>11.165859</td>\n",
       "      <td>0.020225</td>\n",
       "      <td>2.169726</td>\n",
       "      <td>0.947888</td>\n",
       "    </tr>\n",
       "    <tr>\n",
       "      <th>70</th>\n",
       "      <td>(LUNCH BAG DOLLY GIRL DESIGN)</td>\n",
       "      <td>(LUNCH BAG SPACEBOY DESIGN )</td>\n",
       "      <td>0.036652</td>\n",
       "      <td>0.061944</td>\n",
       "      <td>0.020480</td>\n",
       "      <td>0.558779</td>\n",
       "      <td>9.020716</td>\n",
       "      <td>0.018210</td>\n",
       "      <td>2.126044</td>\n",
       "      <td>0.922972</td>\n",
       "    </tr>\n",
       "    <tr>\n",
       "      <th>0</th>\n",
       "      <td>(ALARM CLOCK BAKELIKE RED )</td>\n",
       "      <td>(ALARM CLOCK BAKELIKE GREEN)</td>\n",
       "      <td>0.050361</td>\n",
       "      <td>0.046164</td>\n",
       "      <td>0.028034</td>\n",
       "      <td>0.556667</td>\n",
       "      <td>12.058412</td>\n",
       "      <td>0.025709</td>\n",
       "      <td>2.151509</td>\n",
       "      <td>0.965704</td>\n",
       "    </tr>\n",
       "    <tr>\n",
       "      <th>95</th>\n",
       "      <td>(WOODEN FRAME ANTIQUE WHITE )</td>\n",
       "      <td>(WOODEN PICTURE FRAME WHITE FINISH)</td>\n",
       "      <td>0.044262</td>\n",
       "      <td>0.054670</td>\n",
       "      <td>0.024117</td>\n",
       "      <td>0.544880</td>\n",
       "      <td>9.966785</td>\n",
       "      <td>0.021698</td>\n",
       "      <td>2.077101</td>\n",
       "      <td>0.941332</td>\n",
       "    </tr>\n",
       "    <tr>\n",
       "      <th>89</th>\n",
       "      <td>(ROSES REGENCY TEACUP AND SAUCER )</td>\n",
       "      <td>(PINK REGENCY TEACUP AND SAUCER)</td>\n",
       "      <td>0.047563</td>\n",
       "      <td>0.035421</td>\n",
       "      <td>0.025852</td>\n",
       "      <td>0.543529</td>\n",
       "      <td>15.345046</td>\n",
       "      <td>0.024167</td>\n",
       "      <td>2.113125</td>\n",
       "      <td>0.981516</td>\n",
       "    </tr>\n",
       "    <tr>\n",
       "      <th>7</th>\n",
       "      <td>(CHARLOTTE BAG SUKI DESIGN)</td>\n",
       "      <td>(RED RETROSPOT CHARLOTTE BAG)</td>\n",
       "      <td>0.040513</td>\n",
       "      <td>0.049186</td>\n",
       "      <td>0.021991</td>\n",
       "      <td>0.542818</td>\n",
       "      <td>11.036058</td>\n",
       "      <td>0.019998</td>\n",
       "      <td>2.079726</td>\n",
       "      <td>0.947785</td>\n",
       "    </tr>\n",
       "    <tr>\n",
       "      <th>18</th>\n",
       "      <td>(JUMBO  BAG BAROQUE BLACK WHITE)</td>\n",
       "      <td>(JUMBO BAG RED RETROSPOT)</td>\n",
       "      <td>0.043254</td>\n",
       "      <td>0.087852</td>\n",
       "      <td>0.023446</td>\n",
       "      <td>0.542044</td>\n",
       "      <td>6.169980</td>\n",
       "      <td>0.019646</td>\n",
       "      <td>1.991781</td>\n",
       "      <td>0.875807</td>\n",
       "    </tr>\n",
       "    <tr>\n",
       "      <th>92</th>\n",
       "      <td>(WOODLAND CHARLOTTE BAG)</td>\n",
       "      <td>(RED RETROSPOT CHARLOTTE BAG)</td>\n",
       "      <td>0.038554</td>\n",
       "      <td>0.049186</td>\n",
       "      <td>0.020872</td>\n",
       "      <td>0.541364</td>\n",
       "      <td>11.006509</td>\n",
       "      <td>0.018975</td>\n",
       "      <td>2.073136</td>\n",
       "      <td>0.945601</td>\n",
       "    </tr>\n",
       "    <tr>\n",
       "      <th>30</th>\n",
       "      <td>(JUMBO BAG WOODLAND ANIMALS)</td>\n",
       "      <td>(JUMBO BAG RED RETROSPOT)</td>\n",
       "      <td>0.042303</td>\n",
       "      <td>0.087852</td>\n",
       "      <td>0.022551</td>\n",
       "      <td>0.533069</td>\n",
       "      <td>6.067817</td>\n",
       "      <td>0.018834</td>\n",
       "      <td>1.953496</td>\n",
       "      <td>0.872088</td>\n",
       "    </tr>\n",
       "    <tr>\n",
       "      <th>34</th>\n",
       "      <td>(JUMBO STORAGE BAG SUKI)</td>\n",
       "      <td>(JUMBO BAG RED RETROSPOT)</td>\n",
       "      <td>0.055621</td>\n",
       "      <td>0.087852</td>\n",
       "      <td>0.029545</td>\n",
       "      <td>0.531187</td>\n",
       "      <td>6.046398</td>\n",
       "      <td>0.024659</td>\n",
       "      <td>1.945655</td>\n",
       "      <td>0.883768</td>\n",
       "    </tr>\n",
       "    <tr>\n",
       "      <th>72</th>\n",
       "      <td>(LUNCH BAG PINK POLKADOT)</td>\n",
       "      <td>(LUNCH BAG RED RETROSPOT)</td>\n",
       "      <td>0.058251</td>\n",
       "      <td>0.078507</td>\n",
       "      <td>0.030328</td>\n",
       "      <td>0.520653</td>\n",
       "      <td>6.631927</td>\n",
       "      <td>0.025755</td>\n",
       "      <td>1.922393</td>\n",
       "      <td>0.901741</td>\n",
       "    </tr>\n",
       "    <tr>\n",
       "      <th>26</th>\n",
       "      <td>(JUMBO BAG PINK VINTAGE PAISLEY)</td>\n",
       "      <td>(JUMBO BAG RED RETROSPOT)</td>\n",
       "      <td>0.041464</td>\n",
       "      <td>0.087852</td>\n",
       "      <td>0.021543</td>\n",
       "      <td>0.519568</td>\n",
       "      <td>5.914142</td>\n",
       "      <td>0.017901</td>\n",
       "      <td>1.898601</td>\n",
       "      <td>0.866857</td>\n",
       "    </tr>\n",
       "    <tr>\n",
       "      <th>17</th>\n",
       "      <td>(HEART OF WICKER LARGE)</td>\n",
       "      <td>(HEART OF WICKER SMALL)</td>\n",
       "      <td>0.043814</td>\n",
       "      <td>0.058251</td>\n",
       "      <td>0.021935</td>\n",
       "      <td>0.500639</td>\n",
       "      <td>8.594536</td>\n",
       "      <td>0.019383</td>\n",
       "      <td>1.885907</td>\n",
       "      <td>0.924137</td>\n",
       "    </tr>\n",
       "  </tbody>\n",
       "</table>\n",
       "</div>"
      ],
      "text/plain": [
       "                                          antecedents  \\\n",
       "96  (PINK REGENCY TEACUP AND SAUCER, ROSES REGENCY...   \n",
       "97  (PINK REGENCY TEACUP AND SAUCER, GREEN REGENCY...   \n",
       "12                   (PINK REGENCY TEACUP AND SAUCER)   \n",
       "88                   (PINK REGENCY TEACUP AND SAUCER)   \n",
       "11               (GARDENERS KNEELING PAD CUP OF TEA )   \n",
       "15                  (GREEN REGENCY TEACUP AND SAUCER)   \n",
       "98  (ROSES REGENCY TEACUP AND SAUCER , GREEN REGEN...   \n",
       "14                 (ROSES REGENCY TEACUP AND SAUCER )   \n",
       "99                   (PINK REGENCY TEACUP AND SAUCER)   \n",
       "5                       (CHARLOTTE BAG PINK POLKADOT)   \n",
       "90                         (STRAWBERRY CHARLOTTE BAG)   \n",
       "1                        (ALARM CLOCK BAKELIKE GREEN)   \n",
       "9                              (DOLLY GIRL LUNCH BOX)   \n",
       "13                  (GREEN REGENCY TEACUP AND SAUCER)   \n",
       "22                          (JUMBO BAG PINK POLKADOT)   \n",
       "10                (GARDENERS KNEELING PAD KEEP CALM )   \n",
       "8                               (SPACEBOY LUNCH BOX )   \n",
       "29                             (JUMBO BAG STRAWBERRY)   \n",
       "3                         (ALARM CLOCK BAKELIKE PINK)   \n",
       "70                      (LUNCH BAG DOLLY GIRL DESIGN)   \n",
       "0                         (ALARM CLOCK BAKELIKE RED )   \n",
       "95                      (WOODEN FRAME ANTIQUE WHITE )   \n",
       "89                 (ROSES REGENCY TEACUP AND SAUCER )   \n",
       "7                         (CHARLOTTE BAG SUKI DESIGN)   \n",
       "18                   (JUMBO  BAG BAROQUE BLACK WHITE)   \n",
       "92                           (WOODLAND CHARLOTTE BAG)   \n",
       "30                       (JUMBO BAG WOODLAND ANIMALS)   \n",
       "34                           (JUMBO STORAGE BAG SUKI)   \n",
       "72                          (LUNCH BAG PINK POLKADOT)   \n",
       "26                   (JUMBO BAG PINK VINTAGE PAISLEY)   \n",
       "17                            (HEART OF WICKER LARGE)   \n",
       "\n",
       "                                          consequents  antecedent support  \\\n",
       "96                  (GREEN REGENCY TEACUP AND SAUCER)            0.025852   \n",
       "97                 (ROSES REGENCY TEACUP AND SAUCER )            0.028202   \n",
       "12                  (GREEN REGENCY TEACUP AND SAUCER)            0.035421   \n",
       "88                 (ROSES REGENCY TEACUP AND SAUCER )            0.035421   \n",
       "11                (GARDENERS KNEELING PAD KEEP CALM )            0.039337   \n",
       "15                 (ROSES REGENCY TEACUP AND SAUCER )            0.046948   \n",
       "98                   (PINK REGENCY TEACUP AND SAUCER)            0.032847   \n",
       "14                  (GREEN REGENCY TEACUP AND SAUCER)            0.047563   \n",
       "99  (ROSES REGENCY TEACUP AND SAUCER , GREEN REGEN...            0.035421   \n",
       "5                       (RED RETROSPOT CHARLOTTE BAG)            0.035532   \n",
       "90                      (RED RETROSPOT CHARLOTTE BAG)            0.033574   \n",
       "1                         (ALARM CLOCK BAKELIKE RED )            0.046164   \n",
       "9                               (SPACEBOY LUNCH BOX )            0.042751   \n",
       "13                   (PINK REGENCY TEACUP AND SAUCER)            0.046948   \n",
       "22                          (JUMBO BAG RED RETROSPOT)            0.056013   \n",
       "10               (GARDENERS KNEELING PAD CUP OF TEA )            0.045940   \n",
       "8                              (DOLLY GIRL LUNCH BOX)            0.043702   \n",
       "29                          (JUMBO BAG RED RETROSPOT)            0.037827   \n",
       "3                         (ALARM CLOCK BAKELIKE RED )            0.039505   \n",
       "70                       (LUNCH BAG SPACEBOY DESIGN )            0.036652   \n",
       "0                        (ALARM CLOCK BAKELIKE GREEN)            0.050361   \n",
       "95                (WOODEN PICTURE FRAME WHITE FINISH)            0.044262   \n",
       "89                   (PINK REGENCY TEACUP AND SAUCER)            0.047563   \n",
       "7                       (RED RETROSPOT CHARLOTTE BAG)            0.040513   \n",
       "18                          (JUMBO BAG RED RETROSPOT)            0.043254   \n",
       "92                      (RED RETROSPOT CHARLOTTE BAG)            0.038554   \n",
       "30                          (JUMBO BAG RED RETROSPOT)            0.042303   \n",
       "34                          (JUMBO BAG RED RETROSPOT)            0.055621   \n",
       "72                          (LUNCH BAG RED RETROSPOT)            0.058251   \n",
       "26                          (JUMBO BAG RED RETROSPOT)            0.041464   \n",
       "17                            (HEART OF WICKER SMALL)            0.043814   \n",
       "\n",
       "    consequent support   support  confidence       lift  leverage  conviction  \\\n",
       "96            0.046948  0.022830    0.883117  18.810705  0.021617    8.153893   \n",
       "97            0.047563  0.022830    0.809524  17.020000  0.021489    5.000294   \n",
       "12            0.046948  0.028202    0.796209  16.959526  0.026539    4.676606   \n",
       "88            0.047563  0.025852    0.729858  15.345046  0.024167    3.525688   \n",
       "11            0.045940  0.027531    0.699858  15.234053  0.025723    3.178692   \n",
       "15            0.047563  0.032847    0.699642  14.709776  0.030614    3.171010   \n",
       "98            0.035421  0.022830    0.695060  19.623081  0.021667    3.163174   \n",
       "14            0.046948  0.032847    0.690588  14.709776  0.030614    3.080207   \n",
       "99            0.032847  0.022830    0.644550  19.623081  0.021667    2.720925   \n",
       "5             0.049186  0.022886    0.644094  13.095122  0.021139    2.671535   \n",
       "90            0.049186  0.020704    0.616667  12.537486  0.019053    2.480385   \n",
       "1             0.050361  0.028034    0.607273  12.058412  0.025709    2.418062   \n",
       "9             0.043702  0.025908    0.606021  13.867094  0.024040    2.427281   \n",
       "13            0.035421  0.028202    0.600715  16.959526  0.026539    2.415768   \n",
       "22            0.087852  0.033574    0.599401   6.822859  0.028653    2.276958   \n",
       "10            0.039337  0.027531    0.599269  15.234053  0.025723    2.397276   \n",
       "8             0.042751  0.025908    0.592830  13.867094  0.024040    2.350980   \n",
       "29            0.087852  0.021319    0.563609   6.415455  0.017996    2.090211   \n",
       "3             0.050361  0.022215    0.562323  11.165859  0.020225    2.169726   \n",
       "70            0.061944  0.020480    0.558779   9.020716  0.018210    2.126044   \n",
       "0             0.046164  0.028034    0.556667  12.058412  0.025709    2.151509   \n",
       "95            0.054670  0.024117    0.544880   9.966785  0.021698    2.077101   \n",
       "89            0.035421  0.025852    0.543529  15.345046  0.024167    2.113125   \n",
       "7             0.049186  0.021991    0.542818  11.036058  0.019998    2.079726   \n",
       "18            0.087852  0.023446    0.542044   6.169980  0.019646    1.991781   \n",
       "92            0.049186  0.020872    0.541364  11.006509  0.018975    2.073136   \n",
       "30            0.087852  0.022551    0.533069   6.067817  0.018834    1.953496   \n",
       "34            0.087852  0.029545    0.531187   6.046398  0.024659    1.945655   \n",
       "72            0.078507  0.030328    0.520653   6.631927  0.025755    1.922393   \n",
       "26            0.087852  0.021543    0.519568   5.914142  0.017901    1.898601   \n",
       "17            0.058251  0.021935    0.500639   8.594536  0.019383    1.885907   \n",
       "\n",
       "    zhangs_metric  \n",
       "96       0.971966  \n",
       "97       0.968561  \n",
       "12       0.975592  \n",
       "88       0.969161  \n",
       "11       0.972618  \n",
       "15       0.977929  \n",
       "98       0.981271  \n",
       "14       0.978561  \n",
       "99       0.983889  \n",
       "5        0.957664  \n",
       "90       0.952209  \n",
       "1        0.961455  \n",
       "9        0.969326  \n",
       "13       0.987392  \n",
       "22       0.904073  \n",
       "10       0.979349  \n",
       "8        0.970291  \n",
       "29       0.877312  \n",
       "3        0.947888  \n",
       "70       0.922972  \n",
       "0        0.965704  \n",
       "95       0.941332  \n",
       "89       0.981516  \n",
       "7        0.947785  \n",
       "18       0.875807  \n",
       "92       0.945601  \n",
       "30       0.872088  \n",
       "34       0.883768  \n",
       "72       0.901741  \n",
       "26       0.866857  \n",
       "17       0.924137  "
      ]
     },
     "execution_count": 60,
     "metadata": {},
     "output_type": "execute_result"
    }
   ],
   "source": [
    "min_support_filtered = 0.02\n",
    "min_confidence_filtered = 0.5\n",
    "filtered_rules = rules[(rules['support'] > min_support_filtered) & (rules['confidence'] > min_confidence_filtered)]\n",
    "\n",
    "print(f\"\\nFiltered Rules (min_support={min_support_filtered}, min_confidence={min_confidence_filtered}):\")\n",
    "filtered_rules.sort_values(by='confidence', ascending=False)"
   ]
  },
  {
   "cell_type": "code",
   "execution_count": 61,
   "metadata": {},
   "outputs": [
    {
     "name": "stdout",
     "output_type": "stream",
     "text": [
      "\n",
      "Antecedent -> Consequent:\n",
      "PINK REGENCY TEACUP AND SAUCER, ROSES REGENCY TEACUP AND SAUCER  -> GREEN REGENCY TEACUP AND SAUCER\n",
      "PINK REGENCY TEACUP AND SAUCER, GREEN REGENCY TEACUP AND SAUCER -> ROSES REGENCY TEACUP AND SAUCER \n",
      "PINK REGENCY TEACUP AND SAUCER -> GREEN REGENCY TEACUP AND SAUCER\n",
      "PINK REGENCY TEACUP AND SAUCER -> ROSES REGENCY TEACUP AND SAUCER \n",
      "GARDENERS KNEELING PAD CUP OF TEA  -> GARDENERS KNEELING PAD KEEP CALM \n"
     ]
    }
   ],
   "source": [
    "# Print the top 5 most common rules from the filtered rules DataFrame\n",
    "top_5_rules = filtered_rules.sort_values(by='confidence', ascending=False).head(5)\n",
    "\n",
    "antecedents = top_5_rules['antecedents'].tolist()\n",
    "consequents = top_5_rules['consequents'].tolist()\n",
    "\n",
    "print(\"\\nAntecedent -> Consequent:\")\n",
    "for idx, row in top_5_rules.iterrows():\n",
    "    antecedent_str = ', '.join(row['antecedents'])\n",
    "    consequent_str = ', '.join(row['consequents'])\n",
    "    print(f\"{antecedent_str} -> {consequent_str}\")"
   ]
  },
  {
   "cell_type": "markdown",
   "metadata": {},
   "source": [
    "- Comments: After having the association rules, we can see that the most common rule is that if a transaction has `PINK REGENCY TEACUP AND SAUCER`, `ROSES REGENCY TEACUP AND SAUCER`. It is more likely to have `GREEN REGENCY TEACUP AND SAUCER`, so the online retail sale owners should launch some marketing strategies to encourage customers to by these three items together"
   ]
  },
  {
   "attachments": {},
   "cell_type": "markdown",
   "metadata": {},
   "source": [
    "## 5. Reflection"
   ]
  },
  {
   "attachments": {},
   "cell_type": "markdown",
   "metadata": {},
   "source": [
    "### _5.1. Introduction_"
   ]
  },
  {
   "attachments": {},
   "cell_type": "markdown",
   "metadata": {},
   "source": [
    "> Our journey into exploring and analyzing online retail sales data on Kaggle has been both challenging and rewarding. This project provided us with valuable insights into the world of data analysis and the complexities of understanding consumer behavior in the online retail sector."
   ]
  },
  {
   "attachments": {},
   "cell_type": "markdown",
   "metadata": {},
   "source": [
    "### _5.2. Key Learnings_"
   ]
  },
  {
   "attachments": {},
   "cell_type": "markdown",
   "metadata": {},
   "source": [
    "#### **Sơn Hà:**"
   ]
  },
  {
   "attachments": {},
   "cell_type": "markdown",
   "metadata": {},
   "source": [
    "1. `Branches on Github`: This is the first time I have ever split branches when using Github, now I know how to split and merge branches using Github desktop\n",
    "2. `Outliers handle`: I know how to detect and remove outliers so that the distribution of my data is more clear\n",
    "3. `Apriori algorithm`: I have a chance to practice my knowledge about Apriori algorithm, which I gain from studying the data mining course. I also understand another metric (lift) when evaluating the rule"
   ]
  },
  {
   "attachments": {},
   "cell_type": "markdown",
   "metadata": {},
   "source": [
    "#### **Cao Khôi:**"
   ]
  },
  {
   "attachments": {},
   "cell_type": "markdown",
   "metadata": {},
   "source": [
    "1. I have learned a lot about using Python for Data Science, i know how to use many common Python modules: `Pandas`, `numpy`, `matplotlib`,... I also know how to use jupyter notebook more efficiency.\n",
    "2. I have learned that in a dataset there can be a lot of question can be asked and in each question we can have more and more questions that we can have more insight about our data. From that we can make a lot of theories and from those theories we can make conclusion that help us in reality."
   ]
  },
  {
   "attachments": {},
   "cell_type": "markdown",
   "metadata": {},
   "source": [
    "### _5.3. Challenges Faced_"
   ]
  },
  {
   "attachments": {},
   "cell_type": "markdown",
   "metadata": {},
   "source": [
    "#### **Sơn Hà:**"
   ]
  },
  {
   "attachments": {},
   "cell_type": "markdown",
   "metadata": {},
   "source": [
    "1. `Branches on Github`: It takes me a large amount of time to be familiar with spliting and merging branches of Github.\n",
    "2. `Preprocessing`: When answering the questions I found that I have missed preprocessing some parts of the data like missing value, outliers, datatype transforming, as a result I have to re-preprocessing data again then continue aswering the questions."
   ]
  },
  {
   "attachments": {},
   "cell_type": "markdown",
   "metadata": {},
   "source": [
    "#### **Cao Khôi:**"
   ]
  },
  {
   "attachments": {},
   "cell_type": "markdown",
   "metadata": {},
   "source": [
    "1. `Branches on Github`: It takes me and Hà a lot of time to merge 2 branches of our into 1. Thus when we using Jupyter Notebook, it's very troublesome when we resolve conflicts on Github.\n",
    "2. `Asking Meaningfull Questions`: There are a lot of questions can be asked for a dataset but with my current skill i can not answer most of them. That's why in the next semester i will register a `Data Mining` class to improve my individual skill."
   ]
  },
  {
   "attachments": {},
   "cell_type": "markdown",
   "metadata": {},
   "source": [
    "### _5.4. If my team has more time_"
   ]
  },
  {
   "cell_type": "markdown",
   "metadata": {},
   "source": [
    "- We would like to use K-mean to cluster category by product name (description): this will have group the similar products"
   ]
  },
  {
   "attachments": {},
   "cell_type": "markdown",
   "metadata": {},
   "source": [
    "## 6. References"
   ]
  },
  {
   "cell_type": "markdown",
   "metadata": {},
   "source": [
    "- Apriori algorithm: https://www.geeksforgeeks.org/apriori-algorithm/\n",
    "\n",
    "- Lift metric: https://en.wikipedia.org/wiki/Lift_(data_mining)\n",
    "\n",
    "- Branches on Github: https://docs.github.com/en/pull-requests/collaborating-with-pull-requests/proposing-changes-to-your-work-with-pull-requests/about-branches"
   ]
  }
 ],
 "metadata": {
  "kernelspec": {
   "display_name": "Python 3",
   "language": "python",
   "name": "python3"
  },
  "language_info": {
   "codemirror_mode": {
    "name": "ipython",
    "version": 3
   },
   "file_extension": ".py",
   "mimetype": "text/x-python",
   "name": "python",
   "nbconvert_exporter": "python",
   "pygments_lexer": "ipython3",
   "version": "3.11.4"
  }
 },
 "nbformat": 4,
 "nbformat_minor": 2
}
