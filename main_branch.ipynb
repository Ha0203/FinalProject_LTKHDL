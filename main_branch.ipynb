{
 "cells": [
  {
   "cell_type": "markdown",
   "metadata": {},
   "source": [
    "# Programming For Data Science - Final Project"
   ]
  },
  {
   "cell_type": "markdown",
   "metadata": {},
   "source": [
    "## Group members:"
   ]
  },
  {
   "cell_type": "markdown",
   "metadata": {},
   "source": [
    "| Name              | ID       |\n",
    "|-------------------|----------|\n",
    "| Pham Dang Son Ha |21127206|\n",
    "| Nguyen Cao Khoi   | 21127632 |"
   ]
  },
  {
   "cell_type": "markdown",
   "metadata": {},
   "source": [
    "## Table of Contents\n",
    "\n",
    "1. [Collecting Data](#collecting-data)\n",
    "\n",
    "2. [Exploring And Preprocessing Data](#exploring-and-preprocessing-data)\n",
    "\n",
    "3. [Asking Meaningful Questions And Analyzing](#asking-meaningful-questions-and-analyzing)\n",
    "\n",
    "4. [Reflection](#reflection)\n",
    "5. [References](#references)"
   ]
  },
  {
   "cell_type": "markdown",
   "metadata": {},
   "source": [
    "## 1. Collecting Data"
   ]
  },
  {
   "cell_type": "markdown",
   "metadata": {},
   "source": [
    "### _1.1. Subject And Source_"
   ]
  },
  {
   "cell_type": "markdown",
   "metadata": {},
   "source": [
    "-  Subject: The [Online Retails Sale Dataset](https://www.kaggle.com/datasets/rohitmahulkar/online-retails-sale-dataset/data?fbclid=IwAR073q0CYe_aoD5bjPNrycjMGsDoXCxytfm8p7WpWJTBH9XkqrOCrbV_LRU) contains transactions from 12/01/2010 to 12/09/2011 of an online retail company based in the UK. It includes 10 attributes, and the number of rows in the dataset is 541,909 rows.\n",
    "\n",
    "- Source: The author got this data from [Tata Data Visualisation: Empowering Business with Effective Insights](https://www.theforage.com/simulations/tata/data-visualisation-p5xo), which is a virtual internship program offered by Tata Insights and Quants (Tata iQ) on the Forage platform."
   ]
  },
  {
   "cell_type": "markdown",
   "metadata": {},
   "source": [
    "### _1.2. Authors And Copyright_"
   ]
  },
  {
   "cell_type": "markdown",
   "metadata": {},
   "source": [
    "- Author: [Rohit Mahulkar](https://www.kaggle.com/rohitmahulkar) (Owner)\n",
    "\n",
    "- Copyright: [CC0: Public Domain](https://creativecommons.org/publicdomain/zero/1.0/) - This means others can freely use, modify, and build upon these works for any purpose without any restrictions."
   ]
  },
  {
   "cell_type": "markdown",
   "metadata": {},
   "source": [
    "### _1.3. The way authors collect data_"
   ]
  },
  {
   "cell_type": "markdown",
   "metadata": {},
   "source": [
    "- The author did not directly collect the data but was provided during his or her virtual internship program. In the program, participants are given a dataset and are tasked with cleaning, transforming, and analyzing the data to provide valuable insights\n",
    "\n",
    "- The data collection methodology is not explicitly mentioned in the program. However, given that the dataset is about an online retail company, it’s likely that the data was collected from the company’s transaction records or customer database."
   ]
  },
  {
   "cell_type": "markdown",
   "metadata": {},
   "source": [
    "## 2. Exploring And Preprocessing Data"
   ]
  },
  {
   "cell_type": "markdown",
   "metadata": {},
   "source": [
    "### _2.1. Import libraries_"
   ]
  },
  {
   "cell_type": "code",
   "execution_count": 9,
   "metadata": {},
   "outputs": [],
   "source": [
    "import pandas as pd\n",
    "import matplotlib.pyplot as plt"
   ]
  },
  {
   "cell_type": "markdown",
   "metadata": {},
   "source": [
    "### _2.2. Loading the data_"
   ]
  },
  {
   "cell_type": "code",
   "execution_count": 3,
   "metadata": {},
   "outputs": [
    {
     "data": {
      "text/html": [
       "<div>\n",
       "<style scoped>\n",
       "    .dataframe tbody tr th:only-of-type {\n",
       "        vertical-align: middle;\n",
       "    }\n",
       "\n",
       "    .dataframe tbody tr th {\n",
       "        vertical-align: top;\n",
       "    }\n",
       "\n",
       "    .dataframe thead th {\n",
       "        text-align: right;\n",
       "    }\n",
       "</style>\n",
       "<table border=\"1\" class=\"dataframe\">\n",
       "  <thead>\n",
       "    <tr style=\"text-align: right;\">\n",
       "      <th></th>\n",
       "      <th>InvoiceNo</th>\n",
       "      <th>InvoiceDate</th>\n",
       "      <th>InvoiceTime</th>\n",
       "      <th>StockCode</th>\n",
       "      <th>Description</th>\n",
       "      <th>Quantity</th>\n",
       "      <th>UnitPrice</th>\n",
       "      <th>Totalsale</th>\n",
       "      <th>CustomerID</th>\n",
       "      <th>Country</th>\n",
       "    </tr>\n",
       "  </thead>\n",
       "  <tbody>\n",
       "    <tr>\n",
       "      <th>112240</th>\n",
       "      <td>545890</td>\n",
       "      <td>07-03-2011</td>\n",
       "      <td>04:39:00 PM</td>\n",
       "      <td>22327</td>\n",
       "      <td>ROUND SNACK BOXES SET OF 4 SKULLS</td>\n",
       "      <td>6</td>\n",
       "      <td>2.95</td>\n",
       "      <td>17.70</td>\n",
       "      <td>16782.0</td>\n",
       "      <td>United Kingdom</td>\n",
       "    </tr>\n",
       "    <tr>\n",
       "      <th>370259</th>\n",
       "      <td>569133</td>\n",
       "      <td>30-09-2011</td>\n",
       "      <td>02:06:00 PM</td>\n",
       "      <td>47504K</td>\n",
       "      <td>ENGLISH ROSE GARDEN SECATEURS</td>\n",
       "      <td>12</td>\n",
       "      <td>0.79</td>\n",
       "      <td>9.48</td>\n",
       "      <td>15185.0</td>\n",
       "      <td>United Kingdom</td>\n",
       "    </tr>\n",
       "    <tr>\n",
       "      <th>391282</th>\n",
       "      <td>570666</td>\n",
       "      <td>11-10-2011</td>\n",
       "      <td>02:24:00 PM</td>\n",
       "      <td>22704</td>\n",
       "      <td>WRAP RED APPLES</td>\n",
       "      <td>25</td>\n",
       "      <td>0.42</td>\n",
       "      <td>10.50</td>\n",
       "      <td>13919.0</td>\n",
       "      <td>Denmark</td>\n",
       "    </tr>\n",
       "    <tr>\n",
       "      <th>258685</th>\n",
       "      <td>559668</td>\n",
       "      <td>11-07-2011</td>\n",
       "      <td>01:40:00 PM</td>\n",
       "      <td>22993</td>\n",
       "      <td>SET OF 4 PANTRY JELLY MOULDS</td>\n",
       "      <td>12</td>\n",
       "      <td>1.25</td>\n",
       "      <td>15.00</td>\n",
       "      <td>13394.0</td>\n",
       "      <td>United Kingdom</td>\n",
       "    </tr>\n",
       "    <tr>\n",
       "      <th>241982</th>\n",
       "      <td>558263</td>\n",
       "      <td>28-06-2011</td>\n",
       "      <td>08:50:00 AM</td>\n",
       "      <td>23019</td>\n",
       "      <td>SMALL APOTHECARY MEASURING JAR</td>\n",
       "      <td>12</td>\n",
       "      <td>7.45</td>\n",
       "      <td>89.40</td>\n",
       "      <td>14646.0</td>\n",
       "      <td>Netherlands</td>\n",
       "    </tr>\n",
       "  </tbody>\n",
       "</table>\n",
       "</div>"
      ],
      "text/plain": [
       "       InvoiceNo InvoiceDate  InvoiceTime StockCode  \\\n",
       "112240    545890  07-03-2011  04:39:00 PM     22327   \n",
       "370259    569133  30-09-2011  02:06:00 PM    47504K   \n",
       "391282    570666  11-10-2011  02:24:00 PM     22704   \n",
       "258685    559668  11-07-2011  01:40:00 PM     22993   \n",
       "241982    558263  28-06-2011  08:50:00 AM     23019   \n",
       "\n",
       "                              Description  Quantity  UnitPrice  Totalsale  \\\n",
       "112240  ROUND SNACK BOXES SET OF 4 SKULLS         6       2.95      17.70   \n",
       "370259      ENGLISH ROSE GARDEN SECATEURS        12       0.79       9.48   \n",
       "391282                   WRAP RED APPLES         25       0.42      10.50   \n",
       "258685       SET OF 4 PANTRY JELLY MOULDS        12       1.25      15.00   \n",
       "241982    SMALL APOTHECARY MEASURING JAR         12       7.45      89.40   \n",
       "\n",
       "        CustomerID         Country  \n",
       "112240     16782.0  United Kingdom  \n",
       "370259     15185.0  United Kingdom  \n",
       "391282     13919.0         Denmark  \n",
       "258685     13394.0  United Kingdom  \n",
       "241982     14646.0     Netherlands  "
      ]
     },
     "execution_count": 3,
     "metadata": {},
     "output_type": "execute_result"
    }
   ],
   "source": [
    "df = pd.read_csv('Online Retail.csv')\n",
    "\n",
    "# Print 5 samples\n",
    "df.sample(5)"
   ]
  },
  {
   "cell_type": "markdown",
   "metadata": {},
   "source": [
    "### _2.3. How many rows and columns ?_"
   ]
  },
  {
   "cell_type": "code",
   "execution_count": 6,
   "metadata": {},
   "outputs": [
    {
     "name": "stdout",
     "output_type": "stream",
     "text": [
      "There are 541909 rows and 10 columns.\n",
      "There are 5268 duplicated rows.\n",
      "InvoiceNo       object\n",
      "InvoiceDate     object\n",
      "InvoiceTime     object\n",
      "StockCode       object\n",
      "Description     object\n",
      "Quantity         int64\n",
      "UnitPrice      float64\n",
      "Totalsale      float64\n",
      "CustomerID     float64\n",
      "Country         object\n",
      "dtype: object\n",
      "Check the above output to see the data type of each column.\n"
     ]
    }
   ],
   "source": [
    "# How many rows and how many columns?\n",
    "rows, cols = df.shape\n",
    "print(f'There are {rows} rows and {cols} columns.')\n",
    "\n",
    "# Are there duplicated rows?\n",
    "duplicates = df.duplicated().sum()\n",
    "print(f'There are {duplicates} duplicated rows.')\n",
    "\n",
    "# What is the current data type of each column? Are there columns having inappropriate data types?\n",
    "print(df.dtypes)\n",
    "print('Check the above output to see the data type of each column.')"
   ]
  },
  {
   "cell_type": "markdown",
   "metadata": {},
   "source": [
    "- The meaning of each row: a transactions of an online retail company based in the UK. \n",
    "\n",
    "- The meaning of each column: \n",
    "    + InvoiceNo: Transactions ID for successfull orders\n",
    "    + InvoiceDate: Date in which the orders place\n",
    "    + InvoiceTime: Time stamp in which the orders place relevant to geoghraphical location\n",
    "    + StockCode: Products ID\n",
    "    + Description: Name of product (contain some missing names of products which are return, damaged, lost etc...)\n",
    "    + Quantity: The quantity of products sold (contain negative number of quantity which are return,damageded, lost etc...)\n",
    "    + UnitPrice: Selling price of a single unit of product\n",
    "    + Totalsale: Total of selling price\n",
    "    + CustomerID: Customer Id\n",
    "    + Country: Country Name"
   ]
  },
  {
   "cell_type": "code",
   "execution_count": 8,
   "metadata": {},
   "outputs": [
    {
     "name": "stderr",
     "output_type": "stream",
     "text": [
      "C:\\Users\\PhamDangSonHa\\AppData\\Local\\Temp\\ipykernel_20312\\2281663275.py:6: UserWarning: Could not infer format, so each element will be parsed individually, falling back to `dateutil`. To ensure parsing is consistent and as-expected, please specify a format.\n",
      "  df['InvoiceTime'] = pd.to_datetime(df['InvoiceTime']).dt.time\n"
     ]
    },
    {
     "name": "stdout",
     "output_type": "stream",
     "text": [
      "InvoiceNo              object\n",
      "InvoiceDate    datetime64[ns]\n",
      "InvoiceTime            object\n",
      "StockCode              object\n",
      "Description            object\n",
      "Quantity                int64\n",
      "UnitPrice             float64\n",
      "Totalsale             float64\n",
      "CustomerID            float64\n",
      "Country                object\n",
      "dtype: object\n"
     ]
    }
   ],
   "source": [
    "# Convert InvoiceNo to string\n",
    "df['InvoiceNo'] = df['InvoiceNo'].astype(str)\n",
    "\n",
    "# Convert InvoiceDate and InvoiceTime to datetime\n",
    "df['InvoiceDate'] = pd.to_datetime(df['InvoiceDate'], format='%d-%m-%Y')\n",
    "df['InvoiceTime'] = pd.to_datetime(df['InvoiceTime']).dt.time\n",
    "\n",
    "# Convert StockCode to string\n",
    "df['StockCode'] = df['StockCode'].astype(str)\n",
    "\n",
    "# Convert Description to string\n",
    "df['Description'] = df['Description'].astype(str)\n",
    "\n",
    "# Quantity is already an integer, so no conversion is needed\n",
    "\n",
    "# UnitPrice, Totalsale, and CustomerID are already in appropriate formats\n",
    "\n",
    "# Convert Country to string\n",
    "df['Country'] = df['Country'].astype(str)\n",
    "\n",
    "# Check the data types after conversion\n",
    "print(df.dtypes)"
   ]
  },
  {
   "cell_type": "code",
   "execution_count": 10,
   "metadata": {},
   "outputs": [
    {
     "data": {
      "image/png": "[encoded data removed]",
      "text/plain": [
       "<Figure size 640x480 with 1 Axes>"
      ]
     },
     "metadata": {},
     "output_type": "display_data"
    },
    {
     "data": {
      "image/png": "[encoded data removed]",
      "text/plain": [
       "<Figure size 640x480 with 1 Axes>"
      ]
     },
     "metadata": {},
     "output_type": "display_data"
    },
    {
     "data": {
      "image/png": "[encoded data removed]",
      "text/plain": [
       "<Figure size 640x480 with 1 Axes>"
      ]
     },
     "metadata": {},
     "output_type": "display_data"
    },
    {
     "data": {
      "image/png": "[encoded data removed]",
      "text/plain": [
       "<Figure size 640x480 with 1 Axes>"
      ]
     },
     "metadata": {},
     "output_type": "display_data"
    },
    {
     "name": "stdout",
     "output_type": "stream",
     "text": [
      "Percentage of missing values:\n",
      "InvoiceNo       0.000000\n",
      "InvoiceDate     0.000000\n",
      "InvoiceTime     0.000000\n",
      "StockCode       0.000000\n",
      "Description     0.000000\n",
      "Quantity        0.000000\n",
      "UnitPrice       0.000000\n",
      "Totalsale       0.000000\n",
      "CustomerID     24.926694\n",
      "Country         0.000000\n",
      "dtype: float64\n",
      "Min values:\n",
      "InvoiceNo                              536365\n",
      "InvoiceDate               2010-12-01 00:00:00\n",
      "InvoiceTime                          06:10:00\n",
      "StockCode                               10002\n",
      "Description     4 PURPLE FLOCK DINNER CANDLES\n",
      "Quantity                               -80995\n",
      "UnitPrice                           -11062.06\n",
      "Totalsale                           -168469.6\n",
      "CustomerID                            12346.0\n",
      "Country                             Australia\n",
      "dtype: object\n",
      "Max values:\n",
      "InvoiceNo                  C581569\n",
      "InvoiceDate    2011-12-09 00:00:00\n",
      "InvoiceTime               20:38:00\n",
      "StockCode                        m\n",
      "Description      wrongly sold sets\n",
      "Quantity                     80995\n",
      "UnitPrice                  38970.0\n",
      "Totalsale                 168469.6\n",
      "CustomerID                 18287.0\n",
      "Country                Unspecified\n",
      "dtype: object\n"
     ]
    }
   ],
   "source": [
    "# For each numerical column, plot a histogram to see how values are distributed\n",
    "numerical_columns = df.select_dtypes(include=['int64', 'float64']).columns\n",
    "for col in numerical_columns:\n",
    "    plt.figure()\n",
    "    df[col].plot(kind='hist', rwidth=0.8)\n",
    "    plt.title(col)\n",
    "plt.show()\n",
    "\n",
    "# Calculate the percentage of missing values\n",
    "missing_values = df.isnull().sum() / len(df) * 100\n",
    "print(f'Percentage of missing values:\\n{missing_values}')\n",
    "\n",
    "# Calculate min and max values\n",
    "min_values = df.min()\n",
    "max_values = df.max()\n",
    "print(f'Min values:\\n{min_values}\\nMax values:\\n{max_values}')"
   ]
  },
  {
   "cell_type": "code",
   "execution_count": 11,
   "metadata": {},
   "outputs": [
    {
     "name": "stdout",
     "output_type": "stream",
     "text": [
      "\n",
      "Column: InvoiceNo\n",
      "InvoiceNo\n",
      "573585     1114\n",
      "581219      749\n",
      "581492      731\n",
      "580729      721\n",
      "558475      705\n",
      "           ... \n",
      "554023        1\n",
      "554022        1\n",
      "554021        1\n",
      "554020        1\n",
      "C558901       1\n",
      "Name: count, Length: 25900, dtype: int64\n",
      "\n",
      "Column: InvoiceTime\n",
      "InvoiceTime\n",
      "15:56:00    2628\n",
      "14:41:00    2554\n",
      "15:17:00    2376\n",
      "16:14:00    2372\n",
      "14:09:00    2172\n",
      "            ... \n",
      "06:14:00       1\n",
      "06:13:00       1\n",
      "06:12:00       1\n",
      "20:32:00       1\n",
      "06:21:00       1\n",
      "Name: count, Length: 774, dtype: int64\n",
      "\n",
      "Column: StockCode\n",
      "StockCode\n",
      "85123A    2313\n",
      "22423     2203\n",
      "85099B    2159\n",
      "47566     1727\n",
      "20725     1639\n",
      "          ... \n",
      "21431        1\n",
      "22275        1\n",
      "17001        1\n",
      "90187A       1\n",
      "72759        1\n",
      "Name: count, Length: 4070, dtype: int64\n",
      "\n",
      "Column: Description\n",
      "Description\n",
      "WHITE HANGING HEART T-LIGHT HOLDER     2369\n",
      "REGENCY CAKESTAND 3 TIER               2200\n",
      "JUMBO BAG RED RETROSPOT                2159\n",
      "PARTY BUNTING                          1727\n",
      "LUNCH BAG RED RETROSPOT                1638\n",
      "                                       ... \n",
      "Missing                                   1\n",
      "historic computer difference?....se       1\n",
      "DUSTY PINK CHRISTMAS TREE 30CM            1\n",
      "WRAP BLUE RUSSIAN FOLKART                 1\n",
      "PINK BERTIE MOBILE PHONE CHARM            1\n",
      "Name: count, Length: 4224, dtype: int64\n",
      "\n",
      "Column: Country\n",
      "Country\n",
      "United Kingdom          495478\n",
      "Germany                   9495\n",
      "France                    8557\n",
      "EIRE                      8196\n",
      "Spain                     2533\n",
      "Netherlands               2371\n",
      "Belgium                   2069\n",
      "Switzerland               2002\n",
      "Portugal                  1519\n",
      "Australia                 1259\n",
      "Norway                    1086\n",
      "Italy                      803\n",
      "Channel Islands            758\n",
      "Finland                    695\n",
      "Cyprus                     622\n",
      "Sweden                     462\n",
      "Unspecified                446\n",
      "Austria                    401\n",
      "Denmark                    389\n",
      "Japan                      358\n",
      "Poland                     341\n",
      "Israel                     297\n",
      "USA                        291\n",
      "Hong Kong                  288\n",
      "Singapore                  229\n",
      "Iceland                    182\n",
      "Canada                     151\n",
      "Greece                     146\n",
      "Malta                      127\n",
      "United Arab Emirates        68\n",
      "European Community          61\n",
      "RSA                         58\n",
      "Lebanon                     45\n",
      "Lithuania                   35\n",
      "Brazil                      32\n",
      "Czech Republic              30\n",
      "Bahrain                     19\n",
      "Saudi Arabia                10\n",
      "Name: count, dtype: int64\n",
      "\n",
      "Percentage of missing values:\n",
      "InvoiceNo       0.000000\n",
      "InvoiceDate     0.000000\n",
      "InvoiceTime     0.000000\n",
      "StockCode       0.000000\n",
      "Description     0.000000\n",
      "Quantity        0.000000\n",
      "UnitPrice       0.000000\n",
      "Totalsale       0.000000\n",
      "CustomerID     24.926694\n",
      "Country         0.000000\n",
      "dtype: float64\n",
      "\n",
      "Column: InvoiceNo\n",
      "Number of unique values: 25900\n",
      "Some unique values: ['536365' '536366' '536367' '536368' '536369']\n",
      "\n",
      "Column: InvoiceTime\n",
      "Number of unique values: 774\n",
      "Some unique values: [datetime.time(8, 26) datetime.time(8, 28) datetime.time(8, 34)\n",
      " datetime.time(8, 35) datetime.time(8, 45)]\n",
      "\n",
      "Column: StockCode\n",
      "Number of unique values: 4070\n",
      "Some unique values: ['85123A' '71053' '84406B' '84029G' '84029E']\n",
      "\n",
      "Column: Description\n",
      "Number of unique values: 4224\n",
      "Some unique values: ['WHITE HANGING HEART T-LIGHT HOLDER' 'WHITE METAL LANTERN'\n",
      " 'CREAM CUPID HEARTS COAT HANGER' 'KNITTED UNION FLAG HOT WATER BOTTLE'\n",
      " 'RED WOOLLY HOTTIE WHITE HEART.']\n",
      "\n",
      "Column: Country\n",
      "Number of unique values: 38\n",
      "Some unique values: ['United Kingdom' 'France' 'Australia' 'Netherlands' 'Germany']\n"
     ]
    }
   ],
   "source": [
    "# For each categorical column, print the value counts to see how values are distributed\n",
    "categorical_columns = df.select_dtypes(include=['object']).columns\n",
    "for col in categorical_columns:\n",
    "    print(f'\\nColumn: {col}')\n",
    "    print(df[col].value_counts())\n",
    "\n",
    "# Print the number of unique values and a few examples for each categorical column\n",
    "for col in categorical_columns:\n",
    "    unique_values = df[col].unique()\n",
    "    print(f'\\nColumn: {col}')\n",
    "    print(f'Number of unique values: {len(unique_values)}')\n",
    "    print(f'Some unique values: {unique_values[:5]}')"
   ]
  },
  {
   "cell_type": "markdown",
   "metadata": {},
   "source": [
    "## 3. Asking Meaningful Questions And Analyzing"
   ]
  },
  {
   "cell_type": "markdown",
   "metadata": {},
   "source": [
    "## 4. Reflection"
   ]
  },
  {
   "cell_type": "markdown",
   "metadata": {},
   "source": [
    "## 5. References"
   ]
  }
 ],
 "metadata": {
  "kernelspec": {
   "display_name": "Python 3",
   "language": "python",
   "name": "python3"
  },
  "language_info": {
   "codemirror_mode": {
    "name": "ipython",
    "version": 3
   },
   "file_extension": ".py",
   "mimetype": "text/x-python",
   "name": "python",
   "nbconvert_exporter": "python",
   "pygments_lexer": "ipython3",
   "version": "3.9.18"
  }
 },
 "nbformat": 4,
 "nbformat_minor": 2
}
